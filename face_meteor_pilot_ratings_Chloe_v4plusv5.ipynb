{
 "cells": [
  {
   "cell_type": "markdown",
   "metadata": {},
   "source": [
    "# Setup packages"
   ]
  },
  {
   "cell_type": "code",
   "execution_count": 9,
   "metadata": {},
   "outputs": [],
   "source": [
    "%matplotlib inline\n",
    "%config InlineBackend.figure_format = 'retina'\n",
    "import os\n",
    "import pandas as pd\n",
    "import matplotlib.pylab as plt\n",
    "import numpy as np\n",
    "import seaborn as sns\n",
    "# from pymer4.models import Lmer\n",
    "from natsort import natsorted, ns\n",
    "import glob\n",
    "import networkx as nx\n",
    "from scipy.stats import pearsonr\n",
    "\n",
    "fpath = 'C:/Users/becha/Desktop/Face_meteor_analysis'"
   ]
  },
  {
   "cell_type": "markdown",
   "metadata": {},
   "source": [
    "## Loading data for analysis"
   ]
  },
  {
   "cell_type": "code",
   "execution_count": 10,
   "metadata": {},
   "outputs": [
    {
     "name": "stdout",
     "output_type": "stream",
     "text": [
      "There are 102 groups for v4+v5.\n"
     ]
    }
   ],
   "source": [
    "datalist = natsorted(glob.glob(os.path.join(fpath,'Data', 'preprocessed_data', 'preprocessed_data', \"v4+v5\",\"*\")))\n",
    "len(datalist)\n",
    "print('There are',len(datalist),'groups for v4+v5.')"
   ]
  },
  {
   "cell_type": "code",
   "execution_count": 11,
   "metadata": {},
   "outputs": [],
   "source": [
    "lst = []\n",
    "\n",
    "def loop_directory(directory: str):\n",
    "    '''Loop files in the directory'''\n",
    "\n",
    "    for filename in os.listdir(directory):\n",
    "            if filename.endswith(\".csv\"):\n",
    "                file_directory = os.path.join(directory, filename)\n",
    "                lst.append(file_directory)\n",
    "                pd.read_csv(file_directory)\n",
    "                \n",
    "                \n",
    "            else:\n",
    "                continue\n",
    "#     print(lst)"
   ]
  },
  {
   "cell_type": "markdown",
   "metadata": {},
   "source": [
    "### The data of games"
   ]
  },
  {
   "cell_type": "code",
   "execution_count": 12,
   "metadata": {},
   "outputs": [],
   "source": [
    "loop_directory('C:/Users/becha/Desktop/Face_meteor_analysis/Data/preprocessed_data/preprocessed_data/v4+v5')"
   ]
  },
  {
   "cell_type": "code",
   "execution_count": 13,
   "metadata": {},
   "outputs": [
    {
     "data": {
      "text/plain": [
       "['C:/Users/becha/Desktop/Face_meteor_analysis/Data/preprocessed_data/preprocessed_data/v4+v5\\\\group_100_v5.csv',\n",
       " 'C:/Users/becha/Desktop/Face_meteor_analysis/Data/preprocessed_data/preprocessed_data/v4+v5\\\\group_101_v5.csv',\n",
       " 'C:/Users/becha/Desktop/Face_meteor_analysis/Data/preprocessed_data/preprocessed_data/v4+v5\\\\group_103_v5.csv',\n",
       " 'C:/Users/becha/Desktop/Face_meteor_analysis/Data/preprocessed_data/preprocessed_data/v4+v5\\\\group_104_v5.csv',\n",
       " 'C:/Users/becha/Desktop/Face_meteor_analysis/Data/preprocessed_data/preprocessed_data/v4+v5\\\\group_105_v5.csv',\n",
       " 'C:/Users/becha/Desktop/Face_meteor_analysis/Data/preprocessed_data/preprocessed_data/v4+v5\\\\group_106_v5.csv',\n",
       " 'C:/Users/becha/Desktop/Face_meteor_analysis/Data/preprocessed_data/preprocessed_data/v4+v5\\\\group_107_v5.csv',\n",
       " 'C:/Users/becha/Desktop/Face_meteor_analysis/Data/preprocessed_data/preprocessed_data/v4+v5\\\\group_108_v5.csv',\n",
       " 'C:/Users/becha/Desktop/Face_meteor_analysis/Data/preprocessed_data/preprocessed_data/v4+v5\\\\group_109_v5.csv',\n",
       " 'C:/Users/becha/Desktop/Face_meteor_analysis/Data/preprocessed_data/preprocessed_data/v4+v5\\\\group_110_v5.csv',\n",
       " 'C:/Users/becha/Desktop/Face_meteor_analysis/Data/preprocessed_data/preprocessed_data/v4+v5\\\\group_111_v5.csv',\n",
       " 'C:/Users/becha/Desktop/Face_meteor_analysis/Data/preprocessed_data/preprocessed_data/v4+v5\\\\group_112_v5.csv',\n",
       " 'C:/Users/becha/Desktop/Face_meteor_analysis/Data/preprocessed_data/preprocessed_data/v4+v5\\\\group_113_v5.csv',\n",
       " 'C:/Users/becha/Desktop/Face_meteor_analysis/Data/preprocessed_data/preprocessed_data/v4+v5\\\\group_114_v5.csv',\n",
       " 'C:/Users/becha/Desktop/Face_meteor_analysis/Data/preprocessed_data/preprocessed_data/v4+v5\\\\group_116_v5.csv',\n",
       " 'C:/Users/becha/Desktop/Face_meteor_analysis/Data/preprocessed_data/preprocessed_data/v4+v5\\\\group_117_v5.csv',\n",
       " 'C:/Users/becha/Desktop/Face_meteor_analysis/Data/preprocessed_data/preprocessed_data/v4+v5\\\\group_118_v5.csv',\n",
       " 'C:/Users/becha/Desktop/Face_meteor_analysis/Data/preprocessed_data/preprocessed_data/v4+v5\\\\group_119_v5.csv',\n",
       " 'C:/Users/becha/Desktop/Face_meteor_analysis/Data/preprocessed_data/preprocessed_data/v4+v5\\\\group_129_v4.csv',\n",
       " 'C:/Users/becha/Desktop/Face_meteor_analysis/Data/preprocessed_data/preprocessed_data/v4+v5\\\\group_130_v4.csv',\n",
       " 'C:/Users/becha/Desktop/Face_meteor_analysis/Data/preprocessed_data/preprocessed_data/v4+v5\\\\group_131_v4.csv',\n",
       " 'C:/Users/becha/Desktop/Face_meteor_analysis/Data/preprocessed_data/preprocessed_data/v4+v5\\\\group_132_v4.csv',\n",
       " 'C:/Users/becha/Desktop/Face_meteor_analysis/Data/preprocessed_data/preprocessed_data/v4+v5\\\\group_134_v4.csv',\n",
       " 'C:/Users/becha/Desktop/Face_meteor_analysis/Data/preprocessed_data/preprocessed_data/v4+v5\\\\group_135_v4.csv',\n",
       " 'C:/Users/becha/Desktop/Face_meteor_analysis/Data/preprocessed_data/preprocessed_data/v4+v5\\\\group_159_v4.csv',\n",
       " 'C:/Users/becha/Desktop/Face_meteor_analysis/Data/preprocessed_data/preprocessed_data/v4+v5\\\\group_160_v4.csv',\n",
       " 'C:/Users/becha/Desktop/Face_meteor_analysis/Data/preprocessed_data/preprocessed_data/v4+v5\\\\group_161_v4.csv',\n",
       " 'C:/Users/becha/Desktop/Face_meteor_analysis/Data/preprocessed_data/preprocessed_data/v4+v5\\\\group_162_v4.csv',\n",
       " 'C:/Users/becha/Desktop/Face_meteor_analysis/Data/preprocessed_data/preprocessed_data/v4+v5\\\\group_189_v4.csv',\n",
       " 'C:/Users/becha/Desktop/Face_meteor_analysis/Data/preprocessed_data/preprocessed_data/v4+v5\\\\group_190_v4.csv',\n",
       " 'C:/Users/becha/Desktop/Face_meteor_analysis/Data/preprocessed_data/preprocessed_data/v4+v5\\\\group_191_v4.csv',\n",
       " 'C:/Users/becha/Desktop/Face_meteor_analysis/Data/preprocessed_data/preprocessed_data/v4+v5\\\\group_192_v4.csv',\n",
       " 'C:/Users/becha/Desktop/Face_meteor_analysis/Data/preprocessed_data/preprocessed_data/v4+v5\\\\group_193_v4.csv',\n",
       " 'C:/Users/becha/Desktop/Face_meteor_analysis/Data/preprocessed_data/preprocessed_data/v4+v5\\\\group_194_v4.csv',\n",
       " 'C:/Users/becha/Desktop/Face_meteor_analysis/Data/preprocessed_data/preprocessed_data/v4+v5\\\\group_196_v4.csv',\n",
       " 'C:/Users/becha/Desktop/Face_meteor_analysis/Data/preprocessed_data/preprocessed_data/v4+v5\\\\group_197_v4.csv',\n",
       " 'C:/Users/becha/Desktop/Face_meteor_analysis/Data/preprocessed_data/preprocessed_data/v4+v5\\\\group_198_v5.csv',\n",
       " 'C:/Users/becha/Desktop/Face_meteor_analysis/Data/preprocessed_data/preprocessed_data/v4+v5\\\\group_199_v5.csv',\n",
       " 'C:/Users/becha/Desktop/Face_meteor_analysis/Data/preprocessed_data/preprocessed_data/v4+v5\\\\group_200_v5.csv',\n",
       " 'C:/Users/becha/Desktop/Face_meteor_analysis/Data/preprocessed_data/preprocessed_data/v4+v5\\\\group_202_v5.csv',\n",
       " 'C:/Users/becha/Desktop/Face_meteor_analysis/Data/preprocessed_data/preprocessed_data/v4+v5\\\\group_203_v5.csv',\n",
       " 'C:/Users/becha/Desktop/Face_meteor_analysis/Data/preprocessed_data/preprocessed_data/v4+v5\\\\group_204_v5.csv',\n",
       " 'C:/Users/becha/Desktop/Face_meteor_analysis/Data/preprocessed_data/preprocessed_data/v4+v5\\\\group_205_v5.csv',\n",
       " 'C:/Users/becha/Desktop/Face_meteor_analysis/Data/preprocessed_data/preprocessed_data/v4+v5\\\\group_206_v5.csv',\n",
       " 'C:/Users/becha/Desktop/Face_meteor_analysis/Data/preprocessed_data/preprocessed_data/v4+v5\\\\group_215_v4.csv',\n",
       " 'C:/Users/becha/Desktop/Face_meteor_analysis/Data/preprocessed_data/preprocessed_data/v4+v5\\\\group_216_v4.csv',\n",
       " 'C:/Users/becha/Desktop/Face_meteor_analysis/Data/preprocessed_data/preprocessed_data/v4+v5\\\\group_218_v4.csv',\n",
       " 'C:/Users/becha/Desktop/Face_meteor_analysis/Data/preprocessed_data/preprocessed_data/v4+v5\\\\group_37_v4.csv',\n",
       " 'C:/Users/becha/Desktop/Face_meteor_analysis/Data/preprocessed_data/preprocessed_data/v4+v5\\\\group_38_v4.csv',\n",
       " 'C:/Users/becha/Desktop/Face_meteor_analysis/Data/preprocessed_data/preprocessed_data/v4+v5\\\\group_39_v4.csv',\n",
       " 'C:/Users/becha/Desktop/Face_meteor_analysis/Data/preprocessed_data/preprocessed_data/v4+v5\\\\group_40_v4.csv',\n",
       " 'C:/Users/becha/Desktop/Face_meteor_analysis/Data/preprocessed_data/preprocessed_data/v4+v5\\\\group_41_v4.csv',\n",
       " 'C:/Users/becha/Desktop/Face_meteor_analysis/Data/preprocessed_data/preprocessed_data/v4+v5\\\\group_42_v4.csv',\n",
       " 'C:/Users/becha/Desktop/Face_meteor_analysis/Data/preprocessed_data/preprocessed_data/v4+v5\\\\group_43_v4.csv',\n",
       " 'C:/Users/becha/Desktop/Face_meteor_analysis/Data/preprocessed_data/preprocessed_data/v4+v5\\\\group_44_v4.csv',\n",
       " 'C:/Users/becha/Desktop/Face_meteor_analysis/Data/preprocessed_data/preprocessed_data/v4+v5\\\\group_45_v4.csv',\n",
       " 'C:/Users/becha/Desktop/Face_meteor_analysis/Data/preprocessed_data/preprocessed_data/v4+v5\\\\group_46_v4.csv',\n",
       " 'C:/Users/becha/Desktop/Face_meteor_analysis/Data/preprocessed_data/preprocessed_data/v4+v5\\\\group_47_v4.csv',\n",
       " 'C:/Users/becha/Desktop/Face_meteor_analysis/Data/preprocessed_data/preprocessed_data/v4+v5\\\\group_48_v4.csv',\n",
       " 'C:/Users/becha/Desktop/Face_meteor_analysis/Data/preprocessed_data/preprocessed_data/v4+v5\\\\group_49_v4.csv',\n",
       " 'C:/Users/becha/Desktop/Face_meteor_analysis/Data/preprocessed_data/preprocessed_data/v4+v5\\\\group_50_v4.csv',\n",
       " 'C:/Users/becha/Desktop/Face_meteor_analysis/Data/preprocessed_data/preprocessed_data/v4+v5\\\\group_51_v4.csv',\n",
       " 'C:/Users/becha/Desktop/Face_meteor_analysis/Data/preprocessed_data/preprocessed_data/v4+v5\\\\group_52_v5.csv',\n",
       " 'C:/Users/becha/Desktop/Face_meteor_analysis/Data/preprocessed_data/preprocessed_data/v4+v5\\\\group_53_v5.csv',\n",
       " 'C:/Users/becha/Desktop/Face_meteor_analysis/Data/preprocessed_data/preprocessed_data/v4+v5\\\\group_54_v5.csv',\n",
       " 'C:/Users/becha/Desktop/Face_meteor_analysis/Data/preprocessed_data/preprocessed_data/v4+v5\\\\group_55_v5.csv',\n",
       " 'C:/Users/becha/Desktop/Face_meteor_analysis/Data/preprocessed_data/preprocessed_data/v4+v5\\\\group_57_v5.csv',\n",
       " 'C:/Users/becha/Desktop/Face_meteor_analysis/Data/preprocessed_data/preprocessed_data/v4+v5\\\\group_58_v5.csv',\n",
       " 'C:/Users/becha/Desktop/Face_meteor_analysis/Data/preprocessed_data/preprocessed_data/v4+v5\\\\group_60_v5.csv',\n",
       " 'C:/Users/becha/Desktop/Face_meteor_analysis/Data/preprocessed_data/preprocessed_data/v4+v5\\\\group_62_v5.csv',\n",
       " 'C:/Users/becha/Desktop/Face_meteor_analysis/Data/preprocessed_data/preprocessed_data/v4+v5\\\\group_63_v5.csv',\n",
       " 'C:/Users/becha/Desktop/Face_meteor_analysis/Data/preprocessed_data/preprocessed_data/v4+v5\\\\group_66_v5.csv',\n",
       " 'C:/Users/becha/Desktop/Face_meteor_analysis/Data/preprocessed_data/preprocessed_data/v4+v5\\\\group_67_v5.csv',\n",
       " 'C:/Users/becha/Desktop/Face_meteor_analysis/Data/preprocessed_data/preprocessed_data/v4+v5\\\\group_69_v5.csv',\n",
       " 'C:/Users/becha/Desktop/Face_meteor_analysis/Data/preprocessed_data/preprocessed_data/v4+v5\\\\group_71_v5.csv',\n",
       " 'C:/Users/becha/Desktop/Face_meteor_analysis/Data/preprocessed_data/preprocessed_data/v4+v5\\\\group_72_v5.csv',\n",
       " 'C:/Users/becha/Desktop/Face_meteor_analysis/Data/preprocessed_data/preprocessed_data/v4+v5\\\\group_73_v5.csv',\n",
       " 'C:/Users/becha/Desktop/Face_meteor_analysis/Data/preprocessed_data/preprocessed_data/v4+v5\\\\group_74_v5.csv',\n",
       " 'C:/Users/becha/Desktop/Face_meteor_analysis/Data/preprocessed_data/preprocessed_data/v4+v5\\\\group_75_v5.csv',\n",
       " 'C:/Users/becha/Desktop/Face_meteor_analysis/Data/preprocessed_data/preprocessed_data/v4+v5\\\\group_76_v4.csv',\n",
       " 'C:/Users/becha/Desktop/Face_meteor_analysis/Data/preprocessed_data/preprocessed_data/v4+v5\\\\group_77_v4.csv',\n",
       " 'C:/Users/becha/Desktop/Face_meteor_analysis/Data/preprocessed_data/preprocessed_data/v4+v5\\\\group_79_v4.csv',\n",
       " 'C:/Users/becha/Desktop/Face_meteor_analysis/Data/preprocessed_data/preprocessed_data/v4+v5\\\\group_80_v4.csv',\n",
       " 'C:/Users/becha/Desktop/Face_meteor_analysis/Data/preprocessed_data/preprocessed_data/v4+v5\\\\group_81_v4.csv',\n",
       " 'C:/Users/becha/Desktop/Face_meteor_analysis/Data/preprocessed_data/preprocessed_data/v4+v5\\\\group_82_v4.csv',\n",
       " 'C:/Users/becha/Desktop/Face_meteor_analysis/Data/preprocessed_data/preprocessed_data/v4+v5\\\\group_83_v4.csv',\n",
       " 'C:/Users/becha/Desktop/Face_meteor_analysis/Data/preprocessed_data/preprocessed_data/v4+v5\\\\group_84_v4.csv',\n",
       " 'C:/Users/becha/Desktop/Face_meteor_analysis/Data/preprocessed_data/preprocessed_data/v4+v5\\\\group_85_v4.csv',\n",
       " 'C:/Users/becha/Desktop/Face_meteor_analysis/Data/preprocessed_data/preprocessed_data/v4+v5\\\\group_86_v4.csv',\n",
       " 'C:/Users/becha/Desktop/Face_meteor_analysis/Data/preprocessed_data/preprocessed_data/v4+v5\\\\group_87_v4.csv',\n",
       " 'C:/Users/becha/Desktop/Face_meteor_analysis/Data/preprocessed_data/preprocessed_data/v4+v5\\\\group_88_v4.csv',\n",
       " 'C:/Users/becha/Desktop/Face_meteor_analysis/Data/preprocessed_data/preprocessed_data/v4+v5\\\\group_89_v4.csv',\n",
       " 'C:/Users/becha/Desktop/Face_meteor_analysis/Data/preprocessed_data/preprocessed_data/v4+v5\\\\group_90_v4.csv',\n",
       " 'C:/Users/becha/Desktop/Face_meteor_analysis/Data/preprocessed_data/preprocessed_data/v4+v5\\\\group_91_v5.csv',\n",
       " 'C:/Users/becha/Desktop/Face_meteor_analysis/Data/preprocessed_data/preprocessed_data/v4+v5\\\\group_92_v5.csv',\n",
       " 'C:/Users/becha/Desktop/Face_meteor_analysis/Data/preprocessed_data/preprocessed_data/v4+v5\\\\group_93_v5.csv',\n",
       " 'C:/Users/becha/Desktop/Face_meteor_analysis/Data/preprocessed_data/preprocessed_data/v4+v5\\\\group_94_v5.csv',\n",
       " 'C:/Users/becha/Desktop/Face_meteor_analysis/Data/preprocessed_data/preprocessed_data/v4+v5\\\\group_95_v5.csv',\n",
       " 'C:/Users/becha/Desktop/Face_meteor_analysis/Data/preprocessed_data/preprocessed_data/v4+v5\\\\group_96_v5.csv',\n",
       " 'C:/Users/becha/Desktop/Face_meteor_analysis/Data/preprocessed_data/preprocessed_data/v4+v5\\\\group_97_v5.csv',\n",
       " 'C:/Users/becha/Desktop/Face_meteor_analysis/Data/preprocessed_data/preprocessed_data/v4+v5\\\\group_98_v5.csv',\n",
       " 'C:/Users/becha/Desktop/Face_meteor_analysis/Data/preprocessed_data/preprocessed_data/v4+v5\\\\group_99_v5.csv']"
      ]
     },
     "execution_count": 13,
     "metadata": {},
     "output_type": "execute_result"
    }
   ],
   "source": [
    "lst\n",
    "# print(len(lst))"
   ]
  },
  {
   "cell_type": "code",
   "execution_count": 14,
   "metadata": {},
   "outputs": [],
   "source": [
    "# df0 = pd.read_csv(lst[0])\n",
    "# df1 = pd.read_csv(lst[1])\n",
    "# df2 = pd.read_csv(lst[2])\n",
    "# df3 = pd.read_csv(lst[3])\n",
    "# df4 = pd.read_csv(lst[4])\n",
    "# df5 = pd.read_csv(lst[5])\n",
    "\n",
    "datlst = []\n",
    "for i in range(0, len(lst)):\n",
    "    datlst.append(\"df\" + str(i))\n",
    "    globals()[\"df\" + str(i)] = pd.read_csv(lst[i])"
   ]
  },
  {
   "cell_type": "code",
   "execution_count": 15,
   "metadata": {},
   "outputs": [
    {
     "data": {
      "text/plain": [
       "['df0',\n",
       " 'df1',\n",
       " 'df2',\n",
       " 'df3',\n",
       " 'df4',\n",
       " 'df5',\n",
       " 'df6',\n",
       " 'df7',\n",
       " 'df8',\n",
       " 'df9',\n",
       " 'df10',\n",
       " 'df11',\n",
       " 'df12',\n",
       " 'df13',\n",
       " 'df14',\n",
       " 'df15',\n",
       " 'df16',\n",
       " 'df17',\n",
       " 'df18',\n",
       " 'df19',\n",
       " 'df20',\n",
       " 'df21',\n",
       " 'df22',\n",
       " 'df23',\n",
       " 'df24',\n",
       " 'df25',\n",
       " 'df26',\n",
       " 'df27',\n",
       " 'df28',\n",
       " 'df29',\n",
       " 'df30',\n",
       " 'df31',\n",
       " 'df32',\n",
       " 'df33',\n",
       " 'df34',\n",
       " 'df35',\n",
       " 'df36',\n",
       " 'df37',\n",
       " 'df38',\n",
       " 'df39',\n",
       " 'df40',\n",
       " 'df41',\n",
       " 'df42',\n",
       " 'df43',\n",
       " 'df44',\n",
       " 'df45',\n",
       " 'df46',\n",
       " 'df47',\n",
       " 'df48',\n",
       " 'df49',\n",
       " 'df50',\n",
       " 'df51',\n",
       " 'df52',\n",
       " 'df53',\n",
       " 'df54',\n",
       " 'df55',\n",
       " 'df56',\n",
       " 'df57',\n",
       " 'df58',\n",
       " 'df59',\n",
       " 'df60',\n",
       " 'df61',\n",
       " 'df62',\n",
       " 'df63',\n",
       " 'df64',\n",
       " 'df65',\n",
       " 'df66',\n",
       " 'df67',\n",
       " 'df68',\n",
       " 'df69',\n",
       " 'df70',\n",
       " 'df71',\n",
       " 'df72',\n",
       " 'df73',\n",
       " 'df74',\n",
       " 'df75',\n",
       " 'df76',\n",
       " 'df77',\n",
       " 'df78',\n",
       " 'df79',\n",
       " 'df80',\n",
       " 'df81',\n",
       " 'df82',\n",
       " 'df83',\n",
       " 'df84',\n",
       " 'df85',\n",
       " 'df86',\n",
       " 'df87',\n",
       " 'df88',\n",
       " 'df89',\n",
       " 'df90',\n",
       " 'df91',\n",
       " 'df92',\n",
       " 'df93',\n",
       " 'df94',\n",
       " 'df95',\n",
       " 'df96',\n",
       " 'df97',\n",
       " 'df98',\n",
       " 'df99',\n",
       " 'df100',\n",
       " 'df101']"
      ]
     },
     "execution_count": 15,
     "metadata": {},
     "output_type": "execute_result"
    }
   ],
   "source": [
    "datlst"
   ]
  },
  {
   "cell_type": "markdown",
   "metadata": {},
   "source": [
    "### The data of ratings"
   ]
  },
  {
   "cell_type": "code",
   "execution_count": 16,
   "metadata": {},
   "outputs": [],
   "source": [
    "lst_dislike = []\n",
    "\n",
    "def loop_directory(directory: str):\n",
    "    '''Loop files in the directory'''\n",
    "\n",
    "    for filename in os.listdir(directory):\n",
    "            if filename.endswith(\".csv\"):\n",
    "                file_directory = os.path.join(directory, filename)\n",
    "                lst_dislike.append(file_directory)\n",
    "                pd.read_csv(file_directory)\n",
    "                \n",
    "                \n",
    "            else:\n",
    "                continue"
   ]
  },
  {
   "cell_type": "code",
   "execution_count": 17,
   "metadata": {},
   "outputs": [],
   "source": [
    "loop_directory('C:/Users/becha/Desktop/Face_meteor_analysis/Data/preprocessed_data_rating/preprocessed_data_rating/v4+v5')"
   ]
  },
  {
   "cell_type": "code",
   "execution_count": 18,
   "metadata": {},
   "outputs": [
    {
     "data": {
      "text/plain": [
       "['C:/Users/becha/Desktop/Face_meteor_analysis/Data/preprocessed_data_rating/preprocessed_data_rating/v4+v5\\\\rating_GroupID100.csv',\n",
       " 'C:/Users/becha/Desktop/Face_meteor_analysis/Data/preprocessed_data_rating/preprocessed_data_rating/v4+v5\\\\rating_GroupID101.csv',\n",
       " 'C:/Users/becha/Desktop/Face_meteor_analysis/Data/preprocessed_data_rating/preprocessed_data_rating/v4+v5\\\\rating_GroupID103.csv',\n",
       " 'C:/Users/becha/Desktop/Face_meteor_analysis/Data/preprocessed_data_rating/preprocessed_data_rating/v4+v5\\\\rating_GroupID104.csv',\n",
       " 'C:/Users/becha/Desktop/Face_meteor_analysis/Data/preprocessed_data_rating/preprocessed_data_rating/v4+v5\\\\rating_GroupID105.csv',\n",
       " 'C:/Users/becha/Desktop/Face_meteor_analysis/Data/preprocessed_data_rating/preprocessed_data_rating/v4+v5\\\\rating_GroupID106.csv',\n",
       " 'C:/Users/becha/Desktop/Face_meteor_analysis/Data/preprocessed_data_rating/preprocessed_data_rating/v4+v5\\\\rating_GroupID107.csv',\n",
       " 'C:/Users/becha/Desktop/Face_meteor_analysis/Data/preprocessed_data_rating/preprocessed_data_rating/v4+v5\\\\rating_GroupID108.csv',\n",
       " 'C:/Users/becha/Desktop/Face_meteor_analysis/Data/preprocessed_data_rating/preprocessed_data_rating/v4+v5\\\\rating_GroupID109.csv',\n",
       " 'C:/Users/becha/Desktop/Face_meteor_analysis/Data/preprocessed_data_rating/preprocessed_data_rating/v4+v5\\\\rating_GroupID110.csv',\n",
       " 'C:/Users/becha/Desktop/Face_meteor_analysis/Data/preprocessed_data_rating/preprocessed_data_rating/v4+v5\\\\rating_GroupID111.csv',\n",
       " 'C:/Users/becha/Desktop/Face_meteor_analysis/Data/preprocessed_data_rating/preprocessed_data_rating/v4+v5\\\\rating_GroupID112.csv',\n",
       " 'C:/Users/becha/Desktop/Face_meteor_analysis/Data/preprocessed_data_rating/preprocessed_data_rating/v4+v5\\\\rating_GroupID113.csv',\n",
       " 'C:/Users/becha/Desktop/Face_meteor_analysis/Data/preprocessed_data_rating/preprocessed_data_rating/v4+v5\\\\rating_GroupID114.csv',\n",
       " 'C:/Users/becha/Desktop/Face_meteor_analysis/Data/preprocessed_data_rating/preprocessed_data_rating/v4+v5\\\\rating_GroupID116.csv',\n",
       " 'C:/Users/becha/Desktop/Face_meteor_analysis/Data/preprocessed_data_rating/preprocessed_data_rating/v4+v5\\\\rating_GroupID117.csv',\n",
       " 'C:/Users/becha/Desktop/Face_meteor_analysis/Data/preprocessed_data_rating/preprocessed_data_rating/v4+v5\\\\rating_GroupID118.csv',\n",
       " 'C:/Users/becha/Desktop/Face_meteor_analysis/Data/preprocessed_data_rating/preprocessed_data_rating/v4+v5\\\\rating_GroupID119.csv',\n",
       " 'C:/Users/becha/Desktop/Face_meteor_analysis/Data/preprocessed_data_rating/preprocessed_data_rating/v4+v5\\\\rating_GroupID129.csv',\n",
       " 'C:/Users/becha/Desktop/Face_meteor_analysis/Data/preprocessed_data_rating/preprocessed_data_rating/v4+v5\\\\rating_GroupID130.csv',\n",
       " 'C:/Users/becha/Desktop/Face_meteor_analysis/Data/preprocessed_data_rating/preprocessed_data_rating/v4+v5\\\\rating_GroupID131.csv',\n",
       " 'C:/Users/becha/Desktop/Face_meteor_analysis/Data/preprocessed_data_rating/preprocessed_data_rating/v4+v5\\\\rating_GroupID132.csv',\n",
       " 'C:/Users/becha/Desktop/Face_meteor_analysis/Data/preprocessed_data_rating/preprocessed_data_rating/v4+v5\\\\rating_GroupID134.csv',\n",
       " 'C:/Users/becha/Desktop/Face_meteor_analysis/Data/preprocessed_data_rating/preprocessed_data_rating/v4+v5\\\\rating_GroupID135.csv',\n",
       " 'C:/Users/becha/Desktop/Face_meteor_analysis/Data/preprocessed_data_rating/preprocessed_data_rating/v4+v5\\\\rating_GroupID159.csv',\n",
       " 'C:/Users/becha/Desktop/Face_meteor_analysis/Data/preprocessed_data_rating/preprocessed_data_rating/v4+v5\\\\rating_GroupID160.csv',\n",
       " 'C:/Users/becha/Desktop/Face_meteor_analysis/Data/preprocessed_data_rating/preprocessed_data_rating/v4+v5\\\\rating_GroupID161.csv',\n",
       " 'C:/Users/becha/Desktop/Face_meteor_analysis/Data/preprocessed_data_rating/preprocessed_data_rating/v4+v5\\\\rating_GroupID162.csv',\n",
       " 'C:/Users/becha/Desktop/Face_meteor_analysis/Data/preprocessed_data_rating/preprocessed_data_rating/v4+v5\\\\rating_GroupID189.csv',\n",
       " 'C:/Users/becha/Desktop/Face_meteor_analysis/Data/preprocessed_data_rating/preprocessed_data_rating/v4+v5\\\\rating_GroupID190.csv',\n",
       " 'C:/Users/becha/Desktop/Face_meteor_analysis/Data/preprocessed_data_rating/preprocessed_data_rating/v4+v5\\\\rating_GroupID191.csv',\n",
       " 'C:/Users/becha/Desktop/Face_meteor_analysis/Data/preprocessed_data_rating/preprocessed_data_rating/v4+v5\\\\rating_GroupID192.csv',\n",
       " 'C:/Users/becha/Desktop/Face_meteor_analysis/Data/preprocessed_data_rating/preprocessed_data_rating/v4+v5\\\\rating_GroupID193.csv',\n",
       " 'C:/Users/becha/Desktop/Face_meteor_analysis/Data/preprocessed_data_rating/preprocessed_data_rating/v4+v5\\\\rating_GroupID194.csv',\n",
       " 'C:/Users/becha/Desktop/Face_meteor_analysis/Data/preprocessed_data_rating/preprocessed_data_rating/v4+v5\\\\rating_GroupID196.csv',\n",
       " 'C:/Users/becha/Desktop/Face_meteor_analysis/Data/preprocessed_data_rating/preprocessed_data_rating/v4+v5\\\\rating_GroupID197.csv',\n",
       " 'C:/Users/becha/Desktop/Face_meteor_analysis/Data/preprocessed_data_rating/preprocessed_data_rating/v4+v5\\\\rating_GroupID198.csv',\n",
       " 'C:/Users/becha/Desktop/Face_meteor_analysis/Data/preprocessed_data_rating/preprocessed_data_rating/v4+v5\\\\rating_GroupID199.csv',\n",
       " 'C:/Users/becha/Desktop/Face_meteor_analysis/Data/preprocessed_data_rating/preprocessed_data_rating/v4+v5\\\\rating_GroupID200.csv',\n",
       " 'C:/Users/becha/Desktop/Face_meteor_analysis/Data/preprocessed_data_rating/preprocessed_data_rating/v4+v5\\\\rating_GroupID202.csv',\n",
       " 'C:/Users/becha/Desktop/Face_meteor_analysis/Data/preprocessed_data_rating/preprocessed_data_rating/v4+v5\\\\rating_GroupID203.csv',\n",
       " 'C:/Users/becha/Desktop/Face_meteor_analysis/Data/preprocessed_data_rating/preprocessed_data_rating/v4+v5\\\\rating_GroupID204.csv',\n",
       " 'C:/Users/becha/Desktop/Face_meteor_analysis/Data/preprocessed_data_rating/preprocessed_data_rating/v4+v5\\\\rating_GroupID205.csv',\n",
       " 'C:/Users/becha/Desktop/Face_meteor_analysis/Data/preprocessed_data_rating/preprocessed_data_rating/v4+v5\\\\rating_GroupID206.csv',\n",
       " 'C:/Users/becha/Desktop/Face_meteor_analysis/Data/preprocessed_data_rating/preprocessed_data_rating/v4+v5\\\\rating_GroupID215.csv',\n",
       " 'C:/Users/becha/Desktop/Face_meteor_analysis/Data/preprocessed_data_rating/preprocessed_data_rating/v4+v5\\\\rating_GroupID216.csv',\n",
       " 'C:/Users/becha/Desktop/Face_meteor_analysis/Data/preprocessed_data_rating/preprocessed_data_rating/v4+v5\\\\rating_GroupID218.csv',\n",
       " 'C:/Users/becha/Desktop/Face_meteor_analysis/Data/preprocessed_data_rating/preprocessed_data_rating/v4+v5\\\\rating_GroupID37.csv',\n",
       " 'C:/Users/becha/Desktop/Face_meteor_analysis/Data/preprocessed_data_rating/preprocessed_data_rating/v4+v5\\\\rating_GroupID38.csv',\n",
       " 'C:/Users/becha/Desktop/Face_meteor_analysis/Data/preprocessed_data_rating/preprocessed_data_rating/v4+v5\\\\rating_GroupID39.csv',\n",
       " 'C:/Users/becha/Desktop/Face_meteor_analysis/Data/preprocessed_data_rating/preprocessed_data_rating/v4+v5\\\\rating_GroupID40.csv',\n",
       " 'C:/Users/becha/Desktop/Face_meteor_analysis/Data/preprocessed_data_rating/preprocessed_data_rating/v4+v5\\\\rating_GroupID41.csv',\n",
       " 'C:/Users/becha/Desktop/Face_meteor_analysis/Data/preprocessed_data_rating/preprocessed_data_rating/v4+v5\\\\rating_GroupID42.csv',\n",
       " 'C:/Users/becha/Desktop/Face_meteor_analysis/Data/preprocessed_data_rating/preprocessed_data_rating/v4+v5\\\\rating_GroupID43.csv',\n",
       " 'C:/Users/becha/Desktop/Face_meteor_analysis/Data/preprocessed_data_rating/preprocessed_data_rating/v4+v5\\\\rating_GroupID44.csv',\n",
       " 'C:/Users/becha/Desktop/Face_meteor_analysis/Data/preprocessed_data_rating/preprocessed_data_rating/v4+v5\\\\rating_GroupID45.csv',\n",
       " 'C:/Users/becha/Desktop/Face_meteor_analysis/Data/preprocessed_data_rating/preprocessed_data_rating/v4+v5\\\\rating_GroupID46.csv',\n",
       " 'C:/Users/becha/Desktop/Face_meteor_analysis/Data/preprocessed_data_rating/preprocessed_data_rating/v4+v5\\\\rating_GroupID47.csv',\n",
       " 'C:/Users/becha/Desktop/Face_meteor_analysis/Data/preprocessed_data_rating/preprocessed_data_rating/v4+v5\\\\rating_GroupID48.csv',\n",
       " 'C:/Users/becha/Desktop/Face_meteor_analysis/Data/preprocessed_data_rating/preprocessed_data_rating/v4+v5\\\\rating_GroupID49.csv',\n",
       " 'C:/Users/becha/Desktop/Face_meteor_analysis/Data/preprocessed_data_rating/preprocessed_data_rating/v4+v5\\\\rating_GroupID50.csv',\n",
       " 'C:/Users/becha/Desktop/Face_meteor_analysis/Data/preprocessed_data_rating/preprocessed_data_rating/v4+v5\\\\rating_GroupID51.csv',\n",
       " 'C:/Users/becha/Desktop/Face_meteor_analysis/Data/preprocessed_data_rating/preprocessed_data_rating/v4+v5\\\\rating_GroupID52.csv',\n",
       " 'C:/Users/becha/Desktop/Face_meteor_analysis/Data/preprocessed_data_rating/preprocessed_data_rating/v4+v5\\\\rating_GroupID53.csv',\n",
       " 'C:/Users/becha/Desktop/Face_meteor_analysis/Data/preprocessed_data_rating/preprocessed_data_rating/v4+v5\\\\rating_GroupID54.csv',\n",
       " 'C:/Users/becha/Desktop/Face_meteor_analysis/Data/preprocessed_data_rating/preprocessed_data_rating/v4+v5\\\\rating_GroupID55.csv',\n",
       " 'C:/Users/becha/Desktop/Face_meteor_analysis/Data/preprocessed_data_rating/preprocessed_data_rating/v4+v5\\\\rating_GroupID57.csv',\n",
       " 'C:/Users/becha/Desktop/Face_meteor_analysis/Data/preprocessed_data_rating/preprocessed_data_rating/v4+v5\\\\rating_GroupID58.csv',\n",
       " 'C:/Users/becha/Desktop/Face_meteor_analysis/Data/preprocessed_data_rating/preprocessed_data_rating/v4+v5\\\\rating_GroupID60.csv',\n",
       " 'C:/Users/becha/Desktop/Face_meteor_analysis/Data/preprocessed_data_rating/preprocessed_data_rating/v4+v5\\\\rating_GroupID62.csv',\n",
       " 'C:/Users/becha/Desktop/Face_meteor_analysis/Data/preprocessed_data_rating/preprocessed_data_rating/v4+v5\\\\rating_GroupID63.csv',\n",
       " 'C:/Users/becha/Desktop/Face_meteor_analysis/Data/preprocessed_data_rating/preprocessed_data_rating/v4+v5\\\\rating_GroupID66.csv',\n",
       " 'C:/Users/becha/Desktop/Face_meteor_analysis/Data/preprocessed_data_rating/preprocessed_data_rating/v4+v5\\\\rating_GroupID67.csv',\n",
       " 'C:/Users/becha/Desktop/Face_meteor_analysis/Data/preprocessed_data_rating/preprocessed_data_rating/v4+v5\\\\rating_GroupID69.csv',\n",
       " 'C:/Users/becha/Desktop/Face_meteor_analysis/Data/preprocessed_data_rating/preprocessed_data_rating/v4+v5\\\\rating_GroupID71.csv',\n",
       " 'C:/Users/becha/Desktop/Face_meteor_analysis/Data/preprocessed_data_rating/preprocessed_data_rating/v4+v5\\\\rating_GroupID72.csv',\n",
       " 'C:/Users/becha/Desktop/Face_meteor_analysis/Data/preprocessed_data_rating/preprocessed_data_rating/v4+v5\\\\rating_GroupID73.csv',\n",
       " 'C:/Users/becha/Desktop/Face_meteor_analysis/Data/preprocessed_data_rating/preprocessed_data_rating/v4+v5\\\\rating_GroupID74.csv',\n",
       " 'C:/Users/becha/Desktop/Face_meteor_analysis/Data/preprocessed_data_rating/preprocessed_data_rating/v4+v5\\\\rating_GroupID75.csv',\n",
       " 'C:/Users/becha/Desktop/Face_meteor_analysis/Data/preprocessed_data_rating/preprocessed_data_rating/v4+v5\\\\rating_GroupID76.csv',\n",
       " 'C:/Users/becha/Desktop/Face_meteor_analysis/Data/preprocessed_data_rating/preprocessed_data_rating/v4+v5\\\\rating_GroupID77.csv',\n",
       " 'C:/Users/becha/Desktop/Face_meteor_analysis/Data/preprocessed_data_rating/preprocessed_data_rating/v4+v5\\\\rating_GroupID79.csv',\n",
       " 'C:/Users/becha/Desktop/Face_meteor_analysis/Data/preprocessed_data_rating/preprocessed_data_rating/v4+v5\\\\rating_GroupID80.csv',\n",
       " 'C:/Users/becha/Desktop/Face_meteor_analysis/Data/preprocessed_data_rating/preprocessed_data_rating/v4+v5\\\\rating_GroupID81.csv',\n",
       " 'C:/Users/becha/Desktop/Face_meteor_analysis/Data/preprocessed_data_rating/preprocessed_data_rating/v4+v5\\\\rating_GroupID82.csv',\n",
       " 'C:/Users/becha/Desktop/Face_meteor_analysis/Data/preprocessed_data_rating/preprocessed_data_rating/v4+v5\\\\rating_GroupID83.csv',\n",
       " 'C:/Users/becha/Desktop/Face_meteor_analysis/Data/preprocessed_data_rating/preprocessed_data_rating/v4+v5\\\\rating_GroupID84.csv',\n",
       " 'C:/Users/becha/Desktop/Face_meteor_analysis/Data/preprocessed_data_rating/preprocessed_data_rating/v4+v5\\\\rating_GroupID85.csv',\n",
       " 'C:/Users/becha/Desktop/Face_meteor_analysis/Data/preprocessed_data_rating/preprocessed_data_rating/v4+v5\\\\rating_GroupID86.csv',\n",
       " 'C:/Users/becha/Desktop/Face_meteor_analysis/Data/preprocessed_data_rating/preprocessed_data_rating/v4+v5\\\\rating_GroupID87.csv',\n",
       " 'C:/Users/becha/Desktop/Face_meteor_analysis/Data/preprocessed_data_rating/preprocessed_data_rating/v4+v5\\\\rating_GroupID88.csv',\n",
       " 'C:/Users/becha/Desktop/Face_meteor_analysis/Data/preprocessed_data_rating/preprocessed_data_rating/v4+v5\\\\rating_GroupID89.csv',\n",
       " 'C:/Users/becha/Desktop/Face_meteor_analysis/Data/preprocessed_data_rating/preprocessed_data_rating/v4+v5\\\\rating_GroupID90.csv',\n",
       " 'C:/Users/becha/Desktop/Face_meteor_analysis/Data/preprocessed_data_rating/preprocessed_data_rating/v4+v5\\\\rating_GroupID91.csv',\n",
       " 'C:/Users/becha/Desktop/Face_meteor_analysis/Data/preprocessed_data_rating/preprocessed_data_rating/v4+v5\\\\rating_GroupID92.csv',\n",
       " 'C:/Users/becha/Desktop/Face_meteor_analysis/Data/preprocessed_data_rating/preprocessed_data_rating/v4+v5\\\\rating_GroupID93.csv',\n",
       " 'C:/Users/becha/Desktop/Face_meteor_analysis/Data/preprocessed_data_rating/preprocessed_data_rating/v4+v5\\\\rating_GroupID94.csv',\n",
       " 'C:/Users/becha/Desktop/Face_meteor_analysis/Data/preprocessed_data_rating/preprocessed_data_rating/v4+v5\\\\rating_GroupID95.csv',\n",
       " 'C:/Users/becha/Desktop/Face_meteor_analysis/Data/preprocessed_data_rating/preprocessed_data_rating/v4+v5\\\\rating_GroupID96.csv',\n",
       " 'C:/Users/becha/Desktop/Face_meteor_analysis/Data/preprocessed_data_rating/preprocessed_data_rating/v4+v5\\\\rating_GroupID97.csv',\n",
       " 'C:/Users/becha/Desktop/Face_meteor_analysis/Data/preprocessed_data_rating/preprocessed_data_rating/v4+v5\\\\rating_GroupID98.csv',\n",
       " 'C:/Users/becha/Desktop/Face_meteor_analysis/Data/preprocessed_data_rating/preprocessed_data_rating/v4+v5\\\\rating_GroupID99.csv']"
      ]
     },
     "execution_count": 18,
     "metadata": {},
     "output_type": "execute_result"
    }
   ],
   "source": [
    "lst_dislike\n",
    "# print(len(lst_dislike))"
   ]
  },
  {
   "cell_type": "code",
   "execution_count": 19,
   "metadata": {},
   "outputs": [
    {
     "data": {
      "text/plain": [
       "['df_dislike0',\n",
       " 'df_dislike1',\n",
       " 'df_dislike2',\n",
       " 'df_dislike3',\n",
       " 'df_dislike4',\n",
       " 'df_dislike5',\n",
       " 'df_dislike6',\n",
       " 'df_dislike7',\n",
       " 'df_dislike8',\n",
       " 'df_dislike9',\n",
       " 'df_dislike10',\n",
       " 'df_dislike11',\n",
       " 'df_dislike12',\n",
       " 'df_dislike13',\n",
       " 'df_dislike14',\n",
       " 'df_dislike15',\n",
       " 'df_dislike16',\n",
       " 'df_dislike17',\n",
       " 'df_dislike18',\n",
       " 'df_dislike19',\n",
       " 'df_dislike20',\n",
       " 'df_dislike21',\n",
       " 'df_dislike22',\n",
       " 'df_dislike23',\n",
       " 'df_dislike24',\n",
       " 'df_dislike25',\n",
       " 'df_dislike26',\n",
       " 'df_dislike27',\n",
       " 'df_dislike28',\n",
       " 'df_dislike29',\n",
       " 'df_dislike30',\n",
       " 'df_dislike31',\n",
       " 'df_dislike32',\n",
       " 'df_dislike33',\n",
       " 'df_dislike34',\n",
       " 'df_dislike35',\n",
       " 'df_dislike36',\n",
       " 'df_dislike37',\n",
       " 'df_dislike38',\n",
       " 'df_dislike39',\n",
       " 'df_dislike40',\n",
       " 'df_dislike41',\n",
       " 'df_dislike42',\n",
       " 'df_dislike43',\n",
       " 'df_dislike44',\n",
       " 'df_dislike45',\n",
       " 'df_dislike46',\n",
       " 'df_dislike47',\n",
       " 'df_dislike48',\n",
       " 'df_dislike49',\n",
       " 'df_dislike50',\n",
       " 'df_dislike51',\n",
       " 'df_dislike52',\n",
       " 'df_dislike53',\n",
       " 'df_dislike54',\n",
       " 'df_dislike55',\n",
       " 'df_dislike56',\n",
       " 'df_dislike57',\n",
       " 'df_dislike58',\n",
       " 'df_dislike59',\n",
       " 'df_dislike60',\n",
       " 'df_dislike61',\n",
       " 'df_dislike62',\n",
       " 'df_dislike63',\n",
       " 'df_dislike64',\n",
       " 'df_dislike65',\n",
       " 'df_dislike66',\n",
       " 'df_dislike67',\n",
       " 'df_dislike68',\n",
       " 'df_dislike69',\n",
       " 'df_dislike70',\n",
       " 'df_dislike71',\n",
       " 'df_dislike72',\n",
       " 'df_dislike73',\n",
       " 'df_dislike74',\n",
       " 'df_dislike75',\n",
       " 'df_dislike76',\n",
       " 'df_dislike77',\n",
       " 'df_dislike78',\n",
       " 'df_dislike79',\n",
       " 'df_dislike80',\n",
       " 'df_dislike81',\n",
       " 'df_dislike82',\n",
       " 'df_dislike83',\n",
       " 'df_dislike84',\n",
       " 'df_dislike85',\n",
       " 'df_dislike86',\n",
       " 'df_dislike87',\n",
       " 'df_dislike88',\n",
       " 'df_dislike89',\n",
       " 'df_dislike90',\n",
       " 'df_dislike91',\n",
       " 'df_dislike92',\n",
       " 'df_dislike93',\n",
       " 'df_dislike94',\n",
       " 'df_dislike95',\n",
       " 'df_dislike96',\n",
       " 'df_dislike97',\n",
       " 'df_dislike98',\n",
       " 'df_dislike99',\n",
       " 'df_dislike100',\n",
       " 'df_dislike101']"
      ]
     },
     "execution_count": 19,
     "metadata": {},
     "output_type": "execute_result"
    }
   ],
   "source": [
    "datlst_dislike = []\n",
    "for i in range(0, len(lst)):\n",
    "    datlst_dislike.append(\"df_dislike\" + str(i))\n",
    "    globals()[\"df_dislike\" + str(i)] = pd.read_csv(lst_dislike[i])\n",
    "datlst_dislike"
   ]
  },
  {
   "cell_type": "markdown",
   "metadata": {},
   "source": [
    "# The correlation between round 10 and dislike"
   ]
  },
  {
   "cell_type": "markdown",
   "metadata": {},
   "source": [
    "## The performance of the dictator in round 10"
   ]
  },
  {
   "cell_type": "code",
   "execution_count": 20,
   "metadata": {},
   "outputs": [],
   "source": [
    "## 取round 10的島主的pgg_receive\n",
    "dictator_pgg = []\n",
    "for i in range(0, len(lst)):\n",
    "    dictator_pgg.append(globals()['df'+str(i)][globals()['df'+str(i)]['dictator'] == 1].iloc[9]['pgg_receive'])\n",
    "\n",
    "# print(dictator_pgg)\n",
    "# print(len(dictator_pgg))"
   ]
  },
  {
   "cell_type": "code",
   "execution_count": 21,
   "metadata": {},
   "outputs": [],
   "source": [
    "## 取round 10的所有人的pgg_receive\n",
    "all_pgg = []\n",
    "for i in range(0,len(lst)):\n",
    "    all_pgg.append(sum(globals()[\"df\" + str(i)][globals()[\"df\" + str(i)]['round'] == 10]['pgg_receive']))\n",
    "\n",
    "# print(all_pgg)\n",
    "# print(len(all_pgg))"
   ]
  },
  {
   "cell_type": "code",
   "execution_count": 22,
   "metadata": {},
   "outputs": [],
   "source": [
    "# 計算：v5中島主最後一round pgg表現的顯著程度\n",
    "ratio_10 = [x/y for x, y in zip(dictator_pgg, all_pgg)]"
   ]
  },
  {
   "cell_type": "code",
   "execution_count": 23,
   "metadata": {},
   "outputs": [],
   "source": [
    "df_ratio = pd.DataFrame({\"group\": datlst, \"dictator's pgg receive\": dictator_pgg, \"all player's pgg receive\": all_pgg, \"ratio\": ratio_10})"
   ]
  },
  {
   "cell_type": "code",
   "execution_count": 24,
   "metadata": {},
   "outputs": [
    {
     "data": {
      "text/html": [
       "<div>\n",
       "<style scoped>\n",
       "    .dataframe tbody tr th:only-of-type {\n",
       "        vertical-align: middle;\n",
       "    }\n",
       "\n",
       "    .dataframe tbody tr th {\n",
       "        vertical-align: top;\n",
       "    }\n",
       "\n",
       "    .dataframe thead th {\n",
       "        text-align: right;\n",
       "    }\n",
       "</style>\n",
       "<table border=\"1\" class=\"dataframe\">\n",
       "  <thead>\n",
       "    <tr style=\"text-align: right;\">\n",
       "      <th></th>\n",
       "      <th>group</th>\n",
       "      <th>dictator's pgg receive</th>\n",
       "      <th>all player's pgg receive</th>\n",
       "      <th>ratio</th>\n",
       "    </tr>\n",
       "  </thead>\n",
       "  <tbody>\n",
       "    <tr>\n",
       "      <th>0</th>\n",
       "      <td>df0</td>\n",
       "      <td>207</td>\n",
       "      <td>530</td>\n",
       "      <td>0.390566</td>\n",
       "    </tr>\n",
       "    <tr>\n",
       "      <th>1</th>\n",
       "      <td>df1</td>\n",
       "      <td>152</td>\n",
       "      <td>656</td>\n",
       "      <td>0.231707</td>\n",
       "    </tr>\n",
       "    <tr>\n",
       "      <th>2</th>\n",
       "      <td>df2</td>\n",
       "      <td>224</td>\n",
       "      <td>360</td>\n",
       "      <td>0.622222</td>\n",
       "    </tr>\n",
       "    <tr>\n",
       "      <th>3</th>\n",
       "      <td>df3</td>\n",
       "      <td>198</td>\n",
       "      <td>500</td>\n",
       "      <td>0.396000</td>\n",
       "    </tr>\n",
       "    <tr>\n",
       "      <th>4</th>\n",
       "      <td>df4</td>\n",
       "      <td>320</td>\n",
       "      <td>320</td>\n",
       "      <td>1.000000</td>\n",
       "    </tr>\n",
       "    <tr>\n",
       "      <th>...</th>\n",
       "      <td>...</td>\n",
       "      <td>...</td>\n",
       "      <td>...</td>\n",
       "      <td>...</td>\n",
       "    </tr>\n",
       "    <tr>\n",
       "      <th>97</th>\n",
       "      <td>df97</td>\n",
       "      <td>200</td>\n",
       "      <td>700</td>\n",
       "      <td>0.285714</td>\n",
       "    </tr>\n",
       "    <tr>\n",
       "      <th>98</th>\n",
       "      <td>df98</td>\n",
       "      <td>118</td>\n",
       "      <td>528</td>\n",
       "      <td>0.223485</td>\n",
       "    </tr>\n",
       "    <tr>\n",
       "      <th>99</th>\n",
       "      <td>df99</td>\n",
       "      <td>250</td>\n",
       "      <td>760</td>\n",
       "      <td>0.328947</td>\n",
       "    </tr>\n",
       "    <tr>\n",
       "      <th>100</th>\n",
       "      <td>df100</td>\n",
       "      <td>200</td>\n",
       "      <td>800</td>\n",
       "      <td>0.250000</td>\n",
       "    </tr>\n",
       "    <tr>\n",
       "      <th>101</th>\n",
       "      <td>df101</td>\n",
       "      <td>250</td>\n",
       "      <td>700</td>\n",
       "      <td>0.357143</td>\n",
       "    </tr>\n",
       "  </tbody>\n",
       "</table>\n",
       "<p>102 rows × 4 columns</p>\n",
       "</div>"
      ],
      "text/plain": [
       "     group  dictator's pgg receive  all player's pgg receive     ratio\n",
       "0      df0                     207                       530  0.390566\n",
       "1      df1                     152                       656  0.231707\n",
       "2      df2                     224                       360  0.622222\n",
       "3      df3                     198                       500  0.396000\n",
       "4      df4                     320                       320  1.000000\n",
       "..     ...                     ...                       ...       ...\n",
       "97    df97                     200                       700  0.285714\n",
       "98    df98                     118                       528  0.223485\n",
       "99    df99                     250                       760  0.328947\n",
       "100  df100                     200                       800  0.250000\n",
       "101  df101                     250                       700  0.357143\n",
       "\n",
       "[102 rows x 4 columns]"
      ]
     },
     "execution_count": 24,
     "metadata": {},
     "output_type": "execute_result"
    }
   ],
   "source": [
    "df_ratio"
   ]
  },
  {
   "cell_type": "markdown",
   "metadata": {},
   "source": [
    "## The degree of dislike of the dictator"
   ]
  },
  {
   "cell_type": "code",
   "execution_count": 25,
   "metadata": {},
   "outputs": [],
   "source": [
    "# 先以df_dislike0為例\n",
    "dislike = []\n",
    "for i in range(0,len(lst)):\n",
    "    dislike.append(np.mean(globals()[\"df_dislike\" + str(i)]['liking_p1'][1:]))\n",
    "\n",
    "# print(dislike)\n",
    "# len(dislike)"
   ]
  },
  {
   "cell_type": "code",
   "execution_count": 26,
   "metadata": {},
   "outputs": [],
   "source": [
    "df_ratio['dislike'] = dislike"
   ]
  },
  {
   "cell_type": "code",
   "execution_count": 27,
   "metadata": {},
   "outputs": [
    {
     "data": {
      "text/html": [
       "<div>\n",
       "<style scoped>\n",
       "    .dataframe tbody tr th:only-of-type {\n",
       "        vertical-align: middle;\n",
       "    }\n",
       "\n",
       "    .dataframe tbody tr th {\n",
       "        vertical-align: top;\n",
       "    }\n",
       "\n",
       "    .dataframe thead th {\n",
       "        text-align: right;\n",
       "    }\n",
       "</style>\n",
       "<table border=\"1\" class=\"dataframe\">\n",
       "  <thead>\n",
       "    <tr style=\"text-align: right;\">\n",
       "      <th></th>\n",
       "      <th>group</th>\n",
       "      <th>dictator's pgg receive</th>\n",
       "      <th>all player's pgg receive</th>\n",
       "      <th>ratio</th>\n",
       "      <th>dislike</th>\n",
       "    </tr>\n",
       "  </thead>\n",
       "  <tbody>\n",
       "    <tr>\n",
       "      <th>0</th>\n",
       "      <td>df0</td>\n",
       "      <td>207</td>\n",
       "      <td>530</td>\n",
       "      <td>0.390566</td>\n",
       "      <td>73.333333</td>\n",
       "    </tr>\n",
       "    <tr>\n",
       "      <th>1</th>\n",
       "      <td>df1</td>\n",
       "      <td>152</td>\n",
       "      <td>656</td>\n",
       "      <td>0.231707</td>\n",
       "      <td>31.333333</td>\n",
       "    </tr>\n",
       "    <tr>\n",
       "      <th>2</th>\n",
       "      <td>df2</td>\n",
       "      <td>224</td>\n",
       "      <td>360</td>\n",
       "      <td>0.622222</td>\n",
       "      <td>66.666667</td>\n",
       "    </tr>\n",
       "    <tr>\n",
       "      <th>3</th>\n",
       "      <td>df3</td>\n",
       "      <td>198</td>\n",
       "      <td>500</td>\n",
       "      <td>0.396000</td>\n",
       "      <td>53.666667</td>\n",
       "    </tr>\n",
       "    <tr>\n",
       "      <th>4</th>\n",
       "      <td>df4</td>\n",
       "      <td>320</td>\n",
       "      <td>320</td>\n",
       "      <td>1.000000</td>\n",
       "      <td>1.666667</td>\n",
       "    </tr>\n",
       "    <tr>\n",
       "      <th>...</th>\n",
       "      <td>...</td>\n",
       "      <td>...</td>\n",
       "      <td>...</td>\n",
       "      <td>...</td>\n",
       "      <td>...</td>\n",
       "    </tr>\n",
       "    <tr>\n",
       "      <th>97</th>\n",
       "      <td>df97</td>\n",
       "      <td>200</td>\n",
       "      <td>700</td>\n",
       "      <td>0.285714</td>\n",
       "      <td>85.666667</td>\n",
       "    </tr>\n",
       "    <tr>\n",
       "      <th>98</th>\n",
       "      <td>df98</td>\n",
       "      <td>118</td>\n",
       "      <td>528</td>\n",
       "      <td>0.223485</td>\n",
       "      <td>50.000000</td>\n",
       "    </tr>\n",
       "    <tr>\n",
       "      <th>99</th>\n",
       "      <td>df99</td>\n",
       "      <td>250</td>\n",
       "      <td>760</td>\n",
       "      <td>0.328947</td>\n",
       "      <td>63.000000</td>\n",
       "    </tr>\n",
       "    <tr>\n",
       "      <th>100</th>\n",
       "      <td>df100</td>\n",
       "      <td>200</td>\n",
       "      <td>800</td>\n",
       "      <td>0.250000</td>\n",
       "      <td>51.000000</td>\n",
       "    </tr>\n",
       "    <tr>\n",
       "      <th>101</th>\n",
       "      <td>df101</td>\n",
       "      <td>250</td>\n",
       "      <td>700</td>\n",
       "      <td>0.357143</td>\n",
       "      <td>53.666667</td>\n",
       "    </tr>\n",
       "  </tbody>\n",
       "</table>\n",
       "<p>102 rows × 5 columns</p>\n",
       "</div>"
      ],
      "text/plain": [
       "     group  dictator's pgg receive  all player's pgg receive     ratio  \\\n",
       "0      df0                     207                       530  0.390566   \n",
       "1      df1                     152                       656  0.231707   \n",
       "2      df2                     224                       360  0.622222   \n",
       "3      df3                     198                       500  0.396000   \n",
       "4      df4                     320                       320  1.000000   \n",
       "..     ...                     ...                       ...       ...   \n",
       "97    df97                     200                       700  0.285714   \n",
       "98    df98                     118                       528  0.223485   \n",
       "99    df99                     250                       760  0.328947   \n",
       "100  df100                     200                       800  0.250000   \n",
       "101  df101                     250                       700  0.357143   \n",
       "\n",
       "       dislike  \n",
       "0    73.333333  \n",
       "1    31.333333  \n",
       "2    66.666667  \n",
       "3    53.666667  \n",
       "4     1.666667  \n",
       "..         ...  \n",
       "97   85.666667  \n",
       "98   50.000000  \n",
       "99   63.000000  \n",
       "100  51.000000  \n",
       "101  53.666667  \n",
       "\n",
       "[102 rows x 5 columns]"
      ]
     },
     "execution_count": 27,
     "metadata": {},
     "output_type": "execute_result"
    }
   ],
   "source": [
    "df_ratio"
   ]
  },
  {
   "cell_type": "markdown",
   "metadata": {},
   "source": [
    "## The correlation"
   ]
  },
  {
   "cell_type": "code",
   "execution_count": 28,
   "metadata": {},
   "outputs": [
    {
     "name": "stdout",
     "output_type": "stream",
     "text": [
      "The value of correlation is -0.6560914697725831 .\n"
     ]
    }
   ],
   "source": [
    "my_rho = np.corrcoef(ratio_10, dislike)\n",
    "\n",
    "# print(my_rho)\n",
    "print(\"The value of correlation is\",my_rho[0][1],'.')"
   ]
  },
  {
   "cell_type": "markdown",
   "metadata": {},
   "source": [
    "## Visualization"
   ]
  },
  {
   "cell_type": "code",
   "execution_count": 29,
   "metadata": {},
   "outputs": [
    {
     "data": {
      "text/plain": [
       "Text(0, 0.5, 'The score of being liked of the dictator')"
      ]
     },
     "execution_count": 29,
     "metadata": {},
     "output_type": "execute_result"
    },
    {
     "data": {
      "image/png": "[encoded data removed]",
      "text/plain": [
       "<Figure size 432x288 with 1 Axes>"
      ]
     },
     "metadata": {
      "image/png": {
       "height": 277,
       "width": 442
      },
      "needs_background": "light"
     },
     "output_type": "display_data"
    }
   ],
   "source": [
    "ax = sns.regplot(x= ratio_10, y=dislike, data=df_ratio, ci=None)\n",
    "ax.set_title(\"The score of being liked of the dictator vs. The pgg_receive in round 10\")\n",
    "ax.set_xlabel(\"The ratio of pgg_receive of the dictator in round 10\")\n",
    "ax.set_ylabel(\"The score of being liked of the dictator\")"
   ]
  },
  {
   "cell_type": "markdown",
   "metadata": {},
   "source": [
    "# The correlation between round 9 and dislike"
   ]
  },
  {
   "cell_type": "markdown",
   "metadata": {},
   "source": [
    "## The performance of the dictator in round 9"
   ]
  },
  {
   "cell_type": "code",
   "execution_count": 30,
   "metadata": {},
   "outputs": [],
   "source": [
    "## 取round 9的島主的pgg_receive\n",
    "dictator_pgg_9 = []\n",
    "for i in range(0, len(lst)):\n",
    "    dictator_pgg_9.append(globals()['df'+str(i)][globals()['df'+str(i)]['dictator'] == 1].iloc[8]['pgg_receive'])\n",
    "\n",
    "# print(dictator_pgg_9)\n",
    "# print(len(dictator_pgg_9))"
   ]
  },
  {
   "cell_type": "code",
   "execution_count": 31,
   "metadata": {},
   "outputs": [],
   "source": [
    "## 取round 9的所有人的pgg_receive\n",
    "all_pgg_9 = []\n",
    "for i in range(0,len(lst)):\n",
    "    all_pgg_9.append(sum(globals()[\"df\" + str(i)][globals()[\"df\" + str(i)]['round'] == 9]['pgg_receive']))\n",
    "\n",
    "# print(all_pgg_9)\n",
    "# print(len(all_pgg_9))"
   ]
  },
  {
   "cell_type": "code",
   "execution_count": 32,
   "metadata": {},
   "outputs": [],
   "source": [
    "# 計算：v5中島主round 9 pgg表現的顯著程度\n",
    "ratio_9 = [x/y for x, y in zip(dictator_pgg_9, all_pgg_9)]\n",
    "# type(ratio)"
   ]
  },
  {
   "cell_type": "code",
   "execution_count": 33,
   "metadata": {},
   "outputs": [],
   "source": [
    "df_ratio_9 = pd.DataFrame({\"group\": datlst, \"dictator's pgg receive\": dictator_pgg_9, \"all player's pgg receive\": all_pgg_9, \"ratio\": ratio_9})"
   ]
  },
  {
   "cell_type": "code",
   "execution_count": 34,
   "metadata": {},
   "outputs": [
    {
     "data": {
      "text/html": [
       "<div>\n",
       "<style scoped>\n",
       "    .dataframe tbody tr th:only-of-type {\n",
       "        vertical-align: middle;\n",
       "    }\n",
       "\n",
       "    .dataframe tbody tr th {\n",
       "        vertical-align: top;\n",
       "    }\n",
       "\n",
       "    .dataframe thead th {\n",
       "        text-align: right;\n",
       "    }\n",
       "</style>\n",
       "<table border=\"1\" class=\"dataframe\">\n",
       "  <thead>\n",
       "    <tr style=\"text-align: right;\">\n",
       "      <th></th>\n",
       "      <th>group</th>\n",
       "      <th>dictator's pgg receive</th>\n",
       "      <th>all player's pgg receive</th>\n",
       "      <th>ratio</th>\n",
       "    </tr>\n",
       "  </thead>\n",
       "  <tbody>\n",
       "    <tr>\n",
       "      <th>0</th>\n",
       "      <td>df0</td>\n",
       "      <td>220</td>\n",
       "      <td>710</td>\n",
       "      <td>0.309859</td>\n",
       "    </tr>\n",
       "    <tr>\n",
       "      <th>1</th>\n",
       "      <td>df1</td>\n",
       "      <td>135</td>\n",
       "      <td>508</td>\n",
       "      <td>0.265748</td>\n",
       "    </tr>\n",
       "    <tr>\n",
       "      <th>2</th>\n",
       "      <td>df2</td>\n",
       "      <td>206</td>\n",
       "      <td>430</td>\n",
       "      <td>0.479070</td>\n",
       "    </tr>\n",
       "    <tr>\n",
       "      <th>3</th>\n",
       "      <td>df3</td>\n",
       "      <td>174</td>\n",
       "      <td>500</td>\n",
       "      <td>0.348000</td>\n",
       "    </tr>\n",
       "    <tr>\n",
       "      <th>4</th>\n",
       "      <td>df4</td>\n",
       "      <td>60</td>\n",
       "      <td>210</td>\n",
       "      <td>0.285714</td>\n",
       "    </tr>\n",
       "    <tr>\n",
       "      <th>...</th>\n",
       "      <td>...</td>\n",
       "      <td>...</td>\n",
       "      <td>...</td>\n",
       "      <td>...</td>\n",
       "    </tr>\n",
       "    <tr>\n",
       "      <th>97</th>\n",
       "      <td>df97</td>\n",
       "      <td>200</td>\n",
       "      <td>680</td>\n",
       "      <td>0.294118</td>\n",
       "    </tr>\n",
       "    <tr>\n",
       "      <th>98</th>\n",
       "      <td>df98</td>\n",
       "      <td>161</td>\n",
       "      <td>680</td>\n",
       "      <td>0.236765</td>\n",
       "    </tr>\n",
       "    <tr>\n",
       "      <th>99</th>\n",
       "      <td>df99</td>\n",
       "      <td>207</td>\n",
       "      <td>800</td>\n",
       "      <td>0.258750</td>\n",
       "    </tr>\n",
       "    <tr>\n",
       "      <th>100</th>\n",
       "      <td>df100</td>\n",
       "      <td>200</td>\n",
       "      <td>800</td>\n",
       "      <td>0.250000</td>\n",
       "    </tr>\n",
       "    <tr>\n",
       "      <th>101</th>\n",
       "      <td>df101</td>\n",
       "      <td>249</td>\n",
       "      <td>790</td>\n",
       "      <td>0.315190</td>\n",
       "    </tr>\n",
       "  </tbody>\n",
       "</table>\n",
       "<p>102 rows × 4 columns</p>\n",
       "</div>"
      ],
      "text/plain": [
       "     group  dictator's pgg receive  all player's pgg receive     ratio\n",
       "0      df0                     220                       710  0.309859\n",
       "1      df1                     135                       508  0.265748\n",
       "2      df2                     206                       430  0.479070\n",
       "3      df3                     174                       500  0.348000\n",
       "4      df4                      60                       210  0.285714\n",
       "..     ...                     ...                       ...       ...\n",
       "97    df97                     200                       680  0.294118\n",
       "98    df98                     161                       680  0.236765\n",
       "99    df99                     207                       800  0.258750\n",
       "100  df100                     200                       800  0.250000\n",
       "101  df101                     249                       790  0.315190\n",
       "\n",
       "[102 rows x 4 columns]"
      ]
     },
     "execution_count": 34,
     "metadata": {},
     "output_type": "execute_result"
    }
   ],
   "source": [
    "df_ratio_9"
   ]
  },
  {
   "cell_type": "markdown",
   "metadata": {},
   "source": [
    "## The correlation"
   ]
  },
  {
   "cell_type": "code",
   "execution_count": 35,
   "metadata": {},
   "outputs": [
    {
     "name": "stdout",
     "output_type": "stream",
     "text": [
      "The value of correlation is -0.46538895571131983 .\n"
     ]
    }
   ],
   "source": [
    "my_rho_9 = np.corrcoef(ratio_9, dislike)\n",
    "\n",
    "# print(my_rho)\n",
    "print(\"The value of correlation is\",my_rho_9[0][1],'.')"
   ]
  },
  {
   "cell_type": "markdown",
   "metadata": {},
   "source": [
    "## Visualization"
   ]
  },
  {
   "cell_type": "code",
   "execution_count": 36,
   "metadata": {},
   "outputs": [
    {
     "data": {
      "text/plain": [
       "Text(0, 0.5, 'The score of being liked of the dictator')"
      ]
     },
     "execution_count": 36,
     "metadata": {},
     "output_type": "execute_result"
    },
    {
     "data": {
      "image/png": "[encoded data removed]",
      "text/plain": [
       "<Figure size 432x288 with 1 Axes>"
      ]
     },
     "metadata": {
      "image/png": {
       "height": 277,
       "width": 435
      },
      "needs_background": "light"
     },
     "output_type": "display_data"
    }
   ],
   "source": [
    "ax_9 = sns.regplot(x= ratio_9, y=dislike, data=df_ratio_9, ci=None)\n",
    "ax_9.set_title(\"The score of being liked of the dictator vs. The pgg_receive in round 9\")\n",
    "ax_9.set_xlabel(\"The ratio of pgg_receive of the dictator in round 9\")\n",
    "ax_9.set_ylabel(\"The score of being liked of the dictator\")"
   ]
  },
  {
   "cell_type": "markdown",
   "metadata": {},
   "source": [
    "# The correlation between round 9 & 10 and dislike "
   ]
  },
  {
   "cell_type": "markdown",
   "metadata": {},
   "source": [
    "## The performance of the dictator in round 9 & 10"
   ]
  },
  {
   "cell_type": "code",
   "execution_count": 37,
   "metadata": {},
   "outputs": [],
   "source": [
    "ratio_910 = [(x+y)/2 for x, y in zip(ratio_9, ratio_10)]"
   ]
  },
  {
   "cell_type": "markdown",
   "metadata": {},
   "source": [
    "## The correlation"
   ]
  },
  {
   "cell_type": "code",
   "execution_count": 38,
   "metadata": {},
   "outputs": [
    {
     "name": "stdout",
     "output_type": "stream",
     "text": [
      "The value of correlation is -0.6805734904263204 .\n"
     ]
    }
   ],
   "source": [
    "my_rho_910 = np.corrcoef(ratio_910, dislike)\n",
    "\n",
    "print(\"The value of correlation is\",my_rho_910[0][1],'.')"
   ]
  },
  {
   "cell_type": "markdown",
   "metadata": {},
   "source": [
    "# The correlation between round 1-8 and dislike"
   ]
  },
  {
   "cell_type": "markdown",
   "metadata": {},
   "source": [
    "## The performance of the dictator in round 1"
   ]
  },
  {
   "cell_type": "code",
   "execution_count": 39,
   "metadata": {},
   "outputs": [],
   "source": [
    "# 取round 1的島主的pgg_receive\n",
    "dictator_pgg_1 = []\n",
    "for i in range(0, len(lst)):\n",
    "    dictator_pgg_1.append(globals()['df'+str(i)][globals()['df'+str(i)]['dictator'] == 1].iloc[0]['pgg_receive'])\n",
    "\n",
    "# print(dictator_pgg_1)\n"
   ]
  },
  {
   "cell_type": "code",
   "execution_count": 40,
   "metadata": {},
   "outputs": [
    {
     "name": "stdout",
     "output_type": "stream",
     "text": [
      "[370, 270, 262, 230, 420, 328, 400, 400, 540, 464, 460, 560, 422, 430, 490, 444, 310, 490, 278, 188, 315, 180, 405, 282, 285, 300, 198, 263, 300, 210, 218, 345, 375, 368, 347, 375, 480, 200, 540, 390, 500, 340, 440, 720, 240, 293, 263, 263, 360, 405, 345, 300, 132, 255, 248, 300, 233, 320, 353, 285, 308, 285, 470, 240, 520, 470, 382, 330, 330, 450, 450, 500, 410, 364, 440, 360, 436, 410, 320, 233, 300, 150, 330, 180, 285, 375, 233, 212, 330, 225, 263, 338, 458, 488, 290, 494, 500, 472, 480, 660, 440, 388]\n"
     ]
    }
   ],
   "source": [
    "# 取round 1的所有人的pgg_receive\n",
    "all_pgg_1 = []\n",
    "for i in range(0,len(lst)):\n",
    "    all_pgg_1.append(sum(globals()[\"df\" + str(i)][globals()[\"df\" + str(i)]['round'] == 1]['pgg_receive']))\n",
    "\n",
    "print(all_pgg_1)"
   ]
  },
  {
   "cell_type": "code",
   "execution_count": 41,
   "metadata": {},
   "outputs": [],
   "source": [
    "# 計算：島主在round 1中pgg表現的顯著程度\n",
    "ratio_1 = [x/y for x, y in zip(dictator_pgg_1, all_pgg_1)]"
   ]
  },
  {
   "cell_type": "markdown",
   "metadata": {},
   "source": [
    "## The performance of the dictator in round 2"
   ]
  },
  {
   "cell_type": "code",
   "execution_count": 42,
   "metadata": {},
   "outputs": [],
   "source": [
    "# 取round 2的島主的pgg_receive\n",
    "dictator_pgg_2 = []\n",
    "for i in range(0, len(lst)):\n",
    "    dictator_pgg_2.append(globals()['df'+str(i)][globals()['df'+str(i)]['dictator'] == 1].iloc[1]['pgg_receive'])\n",
    "# print(dictator_pgg_2)"
   ]
  },
  {
   "cell_type": "code",
   "execution_count": 43,
   "metadata": {},
   "outputs": [],
   "source": [
    "# 取round 2的所有人的pgg_receive\n",
    "all_pgg_2 = []\n",
    "for i in range(0,len(lst)):\n",
    "    all_pgg_2.append(sum(globals()[\"df\" + str(i)][globals()[\"df\" + str(i)]['round'] == 2]['pgg_receive']))\n",
    "\n",
    "# print(all_pgg_2)"
   ]
  },
  {
   "cell_type": "code",
   "execution_count": 44,
   "metadata": {},
   "outputs": [],
   "source": [
    "# 計算：島主在round 2中pgg表現的顯著程度\n",
    "ratio_2 = [x/y for x, y in zip(dictator_pgg_2, all_pgg_2)]"
   ]
  },
  {
   "cell_type": "markdown",
   "metadata": {},
   "source": [
    "## The performance of the dictator in round 3"
   ]
  },
  {
   "cell_type": "code",
   "execution_count": 45,
   "metadata": {},
   "outputs": [],
   "source": [
    "# 取round 3的島主的pgg_receive\n",
    "dictator_pgg_3 = []\n",
    "for i in range(0, len(lst)):\n",
    "    dictator_pgg_3.append(globals()['df'+str(i)][globals()['df'+str(i)]['dictator'] == 1].iloc[2]['pgg_receive'])\n",
    "# print(dictator_pgg_3)"
   ]
  },
  {
   "cell_type": "code",
   "execution_count": 46,
   "metadata": {},
   "outputs": [],
   "source": [
    "# 取round 3的所有人的pgg_receive\n",
    "all_pgg_3 = []\n",
    "for i in range(0,len(lst)):\n",
    "    all_pgg_3.append(sum(globals()[\"df\" + str(i)][globals()[\"df\" + str(i)]['round'] == 3]['pgg_receive']))\n",
    "\n",
    "# print(all_pgg_3)"
   ]
  },
  {
   "cell_type": "code",
   "execution_count": 47,
   "metadata": {},
   "outputs": [],
   "source": [
    "# 計算：島主在round 3中pgg表現的顯著程度\n",
    "ratio_3 = [x/y for x, y in zip(dictator_pgg_3, all_pgg_3)]"
   ]
  },
  {
   "cell_type": "markdown",
   "metadata": {},
   "source": [
    "## The performance of the dictator in round 4"
   ]
  },
  {
   "cell_type": "code",
   "execution_count": 48,
   "metadata": {},
   "outputs": [],
   "source": [
    "# 取round 4的島主的pgg_receive\n",
    "dictator_pgg_4 = []\n",
    "for i in range(0, len(lst)):\n",
    "    dictator_pgg_4.append(globals()['df'+str(i)][globals()['df'+str(i)]['dictator'] == 1].iloc[3]['pgg_receive'])\n",
    "# print(dictator_pgg_4)"
   ]
  },
  {
   "cell_type": "code",
   "execution_count": 49,
   "metadata": {},
   "outputs": [],
   "source": [
    "# 取round 4的所有人的pgg_receive\n",
    "all_pgg_4 = []\n",
    "for i in range(0,len(lst)):\n",
    "    all_pgg_4.append(sum(globals()[\"df\" + str(i)][globals()[\"df\" + str(i)]['round'] == 4]['pgg_receive']))\n",
    "\n",
    "# print(all_pgg_4)"
   ]
  },
  {
   "cell_type": "code",
   "execution_count": 50,
   "metadata": {},
   "outputs": [],
   "source": [
    "# 計算：島主在round 4中pgg表現的顯著程度\n",
    "ratio_4 = [x/y for x, y in zip(dictator_pgg_4, all_pgg_4)]"
   ]
  },
  {
   "cell_type": "markdown",
   "metadata": {},
   "source": [
    "## The performance of the dictator in round 5"
   ]
  },
  {
   "cell_type": "code",
   "execution_count": 51,
   "metadata": {},
   "outputs": [],
   "source": [
    "# 取round 5的島主的pgg_receive\n",
    "dictator_pgg_5 = []\n",
    "for i in range(0, len(lst)):\n",
    "    dictator_pgg_5.append(globals()['df'+str(i)][globals()['df'+str(i)]['dictator'] == 1].iloc[4]['pgg_receive'])\n",
    "# print(dictator_pgg_5)"
   ]
  },
  {
   "cell_type": "code",
   "execution_count": 52,
   "metadata": {},
   "outputs": [],
   "source": [
    "# 取round 5的所有人的pgg_receive\n",
    "all_pgg_5 = []\n",
    "for i in range(0,len(lst)):\n",
    "    all_pgg_5.append(sum(globals()[\"df\" + str(i)][globals()[\"df\" + str(i)]['round'] == 5]['pgg_receive']))\n",
    "\n",
    "# print(all_pgg_5)"
   ]
  },
  {
   "cell_type": "code",
   "execution_count": 53,
   "metadata": {},
   "outputs": [],
   "source": [
    "# 計算：島主在round 5中pgg表現的顯著程度\n",
    "ratio_5 = [x/y for x, y in zip(dictator_pgg_5, all_pgg_5)]"
   ]
  },
  {
   "cell_type": "markdown",
   "metadata": {},
   "source": [
    "## The performance of the dictator in round 6"
   ]
  },
  {
   "cell_type": "code",
   "execution_count": 54,
   "metadata": {},
   "outputs": [],
   "source": [
    "# 取round 6的島主的pgg_receive\n",
    "dictator_pgg_6 = []\n",
    "for i in range(0, len(lst)):\n",
    "    dictator_pgg_6.append(globals()['df'+str(i)][globals()['df'+str(i)]['dictator'] == 1].iloc[5]['pgg_receive'])\n",
    "# print(dictator_pgg_6)"
   ]
  },
  {
   "cell_type": "code",
   "execution_count": 55,
   "metadata": {},
   "outputs": [],
   "source": [
    "# 取round 6的所有人的pgg_receive\n",
    "all_pgg_6 = []\n",
    "for i in range(0,len(lst)):\n",
    "    all_pgg_6.append(sum(globals()[\"df\" + str(i)][globals()[\"df\" + str(i)]['round'] == 6]['pgg_receive']))\n",
    "\n",
    "# print(all_pgg_6)"
   ]
  },
  {
   "cell_type": "code",
   "execution_count": 56,
   "metadata": {},
   "outputs": [],
   "source": [
    "# 計算：島主在round 6中pgg表現的顯著程度\n",
    "ratio_6 = [x/y for x, y in zip(dictator_pgg_6, all_pgg_6)]"
   ]
  },
  {
   "cell_type": "markdown",
   "metadata": {},
   "source": [
    "## The performance of the dictator in round 7"
   ]
  },
  {
   "cell_type": "code",
   "execution_count": 57,
   "metadata": {},
   "outputs": [],
   "source": [
    "# 取round 7的島主的pgg_receive\n",
    "dictator_pgg_7 = []\n",
    "for i in range(0, len(lst)):\n",
    "    dictator_pgg_7.append(globals()['df'+str(i)][globals()['df'+str(i)]['dictator'] == 1].iloc[6]['pgg_receive'])\n",
    "# print(dictator_pgg_7)"
   ]
  },
  {
   "cell_type": "code",
   "execution_count": 58,
   "metadata": {},
   "outputs": [],
   "source": [
    "# 取round 7的所有人的pgg_receive\n",
    "all_pgg_7 = []\n",
    "for i in range(0,len(lst)):\n",
    "    all_pgg_7.append(sum(globals()[\"df\" + str(i)][globals()[\"df\" + str(i)]['round'] == 7]['pgg_receive']))\n",
    "\n",
    "# print(all_pgg_7)"
   ]
  },
  {
   "cell_type": "code",
   "execution_count": 59,
   "metadata": {},
   "outputs": [],
   "source": [
    "# 計算：島主在round 7中pgg表現的顯著程度\n",
    "ratio_7 = [x/y for x, y in zip(dictator_pgg_7, all_pgg_7)]"
   ]
  },
  {
   "cell_type": "markdown",
   "metadata": {},
   "source": [
    "## The performance of the dictator in round 8"
   ]
  },
  {
   "cell_type": "code",
   "execution_count": 60,
   "metadata": {},
   "outputs": [],
   "source": [
    "# 取round 8的島主的pgg_receive\n",
    "dictator_pgg_8 = []\n",
    "for i in range(0, len(lst)):\n",
    "    dictator_pgg_8.append(globals()['df'+str(i)][globals()['df'+str(i)]['dictator'] == 1].iloc[7]['pgg_receive'])\n",
    "# print(dictator_pgg_8)"
   ]
  },
  {
   "cell_type": "code",
   "execution_count": 61,
   "metadata": {},
   "outputs": [],
   "source": [
    "# 取round 8的所有人的pgg_receive\n",
    "all_pgg_8 = []\n",
    "for i in range(0,len(lst)):\n",
    "    all_pgg_8.append(sum(globals()[\"df\" + str(i)][globals()[\"df\" + str(i)]['round'] == 8]['pgg_receive']))\n",
    "\n",
    "# print(all_pgg_8)"
   ]
  },
  {
   "cell_type": "code",
   "execution_count": 62,
   "metadata": {},
   "outputs": [],
   "source": [
    "# 計算：島主在round 8中pgg表現的顯著程度\n",
    "ratio_8 = [x/y for x, y in zip(dictator_pgg_8, all_pgg_8)]"
   ]
  },
  {
   "cell_type": "markdown",
   "metadata": {},
   "source": [
    "## The performance of the dictator in round 1-8"
   ]
  },
  {
   "cell_type": "code",
   "execution_count": 63,
   "metadata": {},
   "outputs": [],
   "source": [
    "df_RD = pd.DataFrame({\"group\": datlst, \"round 1\": ratio_1, \"round 2\": ratio_2, \"round 3\": ratio_3, \"round 4\": ratio_4, \"round 5\": ratio_5, \"round 6\": ratio_6, \"round 7\": ratio_7, \"round 8\": ratio_8})"
   ]
  },
  {
   "cell_type": "code",
   "execution_count": 64,
   "metadata": {},
   "outputs": [],
   "source": [
    "mean_RD = []\n",
    "mean_RD = df_RD[['round 1', 'round 2', 'round 3', 'round 4', 'round 5', 'round 6', 'round 7', 'round 8']].mean(1)"
   ]
  },
  {
   "cell_type": "code",
   "execution_count": 65,
   "metadata": {},
   "outputs": [
    {
     "data": {
      "text/plain": [
       "0      0.344635\n",
       "1      0.264007\n",
       "2      0.367081\n",
       "3      0.319701\n",
       "4      0.255579\n",
       "         ...   \n",
       "97     0.238796\n",
       "98     0.242446\n",
       "99     0.317131\n",
       "100    0.254086\n",
       "101    0.334888\n",
       "Length: 102, dtype: float64"
      ]
     },
     "execution_count": 65,
     "metadata": {},
     "output_type": "execute_result"
    }
   ],
   "source": [
    "mean_RD"
   ]
  },
  {
   "cell_type": "markdown",
   "metadata": {},
   "source": [
    "## The correlation"
   ]
  },
  {
   "cell_type": "code",
   "execution_count": 66,
   "metadata": {},
   "outputs": [],
   "source": [
    "df_cor = pd.DataFrame({\"ratio of round 1-8\":mean_RD,\"dislike\":dislike})"
   ]
  },
  {
   "cell_type": "code",
   "execution_count": 67,
   "metadata": {},
   "outputs": [],
   "source": [
    "# df_cor"
   ]
  },
  {
   "cell_type": "code",
   "execution_count": 68,
   "metadata": {},
   "outputs": [
    {
     "name": "stdout",
     "output_type": "stream",
     "text": [
      "The value of correlation is -0.4365234576960349 .\n"
     ]
    }
   ],
   "source": [
    "my_rho_1to8 = np.corrcoef(mean_RD, dislike)\n",
    "\n",
    "# print(my_rho)\n",
    "print(\"The value of correlation is\",my_rho_1to8[0][1],'.')"
   ]
  },
  {
   "cell_type": "markdown",
   "metadata": {},
   "source": [
    "## Visualization"
   ]
  },
  {
   "cell_type": "code",
   "execution_count": 69,
   "metadata": {},
   "outputs": [
    {
     "data": {
      "text/plain": [
       "Text(0, 0.5, 'The score of being liked of the dictator')"
      ]
     },
     "execution_count": 69,
     "metadata": {},
     "output_type": "execute_result"
    },
    {
     "data": {
      "image/png": "[encoded data removed]",
      "text/plain": [
       "<Figure size 432x288 with 1 Axes>"
      ]
     },
     "metadata": {
      "image/png": {
       "height": 277,
       "width": 447
      },
      "needs_background": "light"
     },
     "output_type": "display_data"
    }
   ],
   "source": [
    "ax_1to8 = sns.regplot(x= mean_RD, y=dislike, data=df_cor, ci=None)\n",
    "ax_1to8.set_title(\"The score of being liked of the dictator vs. The pgg_receive in round 1-8\")\n",
    "ax_1to8.set_xlabel(\"The ratio of pgg_receive of the dictator in round 1-8\")\n",
    "ax_1to8.set_ylabel(\"The score of being liked of the dictator\")"
   ]
  },
  {
   "cell_type": "markdown",
   "metadata": {},
   "source": [
    "# The correlation between round 1-10 and dislike "
   ]
  },
  {
   "cell_type": "code",
   "execution_count": 70,
   "metadata": {},
   "outputs": [],
   "source": [
    "ratio_1to10 = [(x*8+y*2)/10 for x, y in zip(mean_RD, ratio_910)]"
   ]
  },
  {
   "cell_type": "code",
   "execution_count": 71,
   "metadata": {},
   "outputs": [
    {
     "data": {
      "text/plain": [
       "[0.34575033465145727,\n",
       " 0.26095135481361853,\n",
       " 0.40379372236625927,\n",
       " 0.3301610057444275,\n",
       " 0.3330347543272628,\n",
       " 0.4611684784096644,\n",
       " 0.4133126061899062,\n",
       " 0.25766628024692545,\n",
       " 0.31806407544125054,\n",
       " 0.25099507804657534,\n",
       " 0.3386799013216212,\n",
       " 0.2893457547320099,\n",
       " 0.49068852043499345,\n",
       " 0.3066294730248219,\n",
       " 0.39349434038074876,\n",
       " 0.34647210768950654,\n",
       " 0.29307267100388545,\n",
       " 0.25135745207173776,\n",
       " 0.44796322116018084,\n",
       " 0.41455998265737204,\n",
       " 0.7630208456457468,\n",
       " 0.24640409246700162,\n",
       " 0.26766155605348463,\n",
       " 0.3571047719694599,\n",
       " 0.3875393912311673,\n",
       " 0.33408411819536055,\n",
       " 0.37630975006711737,\n",
       " 0.3851778419012765,\n",
       " 0.2878668593000686,\n",
       " 0.30073077752397126,\n",
       " 0.31030630799302567,\n",
       " 0.6288439425589271,\n",
       " 0.7471636363636364,\n",
       " 0.5732558971143952,\n",
       " 0.35607040170868093,\n",
       " 0.3878895124442299,\n",
       " 0.3120374302904353,\n",
       " 0.3571652362274257,\n",
       " 0.2533232300804886,\n",
       " 0.3015391681111491,\n",
       " 0.593683405292926,\n",
       " 0.2658152734778122,\n",
       " 0.32710204694263595,\n",
       " 0.24166666666666664,\n",
       " 0.40186985756751437,\n",
       " 0.48778121181219347,\n",
       " 0.27467764427850916,\n",
       " 0.32777209354731635,\n",
       " 0.2937299866515116,\n",
       " 0.30930852637457606,\n",
       " 0.32333188949104674,\n",
       " 0.2898409217488165,\n",
       " 0.6582594200067259,\n",
       " 0.323072019109724,\n",
       " 0.35730943072436006,\n",
       " 0.36374121000550697,\n",
       " 0.304062907820945,\n",
       " 0.2984184067150748,\n",
       " 0.3537216317423481,\n",
       " 0.3445632875238109,\n",
       " 0.29522725044950343,\n",
       " 0.45532850598846675,\n",
       " 0.42738165287925317,\n",
       " 0.2930744281439746,\n",
       " 0.3626323472224841,\n",
       " 0.24108717878379676,\n",
       " 0.3819142914616891,\n",
       " 0.5233878931505952,\n",
       " 0.2676005580097652,\n",
       " 0.5480453715871482,\n",
       " 0.267331793466686,\n",
       " 0.4245979210419197,\n",
       " 0.34415085817524843,\n",
       " 0.2558779403385919,\n",
       " 0.4450282100631724,\n",
       " 0.29176024581617915,\n",
       " 0.4596891788786661,\n",
       " 0.3574835746039701,\n",
       " 0.3414281602897642,\n",
       " 0.29087287900080816,\n",
       " 0.4451344645137748,\n",
       " 0.30990957436610694,\n",
       " 0.425479939832336,\n",
       " 0.4034678430517162,\n",
       " 0.24223262256943726,\n",
       " 0.31085536304494993,\n",
       " 0.5241841346918434,\n",
       " 0.33699917763928705,\n",
       " 0.2269066592293895,\n",
       " 0.3415310852850888,\n",
       " 0.2759967165497525,\n",
       " 0.29890459085927085,\n",
       " 0.35480896420690644,\n",
       " 0.2837131867486533,\n",
       " 0.32890201623931936,\n",
       " 0.4011349887964313,\n",
       " 0.329481072779542,\n",
       " 0.24902009928732943,\n",
       " 0.2399818921070634,\n",
       " 0.3124742327837756,\n",
       " 0.2532689393939394,\n",
       " 0.3351435165543867]"
      ]
     },
     "execution_count": 71,
     "metadata": {},
     "output_type": "execute_result"
    }
   ],
   "source": [
    "ratio_1to10"
   ]
  },
  {
   "cell_type": "markdown",
   "metadata": {},
   "source": [
    "## The correlation"
   ]
  },
  {
   "cell_type": "code",
   "execution_count": 72,
   "metadata": {},
   "outputs": [
    {
     "name": "stdout",
     "output_type": "stream",
     "text": [
      "The value of correlation is -0.5829590084348533 .\n"
     ]
    }
   ],
   "source": [
    "my_rho_1to10 = np.corrcoef(ratio_1to10, dislike)\n",
    "\n",
    "# print(my_rho)\n",
    "print(\"The value of correlation is\",my_rho_1to10[0][1],'.')"
   ]
  },
  {
   "cell_type": "markdown",
   "metadata": {},
   "source": [
    "## Visualiztion"
   ]
  },
  {
   "cell_type": "code",
   "execution_count": 73,
   "metadata": {},
   "outputs": [],
   "source": [
    "df_1to10 = pd.DataFrame({\"round 1-10\": ratio_1to10, \"dislike\":dislike})"
   ]
  },
  {
   "cell_type": "code",
   "execution_count": 74,
   "metadata": {},
   "outputs": [
    {
     "data": {
      "text/plain": [
       "Text(0, 0.5, 'The score of being liked of the dictator')"
      ]
     },
     "execution_count": 74,
     "metadata": {},
     "output_type": "execute_result"
    },
    {
     "data": {
      "image/png": "[encoded data removed]",
      "text/plain": [
       "<Figure size 432x288 with 1 Axes>"
      ]
     },
     "metadata": {
      "image/png": {
       "height": 277,
       "width": 454
      },
      "needs_background": "light"
     },
     "output_type": "display_data"
    }
   ],
   "source": [
    "ax_1to10 = sns.regplot(x= ratio_1to10, y=dislike, data=df_1to10, ci=None)\n",
    "ax_1to10.set_title(\"The score of being liked of the dictator vs. The pgg_receive in round 1-10\")\n",
    "ax_1to10.set_xlabel(\"The ratio of pgg_receive of the dictator in round 1-10\")\n",
    "ax_1to10.set_ylabel(\"The score of being liked of the dictator\")"
   ]
  },
  {
   "cell_type": "markdown",
   "metadata": {},
   "source": [
    "# The correlation between round 10 and round 1-8"
   ]
  },
  {
   "cell_type": "code",
   "execution_count": null,
   "metadata": {},
   "outputs": [],
   "source": []
  }
 ],
 "metadata": {
  "kernelspec": {
   "display_name": "Python 3",
   "language": "python",
   "name": "python3"
  },
  "language_info": {
   "codemirror_mode": {
    "name": "ipython",
    "version": 3
   },
   "file_extension": ".py",
   "mimetype": "text/x-python",
   "name": "python",
   "nbconvert_exporter": "python",
   "pygments_lexer": "ipython3",
   "version": "3.8.2"
  },
  "toc": {
   "base_numbering": 1,
   "nav_menu": {},
   "number_sections": true,
   "sideBar": true,
   "skip_h1_title": false,
   "title_cell": "Table of Contents",
   "title_sidebar": "Contents",
   "toc_cell": false,
   "toc_position": {
    "height": "calc(100% - 180px)",
    "left": "10px",
    "top": "150px",
    "width": "293px"
   },
   "toc_section_display": true,
   "toc_window_display": true
  }
 },
 "nbformat": 4,
 "nbformat_minor": 4
}
