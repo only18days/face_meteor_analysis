{
 "cells": [
  {
   "cell_type": "markdown",
   "metadata": {},
   "source": [
    "# Setup packages"
   ]
  },
  {
   "cell_type": "code",
   "execution_count": 76,
   "metadata": {},
   "outputs": [],
   "source": [
    "%matplotlib inline\n",
    "%config InlineBackend.figure_format = 'retina'\n",
    "import os\n",
    "import pandas as pd\n",
    "import matplotlib.pylab as plt\n",
    "import numpy as np\n",
    "import seaborn as sns\n",
    "# from pymer4.models import Lmer\n",
    "from natsort import natsorted, ns\n",
    "import glob\n",
    "import networkx as nx\n",
    "from scipy.stats import pearsonr\n",
    "\n",
    "fpath = 'C:/Users/becha/Desktop/Face_meteor_analysis'"
   ]
  },
  {
   "cell_type": "markdown",
   "metadata": {},
   "source": [
    "## Loading data for analysis"
   ]
  },
  {
   "cell_type": "code",
   "execution_count": 77,
   "metadata": {},
   "outputs": [
    {
     "name": "stdout",
     "output_type": "stream",
     "text": [
      "There are 50 groups for v4.\n"
     ]
    }
   ],
   "source": [
    "datalist = natsorted(glob.glob(os.path.join(fpath,'Data', 'preprocessed_data', 'preprocessed_data', \"v4\",\"*\")))\n",
    "len(datalist)\n",
    "print('There are',len(datalist),'groups for v4.')"
   ]
  },
  {
   "cell_type": "code",
   "execution_count": 78,
   "metadata": {},
   "outputs": [],
   "source": [
    "lst = []\n",
    "\n",
    "def loop_directory(directory: str):\n",
    "    '''Loop files in the directory'''\n",
    "\n",
    "    for filename in os.listdir(directory):\n",
    "            if filename.endswith(\".csv\"):\n",
    "                file_directory = os.path.join(directory, filename)\n",
    "                lst.append(file_directory)\n",
    "                pd.read_csv(file_directory)\n",
    "                \n",
    "                \n",
    "            else:\n",
    "                continue\n",
    "#     print(lst)"
   ]
  },
  {
   "cell_type": "markdown",
   "metadata": {},
   "source": [
    "### The data of games"
   ]
  },
  {
   "cell_type": "code",
   "execution_count": 79,
   "metadata": {},
   "outputs": [],
   "source": [
    "loop_directory('C:/Users/becha/Desktop/Face_meteor_analysis/Data/preprocessed_data/preprocessed_data/v4')"
   ]
  },
  {
   "cell_type": "code",
   "execution_count": 80,
   "metadata": {},
   "outputs": [
    {
     "data": {
      "text/plain": [
       "['C:/Users/becha/Desktop/Face_meteor_analysis/Data/preprocessed_data/preprocessed_data/v4\\\\group_129_v4.csv',\n",
       " 'C:/Users/becha/Desktop/Face_meteor_analysis/Data/preprocessed_data/preprocessed_data/v4\\\\group_130_v4.csv',\n",
       " 'C:/Users/becha/Desktop/Face_meteor_analysis/Data/preprocessed_data/preprocessed_data/v4\\\\group_131_v4.csv',\n",
       " 'C:/Users/becha/Desktop/Face_meteor_analysis/Data/preprocessed_data/preprocessed_data/v4\\\\group_132_v4.csv',\n",
       " 'C:/Users/becha/Desktop/Face_meteor_analysis/Data/preprocessed_data/preprocessed_data/v4\\\\group_134_v4.csv',\n",
       " 'C:/Users/becha/Desktop/Face_meteor_analysis/Data/preprocessed_data/preprocessed_data/v4\\\\group_135_v4.csv',\n",
       " 'C:/Users/becha/Desktop/Face_meteor_analysis/Data/preprocessed_data/preprocessed_data/v4\\\\group_159_v4.csv',\n",
       " 'C:/Users/becha/Desktop/Face_meteor_analysis/Data/preprocessed_data/preprocessed_data/v4\\\\group_160_v4.csv',\n",
       " 'C:/Users/becha/Desktop/Face_meteor_analysis/Data/preprocessed_data/preprocessed_data/v4\\\\group_161_v4.csv',\n",
       " 'C:/Users/becha/Desktop/Face_meteor_analysis/Data/preprocessed_data/preprocessed_data/v4\\\\group_162_v4.csv',\n",
       " 'C:/Users/becha/Desktop/Face_meteor_analysis/Data/preprocessed_data/preprocessed_data/v4\\\\group_189_v4.csv',\n",
       " 'C:/Users/becha/Desktop/Face_meteor_analysis/Data/preprocessed_data/preprocessed_data/v4\\\\group_190_v4.csv',\n",
       " 'C:/Users/becha/Desktop/Face_meteor_analysis/Data/preprocessed_data/preprocessed_data/v4\\\\group_191_v4.csv',\n",
       " 'C:/Users/becha/Desktop/Face_meteor_analysis/Data/preprocessed_data/preprocessed_data/v4\\\\group_192_v4.csv',\n",
       " 'C:/Users/becha/Desktop/Face_meteor_analysis/Data/preprocessed_data/preprocessed_data/v4\\\\group_193_v4.csv',\n",
       " 'C:/Users/becha/Desktop/Face_meteor_analysis/Data/preprocessed_data/preprocessed_data/v4\\\\group_194_v4.csv',\n",
       " 'C:/Users/becha/Desktop/Face_meteor_analysis/Data/preprocessed_data/preprocessed_data/v4\\\\group_196_v4.csv',\n",
       " 'C:/Users/becha/Desktop/Face_meteor_analysis/Data/preprocessed_data/preprocessed_data/v4\\\\group_197_v4.csv',\n",
       " 'C:/Users/becha/Desktop/Face_meteor_analysis/Data/preprocessed_data/preprocessed_data/v4\\\\group_215_v4.csv',\n",
       " 'C:/Users/becha/Desktop/Face_meteor_analysis/Data/preprocessed_data/preprocessed_data/v4\\\\group_216_v4.csv',\n",
       " 'C:/Users/becha/Desktop/Face_meteor_analysis/Data/preprocessed_data/preprocessed_data/v4\\\\group_218_v4.csv',\n",
       " 'C:/Users/becha/Desktop/Face_meteor_analysis/Data/preprocessed_data/preprocessed_data/v4\\\\group_37_v4.csv',\n",
       " 'C:/Users/becha/Desktop/Face_meteor_analysis/Data/preprocessed_data/preprocessed_data/v4\\\\group_38_v4.csv',\n",
       " 'C:/Users/becha/Desktop/Face_meteor_analysis/Data/preprocessed_data/preprocessed_data/v4\\\\group_39_v4.csv',\n",
       " 'C:/Users/becha/Desktop/Face_meteor_analysis/Data/preprocessed_data/preprocessed_data/v4\\\\group_40_v4.csv',\n",
       " 'C:/Users/becha/Desktop/Face_meteor_analysis/Data/preprocessed_data/preprocessed_data/v4\\\\group_41_v4.csv',\n",
       " 'C:/Users/becha/Desktop/Face_meteor_analysis/Data/preprocessed_data/preprocessed_data/v4\\\\group_42_v4.csv',\n",
       " 'C:/Users/becha/Desktop/Face_meteor_analysis/Data/preprocessed_data/preprocessed_data/v4\\\\group_43_v4.csv',\n",
       " 'C:/Users/becha/Desktop/Face_meteor_analysis/Data/preprocessed_data/preprocessed_data/v4\\\\group_44_v4.csv',\n",
       " 'C:/Users/becha/Desktop/Face_meteor_analysis/Data/preprocessed_data/preprocessed_data/v4\\\\group_45_v4.csv',\n",
       " 'C:/Users/becha/Desktop/Face_meteor_analysis/Data/preprocessed_data/preprocessed_data/v4\\\\group_46_v4.csv',\n",
       " 'C:/Users/becha/Desktop/Face_meteor_analysis/Data/preprocessed_data/preprocessed_data/v4\\\\group_47_v4.csv',\n",
       " 'C:/Users/becha/Desktop/Face_meteor_analysis/Data/preprocessed_data/preprocessed_data/v4\\\\group_48_v4.csv',\n",
       " 'C:/Users/becha/Desktop/Face_meteor_analysis/Data/preprocessed_data/preprocessed_data/v4\\\\group_49_v4.csv',\n",
       " 'C:/Users/becha/Desktop/Face_meteor_analysis/Data/preprocessed_data/preprocessed_data/v4\\\\group_50_v4.csv',\n",
       " 'C:/Users/becha/Desktop/Face_meteor_analysis/Data/preprocessed_data/preprocessed_data/v4\\\\group_51_v4.csv',\n",
       " 'C:/Users/becha/Desktop/Face_meteor_analysis/Data/preprocessed_data/preprocessed_data/v4\\\\group_76_v4.csv',\n",
       " 'C:/Users/becha/Desktop/Face_meteor_analysis/Data/preprocessed_data/preprocessed_data/v4\\\\group_77_v4.csv',\n",
       " 'C:/Users/becha/Desktop/Face_meteor_analysis/Data/preprocessed_data/preprocessed_data/v4\\\\group_79_v4.csv',\n",
       " 'C:/Users/becha/Desktop/Face_meteor_analysis/Data/preprocessed_data/preprocessed_data/v4\\\\group_80_v4.csv',\n",
       " 'C:/Users/becha/Desktop/Face_meteor_analysis/Data/preprocessed_data/preprocessed_data/v4\\\\group_81_v4.csv',\n",
       " 'C:/Users/becha/Desktop/Face_meteor_analysis/Data/preprocessed_data/preprocessed_data/v4\\\\group_82_v4.csv',\n",
       " 'C:/Users/becha/Desktop/Face_meteor_analysis/Data/preprocessed_data/preprocessed_data/v4\\\\group_83_v4.csv',\n",
       " 'C:/Users/becha/Desktop/Face_meteor_analysis/Data/preprocessed_data/preprocessed_data/v4\\\\group_84_v4.csv',\n",
       " 'C:/Users/becha/Desktop/Face_meteor_analysis/Data/preprocessed_data/preprocessed_data/v4\\\\group_85_v4.csv',\n",
       " 'C:/Users/becha/Desktop/Face_meteor_analysis/Data/preprocessed_data/preprocessed_data/v4\\\\group_86_v4.csv',\n",
       " 'C:/Users/becha/Desktop/Face_meteor_analysis/Data/preprocessed_data/preprocessed_data/v4\\\\group_87_v4.csv',\n",
       " 'C:/Users/becha/Desktop/Face_meteor_analysis/Data/preprocessed_data/preprocessed_data/v4\\\\group_88_v4.csv',\n",
       " 'C:/Users/becha/Desktop/Face_meteor_analysis/Data/preprocessed_data/preprocessed_data/v4\\\\group_89_v4.csv',\n",
       " 'C:/Users/becha/Desktop/Face_meteor_analysis/Data/preprocessed_data/preprocessed_data/v4\\\\group_90_v4.csv']"
      ]
     },
     "execution_count": 80,
     "metadata": {},
     "output_type": "execute_result"
    }
   ],
   "source": [
    "lst\n",
    "# print(len(lst))"
   ]
  },
  {
   "cell_type": "code",
   "execution_count": 81,
   "metadata": {},
   "outputs": [],
   "source": [
    "# df0 = pd.read_csv(lst[0])\n",
    "# df1 = pd.read_csv(lst[1])\n",
    "# df2 = pd.read_csv(lst[2])\n",
    "# df3 = pd.read_csv(lst[3])\n",
    "# df4 = pd.read_csv(lst[4])\n",
    "# df5 = pd.read_csv(lst[5])\n",
    "\n",
    "datlst = []\n",
    "for i in range(0, len(lst)):\n",
    "    datlst.append(\"df\" + str(i))\n",
    "    globals()[\"df\" + str(i)] = pd.read_csv(lst[i])"
   ]
  },
  {
   "cell_type": "code",
   "execution_count": 82,
   "metadata": {},
   "outputs": [
    {
     "data": {
      "text/plain": [
       "['df0',\n",
       " 'df1',\n",
       " 'df2',\n",
       " 'df3',\n",
       " 'df4',\n",
       " 'df5',\n",
       " 'df6',\n",
       " 'df7',\n",
       " 'df8',\n",
       " 'df9',\n",
       " 'df10',\n",
       " 'df11',\n",
       " 'df12',\n",
       " 'df13',\n",
       " 'df14',\n",
       " 'df15',\n",
       " 'df16',\n",
       " 'df17',\n",
       " 'df18',\n",
       " 'df19',\n",
       " 'df20',\n",
       " 'df21',\n",
       " 'df22',\n",
       " 'df23',\n",
       " 'df24',\n",
       " 'df25',\n",
       " 'df26',\n",
       " 'df27',\n",
       " 'df28',\n",
       " 'df29',\n",
       " 'df30',\n",
       " 'df31',\n",
       " 'df32',\n",
       " 'df33',\n",
       " 'df34',\n",
       " 'df35',\n",
       " 'df36',\n",
       " 'df37',\n",
       " 'df38',\n",
       " 'df39',\n",
       " 'df40',\n",
       " 'df41',\n",
       " 'df42',\n",
       " 'df43',\n",
       " 'df44',\n",
       " 'df45',\n",
       " 'df46',\n",
       " 'df47',\n",
       " 'df48',\n",
       " 'df49']"
      ]
     },
     "execution_count": 82,
     "metadata": {},
     "output_type": "execute_result"
    }
   ],
   "source": [
    "datlst"
   ]
  },
  {
   "cell_type": "markdown",
   "metadata": {},
   "source": [
    "### The data of ratings"
   ]
  },
  {
   "cell_type": "code",
   "execution_count": 83,
   "metadata": {},
   "outputs": [],
   "source": [
    "lst_dislike = []\n",
    "\n",
    "def loop_directory(directory: str):\n",
    "    '''Loop files in the directory'''\n",
    "\n",
    "    for filename in os.listdir(directory):\n",
    "            if filename.endswith(\".csv\"):\n",
    "                file_directory = os.path.join(directory, filename)\n",
    "                lst_dislike.append(file_directory)\n",
    "                pd.read_csv(file_directory)\n",
    "                \n",
    "                \n",
    "            else:\n",
    "                continue"
   ]
  },
  {
   "cell_type": "code",
   "execution_count": 84,
   "metadata": {},
   "outputs": [],
   "source": [
    "loop_directory('C:/Users/becha/Desktop/Face_meteor_analysis/Data/preprocessed_data_rating/preprocessed_data_rating/v4')"
   ]
  },
  {
   "cell_type": "code",
   "execution_count": 85,
   "metadata": {},
   "outputs": [
    {
     "data": {
      "text/plain": [
       "['C:/Users/becha/Desktop/Face_meteor_analysis/Data/preprocessed_data_rating/preprocessed_data_rating/v4\\\\rating_GroupID129.csv',\n",
       " 'C:/Users/becha/Desktop/Face_meteor_analysis/Data/preprocessed_data_rating/preprocessed_data_rating/v4\\\\rating_GroupID130.csv',\n",
       " 'C:/Users/becha/Desktop/Face_meteor_analysis/Data/preprocessed_data_rating/preprocessed_data_rating/v4\\\\rating_GroupID131.csv',\n",
       " 'C:/Users/becha/Desktop/Face_meteor_analysis/Data/preprocessed_data_rating/preprocessed_data_rating/v4\\\\rating_GroupID132.csv',\n",
       " 'C:/Users/becha/Desktop/Face_meteor_analysis/Data/preprocessed_data_rating/preprocessed_data_rating/v4\\\\rating_GroupID134.csv',\n",
       " 'C:/Users/becha/Desktop/Face_meteor_analysis/Data/preprocessed_data_rating/preprocessed_data_rating/v4\\\\rating_GroupID135.csv',\n",
       " 'C:/Users/becha/Desktop/Face_meteor_analysis/Data/preprocessed_data_rating/preprocessed_data_rating/v4\\\\rating_GroupID159.csv',\n",
       " 'C:/Users/becha/Desktop/Face_meteor_analysis/Data/preprocessed_data_rating/preprocessed_data_rating/v4\\\\rating_GroupID160.csv',\n",
       " 'C:/Users/becha/Desktop/Face_meteor_analysis/Data/preprocessed_data_rating/preprocessed_data_rating/v4\\\\rating_GroupID161.csv',\n",
       " 'C:/Users/becha/Desktop/Face_meteor_analysis/Data/preprocessed_data_rating/preprocessed_data_rating/v4\\\\rating_GroupID162.csv',\n",
       " 'C:/Users/becha/Desktop/Face_meteor_analysis/Data/preprocessed_data_rating/preprocessed_data_rating/v4\\\\rating_GroupID189.csv',\n",
       " 'C:/Users/becha/Desktop/Face_meteor_analysis/Data/preprocessed_data_rating/preprocessed_data_rating/v4\\\\rating_GroupID190.csv',\n",
       " 'C:/Users/becha/Desktop/Face_meteor_analysis/Data/preprocessed_data_rating/preprocessed_data_rating/v4\\\\rating_GroupID191.csv',\n",
       " 'C:/Users/becha/Desktop/Face_meteor_analysis/Data/preprocessed_data_rating/preprocessed_data_rating/v4\\\\rating_GroupID192.csv',\n",
       " 'C:/Users/becha/Desktop/Face_meteor_analysis/Data/preprocessed_data_rating/preprocessed_data_rating/v4\\\\rating_GroupID193.csv',\n",
       " 'C:/Users/becha/Desktop/Face_meteor_analysis/Data/preprocessed_data_rating/preprocessed_data_rating/v4\\\\rating_GroupID194.csv',\n",
       " 'C:/Users/becha/Desktop/Face_meteor_analysis/Data/preprocessed_data_rating/preprocessed_data_rating/v4\\\\rating_GroupID196.csv',\n",
       " 'C:/Users/becha/Desktop/Face_meteor_analysis/Data/preprocessed_data_rating/preprocessed_data_rating/v4\\\\rating_GroupID197.csv',\n",
       " 'C:/Users/becha/Desktop/Face_meteor_analysis/Data/preprocessed_data_rating/preprocessed_data_rating/v4\\\\rating_GroupID215.csv',\n",
       " 'C:/Users/becha/Desktop/Face_meteor_analysis/Data/preprocessed_data_rating/preprocessed_data_rating/v4\\\\rating_GroupID216.csv',\n",
       " 'C:/Users/becha/Desktop/Face_meteor_analysis/Data/preprocessed_data_rating/preprocessed_data_rating/v4\\\\rating_GroupID218.csv',\n",
       " 'C:/Users/becha/Desktop/Face_meteor_analysis/Data/preprocessed_data_rating/preprocessed_data_rating/v4\\\\rating_GroupID37.csv',\n",
       " 'C:/Users/becha/Desktop/Face_meteor_analysis/Data/preprocessed_data_rating/preprocessed_data_rating/v4\\\\rating_GroupID38.csv',\n",
       " 'C:/Users/becha/Desktop/Face_meteor_analysis/Data/preprocessed_data_rating/preprocessed_data_rating/v4\\\\rating_GroupID39.csv',\n",
       " 'C:/Users/becha/Desktop/Face_meteor_analysis/Data/preprocessed_data_rating/preprocessed_data_rating/v4\\\\rating_GroupID40.csv',\n",
       " 'C:/Users/becha/Desktop/Face_meteor_analysis/Data/preprocessed_data_rating/preprocessed_data_rating/v4\\\\rating_GroupID41.csv',\n",
       " 'C:/Users/becha/Desktop/Face_meteor_analysis/Data/preprocessed_data_rating/preprocessed_data_rating/v4\\\\rating_GroupID42.csv',\n",
       " 'C:/Users/becha/Desktop/Face_meteor_analysis/Data/preprocessed_data_rating/preprocessed_data_rating/v4\\\\rating_GroupID43.csv',\n",
       " 'C:/Users/becha/Desktop/Face_meteor_analysis/Data/preprocessed_data_rating/preprocessed_data_rating/v4\\\\rating_GroupID44.csv',\n",
       " 'C:/Users/becha/Desktop/Face_meteor_analysis/Data/preprocessed_data_rating/preprocessed_data_rating/v4\\\\rating_GroupID45.csv',\n",
       " 'C:/Users/becha/Desktop/Face_meteor_analysis/Data/preprocessed_data_rating/preprocessed_data_rating/v4\\\\rating_GroupID46.csv',\n",
       " 'C:/Users/becha/Desktop/Face_meteor_analysis/Data/preprocessed_data_rating/preprocessed_data_rating/v4\\\\rating_GroupID47.csv',\n",
       " 'C:/Users/becha/Desktop/Face_meteor_analysis/Data/preprocessed_data_rating/preprocessed_data_rating/v4\\\\rating_GroupID48.csv',\n",
       " 'C:/Users/becha/Desktop/Face_meteor_analysis/Data/preprocessed_data_rating/preprocessed_data_rating/v4\\\\rating_GroupID49.csv',\n",
       " 'C:/Users/becha/Desktop/Face_meteor_analysis/Data/preprocessed_data_rating/preprocessed_data_rating/v4\\\\rating_GroupID50.csv',\n",
       " 'C:/Users/becha/Desktop/Face_meteor_analysis/Data/preprocessed_data_rating/preprocessed_data_rating/v4\\\\rating_GroupID51.csv',\n",
       " 'C:/Users/becha/Desktop/Face_meteor_analysis/Data/preprocessed_data_rating/preprocessed_data_rating/v4\\\\rating_GroupID76.csv',\n",
       " 'C:/Users/becha/Desktop/Face_meteor_analysis/Data/preprocessed_data_rating/preprocessed_data_rating/v4\\\\rating_GroupID77.csv',\n",
       " 'C:/Users/becha/Desktop/Face_meteor_analysis/Data/preprocessed_data_rating/preprocessed_data_rating/v4\\\\rating_GroupID79.csv',\n",
       " 'C:/Users/becha/Desktop/Face_meteor_analysis/Data/preprocessed_data_rating/preprocessed_data_rating/v4\\\\rating_GroupID80.csv',\n",
       " 'C:/Users/becha/Desktop/Face_meteor_analysis/Data/preprocessed_data_rating/preprocessed_data_rating/v4\\\\rating_GroupID81.csv',\n",
       " 'C:/Users/becha/Desktop/Face_meteor_analysis/Data/preprocessed_data_rating/preprocessed_data_rating/v4\\\\rating_GroupID82.csv',\n",
       " 'C:/Users/becha/Desktop/Face_meteor_analysis/Data/preprocessed_data_rating/preprocessed_data_rating/v4\\\\rating_GroupID83.csv',\n",
       " 'C:/Users/becha/Desktop/Face_meteor_analysis/Data/preprocessed_data_rating/preprocessed_data_rating/v4\\\\rating_GroupID84.csv',\n",
       " 'C:/Users/becha/Desktop/Face_meteor_analysis/Data/preprocessed_data_rating/preprocessed_data_rating/v4\\\\rating_GroupID85.csv',\n",
       " 'C:/Users/becha/Desktop/Face_meteor_analysis/Data/preprocessed_data_rating/preprocessed_data_rating/v4\\\\rating_GroupID86.csv',\n",
       " 'C:/Users/becha/Desktop/Face_meteor_analysis/Data/preprocessed_data_rating/preprocessed_data_rating/v4\\\\rating_GroupID87.csv',\n",
       " 'C:/Users/becha/Desktop/Face_meteor_analysis/Data/preprocessed_data_rating/preprocessed_data_rating/v4\\\\rating_GroupID88.csv',\n",
       " 'C:/Users/becha/Desktop/Face_meteor_analysis/Data/preprocessed_data_rating/preprocessed_data_rating/v4\\\\rating_GroupID89.csv',\n",
       " 'C:/Users/becha/Desktop/Face_meteor_analysis/Data/preprocessed_data_rating/preprocessed_data_rating/v4\\\\rating_GroupID90.csv']"
      ]
     },
     "execution_count": 85,
     "metadata": {},
     "output_type": "execute_result"
    }
   ],
   "source": [
    "lst_dislike\n",
    "# print(len(lst_dislike))"
   ]
  },
  {
   "cell_type": "code",
   "execution_count": 86,
   "metadata": {},
   "outputs": [
    {
     "data": {
      "text/plain": [
       "['df_dislike0',\n",
       " 'df_dislike1',\n",
       " 'df_dislike2',\n",
       " 'df_dislike3',\n",
       " 'df_dislike4',\n",
       " 'df_dislike5',\n",
       " 'df_dislike6',\n",
       " 'df_dislike7',\n",
       " 'df_dislike8',\n",
       " 'df_dislike9',\n",
       " 'df_dislike10',\n",
       " 'df_dislike11',\n",
       " 'df_dislike12',\n",
       " 'df_dislike13',\n",
       " 'df_dislike14',\n",
       " 'df_dislike15',\n",
       " 'df_dislike16',\n",
       " 'df_dislike17',\n",
       " 'df_dislike18',\n",
       " 'df_dislike19',\n",
       " 'df_dislike20',\n",
       " 'df_dislike21',\n",
       " 'df_dislike22',\n",
       " 'df_dislike23',\n",
       " 'df_dislike24',\n",
       " 'df_dislike25',\n",
       " 'df_dislike26',\n",
       " 'df_dislike27',\n",
       " 'df_dislike28',\n",
       " 'df_dislike29',\n",
       " 'df_dislike30',\n",
       " 'df_dislike31',\n",
       " 'df_dislike32',\n",
       " 'df_dislike33',\n",
       " 'df_dislike34',\n",
       " 'df_dislike35',\n",
       " 'df_dislike36',\n",
       " 'df_dislike37',\n",
       " 'df_dislike38',\n",
       " 'df_dislike39',\n",
       " 'df_dislike40',\n",
       " 'df_dislike41',\n",
       " 'df_dislike42',\n",
       " 'df_dislike43',\n",
       " 'df_dislike44',\n",
       " 'df_dislike45',\n",
       " 'df_dislike46',\n",
       " 'df_dislike47',\n",
       " 'df_dislike48',\n",
       " 'df_dislike49']"
      ]
     },
     "execution_count": 86,
     "metadata": {},
     "output_type": "execute_result"
    }
   ],
   "source": [
    "datlst_dislike = []\n",
    "for i in range(0, len(lst)):\n",
    "    datlst_dislike.append(\"df_dislike\" + str(i))\n",
    "    globals()[\"df_dislike\" + str(i)] = pd.read_csv(lst_dislike[i])\n",
    "datlst_dislike"
   ]
  },
  {
   "cell_type": "markdown",
   "metadata": {},
   "source": [
    "# The correlation between round 10 and dislike"
   ]
  },
  {
   "cell_type": "markdown",
   "metadata": {},
   "source": [
    "## The performance of the dictator in round 10"
   ]
  },
  {
   "cell_type": "code",
   "execution_count": 87,
   "metadata": {},
   "outputs": [],
   "source": [
    "## 取round 10的島主的pgg_receive\n",
    "dictator_pgg = []\n",
    "for i in range(0, len(lst)):\n",
    "    dictator_pgg.append(globals()['df'+str(i)][globals()['df'+str(i)]['dictator'] == 1].iloc[9]['pgg_receive'])\n",
    "\n",
    "# print(dictator_pgg)\n",
    "# print(len(dictator_pgg))"
   ]
  },
  {
   "cell_type": "code",
   "execution_count": 88,
   "metadata": {},
   "outputs": [],
   "source": [
    "## 取round 10的所有人的pgg_receive\n",
    "all_pgg = []\n",
    "for i in range(0,len(lst)):\n",
    "    all_pgg.append(sum(globals()[\"df\" + str(i)][globals()[\"df\" + str(i)]['round'] == 10]['pgg_receive']))\n",
    "\n",
    "# print(all_pgg)\n",
    "# print(len(all_pgg))"
   ]
  },
  {
   "cell_type": "code",
   "execution_count": 89,
   "metadata": {},
   "outputs": [],
   "source": [
    "# 計算：v5中島主最後一round pgg表現的顯著程度\n",
    "ratio_10 = [x/y for x, y in zip(dictator_pgg, all_pgg)]"
   ]
  },
  {
   "cell_type": "code",
   "execution_count": 90,
   "metadata": {},
   "outputs": [],
   "source": [
    "df_ratio = pd.DataFrame({\"group\": datlst, \"dictator's pgg receive\": dictator_pgg, \"all player's pgg receive\": all_pgg, \"ratio\": ratio_10})"
   ]
  },
  {
   "cell_type": "code",
   "execution_count": 91,
   "metadata": {},
   "outputs": [
    {
     "data": {
      "text/html": [
       "<div>\n",
       "<style scoped>\n",
       "    .dataframe tbody tr th:only-of-type {\n",
       "        vertical-align: middle;\n",
       "    }\n",
       "\n",
       "    .dataframe tbody tr th {\n",
       "        vertical-align: top;\n",
       "    }\n",
       "\n",
       "    .dataframe thead th {\n",
       "        text-align: right;\n",
       "    }\n",
       "</style>\n",
       "<table border=\"1\" class=\"dataframe\">\n",
       "  <thead>\n",
       "    <tr style=\"text-align: right;\">\n",
       "      <th></th>\n",
       "      <th>group</th>\n",
       "      <th>dictator's pgg receive</th>\n",
       "      <th>all player's pgg receive</th>\n",
       "      <th>ratio</th>\n",
       "    </tr>\n",
       "  </thead>\n",
       "  <tbody>\n",
       "    <tr>\n",
       "      <th>0</th>\n",
       "      <td>df0</td>\n",
       "      <td>293</td>\n",
       "      <td>293</td>\n",
       "      <td>1.000000</td>\n",
       "    </tr>\n",
       "    <tr>\n",
       "      <th>1</th>\n",
       "      <td>df1</td>\n",
       "      <td>173</td>\n",
       "      <td>240</td>\n",
       "      <td>0.720833</td>\n",
       "    </tr>\n",
       "    <tr>\n",
       "      <th>2</th>\n",
       "      <td>df2</td>\n",
       "      <td>31</td>\n",
       "      <td>53</td>\n",
       "      <td>0.584906</td>\n",
       "    </tr>\n",
       "    <tr>\n",
       "      <th>3</th>\n",
       "      <td>df3</td>\n",
       "      <td>63</td>\n",
       "      <td>275</td>\n",
       "      <td>0.229091</td>\n",
       "    </tr>\n",
       "    <tr>\n",
       "      <th>4</th>\n",
       "      <td>df4</td>\n",
       "      <td>99</td>\n",
       "      <td>432</td>\n",
       "      <td>0.229167</td>\n",
       "    </tr>\n",
       "    <tr>\n",
       "      <th>5</th>\n",
       "      <td>df5</td>\n",
       "      <td>0</td>\n",
       "      <td>390</td>\n",
       "      <td>0.000000</td>\n",
       "    </tr>\n",
       "    <tr>\n",
       "      <th>6</th>\n",
       "      <td>df6</td>\n",
       "      <td>161</td>\n",
       "      <td>278</td>\n",
       "      <td>0.579137</td>\n",
       "    </tr>\n",
       "    <tr>\n",
       "      <th>7</th>\n",
       "      <td>df7</td>\n",
       "      <td>170</td>\n",
       "      <td>390</td>\n",
       "      <td>0.435897</td>\n",
       "    </tr>\n",
       "    <tr>\n",
       "      <th>8</th>\n",
       "      <td>df8</td>\n",
       "      <td>315</td>\n",
       "      <td>315</td>\n",
       "      <td>1.000000</td>\n",
       "    </tr>\n",
       "    <tr>\n",
       "      <th>9</th>\n",
       "      <td>df9</td>\n",
       "      <td>150</td>\n",
       "      <td>308</td>\n",
       "      <td>0.487013</td>\n",
       "    </tr>\n",
       "    <tr>\n",
       "      <th>10</th>\n",
       "      <td>df10</td>\n",
       "      <td>150</td>\n",
       "      <td>600</td>\n",
       "      <td>0.250000</td>\n",
       "    </tr>\n",
       "    <tr>\n",
       "      <th>11</th>\n",
       "      <td>df11</td>\n",
       "      <td>150</td>\n",
       "      <td>600</td>\n",
       "      <td>0.250000</td>\n",
       "    </tr>\n",
       "    <tr>\n",
       "      <th>12</th>\n",
       "      <td>df12</td>\n",
       "      <td>165</td>\n",
       "      <td>473</td>\n",
       "      <td>0.348837</td>\n",
       "    </tr>\n",
       "    <tr>\n",
       "      <th>13</th>\n",
       "      <td>df13</td>\n",
       "      <td>300</td>\n",
       "      <td>315</td>\n",
       "      <td>0.952381</td>\n",
       "    </tr>\n",
       "    <tr>\n",
       "      <th>14</th>\n",
       "      <td>df14</td>\n",
       "      <td>160</td>\n",
       "      <td>165</td>\n",
       "      <td>0.969697</td>\n",
       "    </tr>\n",
       "    <tr>\n",
       "      <th>15</th>\n",
       "      <td>df15</td>\n",
       "      <td>150</td>\n",
       "      <td>165</td>\n",
       "      <td>0.909091</td>\n",
       "    </tr>\n",
       "    <tr>\n",
       "      <th>16</th>\n",
       "      <td>df16</td>\n",
       "      <td>150</td>\n",
       "      <td>420</td>\n",
       "      <td>0.357143</td>\n",
       "    </tr>\n",
       "    <tr>\n",
       "      <th>17</th>\n",
       "      <td>df17</td>\n",
       "      <td>222</td>\n",
       "      <td>462</td>\n",
       "      <td>0.480519</td>\n",
       "    </tr>\n",
       "    <tr>\n",
       "      <th>18</th>\n",
       "      <td>df18</td>\n",
       "      <td>150</td>\n",
       "      <td>302</td>\n",
       "      <td>0.496689</td>\n",
       "    </tr>\n",
       "    <tr>\n",
       "      <th>19</th>\n",
       "      <td>df19</td>\n",
       "      <td>330</td>\n",
       "      <td>330</td>\n",
       "      <td>1.000000</td>\n",
       "    </tr>\n",
       "    <tr>\n",
       "      <th>20</th>\n",
       "      <td>df20</td>\n",
       "      <td>155</td>\n",
       "      <td>480</td>\n",
       "      <td>0.322917</td>\n",
       "    </tr>\n",
       "    <tr>\n",
       "      <th>21</th>\n",
       "      <td>df21</td>\n",
       "      <td>150</td>\n",
       "      <td>600</td>\n",
       "      <td>0.250000</td>\n",
       "    </tr>\n",
       "    <tr>\n",
       "      <th>22</th>\n",
       "      <td>df22</td>\n",
       "      <td>150</td>\n",
       "      <td>573</td>\n",
       "      <td>0.261780</td>\n",
       "    </tr>\n",
       "    <tr>\n",
       "      <th>23</th>\n",
       "      <td>df23</td>\n",
       "      <td>165</td>\n",
       "      <td>600</td>\n",
       "      <td>0.275000</td>\n",
       "    </tr>\n",
       "    <tr>\n",
       "      <th>24</th>\n",
       "      <td>df24</td>\n",
       "      <td>150</td>\n",
       "      <td>450</td>\n",
       "      <td>0.333333</td>\n",
       "    </tr>\n",
       "    <tr>\n",
       "      <th>25</th>\n",
       "      <td>df25</td>\n",
       "      <td>150</td>\n",
       "      <td>600</td>\n",
       "      <td>0.250000</td>\n",
       "    </tr>\n",
       "    <tr>\n",
       "      <th>26</th>\n",
       "      <td>df26</td>\n",
       "      <td>232</td>\n",
       "      <td>320</td>\n",
       "      <td>0.725000</td>\n",
       "    </tr>\n",
       "    <tr>\n",
       "      <th>27</th>\n",
       "      <td>df27</td>\n",
       "      <td>75</td>\n",
       "      <td>323</td>\n",
       "      <td>0.232198</td>\n",
       "    </tr>\n",
       "    <tr>\n",
       "      <th>28</th>\n",
       "      <td>df28</td>\n",
       "      <td>150</td>\n",
       "      <td>551</td>\n",
       "      <td>0.272232</td>\n",
       "    </tr>\n",
       "    <tr>\n",
       "      <th>29</th>\n",
       "      <td>df29</td>\n",
       "      <td>317</td>\n",
       "      <td>593</td>\n",
       "      <td>0.534570</td>\n",
       "    </tr>\n",
       "    <tr>\n",
       "      <th>30</th>\n",
       "      <td>df30</td>\n",
       "      <td>100</td>\n",
       "      <td>300</td>\n",
       "      <td>0.333333</td>\n",
       "    </tr>\n",
       "    <tr>\n",
       "      <th>31</th>\n",
       "      <td>df31</td>\n",
       "      <td>150</td>\n",
       "      <td>578</td>\n",
       "      <td>0.259516</td>\n",
       "    </tr>\n",
       "    <tr>\n",
       "      <th>32</th>\n",
       "      <td>df32</td>\n",
       "      <td>366</td>\n",
       "      <td>366</td>\n",
       "      <td>1.000000</td>\n",
       "    </tr>\n",
       "    <tr>\n",
       "      <th>33</th>\n",
       "      <td>df33</td>\n",
       "      <td>400</td>\n",
       "      <td>450</td>\n",
       "      <td>0.888889</td>\n",
       "    </tr>\n",
       "    <tr>\n",
       "      <th>34</th>\n",
       "      <td>df34</td>\n",
       "      <td>100</td>\n",
       "      <td>195</td>\n",
       "      <td>0.512821</td>\n",
       "    </tr>\n",
       "    <tr>\n",
       "      <th>35</th>\n",
       "      <td>df35</td>\n",
       "      <td>223</td>\n",
       "      <td>374</td>\n",
       "      <td>0.596257</td>\n",
       "    </tr>\n",
       "    <tr>\n",
       "      <th>36</th>\n",
       "      <td>df36</td>\n",
       "      <td>150</td>\n",
       "      <td>570</td>\n",
       "      <td>0.263158</td>\n",
       "    </tr>\n",
       "    <tr>\n",
       "      <th>37</th>\n",
       "      <td>df37</td>\n",
       "      <td>165</td>\n",
       "      <td>165</td>\n",
       "      <td>1.000000</td>\n",
       "    </tr>\n",
       "    <tr>\n",
       "      <th>38</th>\n",
       "      <td>df38</td>\n",
       "      <td>59</td>\n",
       "      <td>186</td>\n",
       "      <td>0.317204</td>\n",
       "    </tr>\n",
       "    <tr>\n",
       "      <th>39</th>\n",
       "      <td>df39</td>\n",
       "      <td>200</td>\n",
       "      <td>428</td>\n",
       "      <td>0.467290</td>\n",
       "    </tr>\n",
       "    <tr>\n",
       "      <th>40</th>\n",
       "      <td>df40</td>\n",
       "      <td>564</td>\n",
       "      <td>564</td>\n",
       "      <td>1.000000</td>\n",
       "    </tr>\n",
       "    <tr>\n",
       "      <th>41</th>\n",
       "      <td>df41</td>\n",
       "      <td>95</td>\n",
       "      <td>434</td>\n",
       "      <td>0.218894</td>\n",
       "    </tr>\n",
       "    <tr>\n",
       "      <th>42</th>\n",
       "      <td>df42</td>\n",
       "      <td>300</td>\n",
       "      <td>600</td>\n",
       "      <td>0.500000</td>\n",
       "    </tr>\n",
       "    <tr>\n",
       "      <th>43</th>\n",
       "      <td>df43</td>\n",
       "      <td>170</td>\n",
       "      <td>255</td>\n",
       "      <td>0.666667</td>\n",
       "    </tr>\n",
       "    <tr>\n",
       "      <th>44</th>\n",
       "      <td>df44</td>\n",
       "      <td>150</td>\n",
       "      <td>450</td>\n",
       "      <td>0.333333</td>\n",
       "    </tr>\n",
       "    <tr>\n",
       "      <th>45</th>\n",
       "      <td>df45</td>\n",
       "      <td>25</td>\n",
       "      <td>315</td>\n",
       "      <td>0.079365</td>\n",
       "    </tr>\n",
       "    <tr>\n",
       "      <th>46</th>\n",
       "      <td>df46</td>\n",
       "      <td>150</td>\n",
       "      <td>293</td>\n",
       "      <td>0.511945</td>\n",
       "    </tr>\n",
       "    <tr>\n",
       "      <th>47</th>\n",
       "      <td>df47</td>\n",
       "      <td>156</td>\n",
       "      <td>524</td>\n",
       "      <td>0.297710</td>\n",
       "    </tr>\n",
       "    <tr>\n",
       "      <th>48</th>\n",
       "      <td>df48</td>\n",
       "      <td>150</td>\n",
       "      <td>600</td>\n",
       "      <td>0.250000</td>\n",
       "    </tr>\n",
       "    <tr>\n",
       "      <th>49</th>\n",
       "      <td>df49</td>\n",
       "      <td>557</td>\n",
       "      <td>557</td>\n",
       "      <td>1.000000</td>\n",
       "    </tr>\n",
       "  </tbody>\n",
       "</table>\n",
       "</div>"
      ],
      "text/plain": [
       "   group  dictator's pgg receive  all player's pgg receive     ratio\n",
       "0    df0                     293                       293  1.000000\n",
       "1    df1                     173                       240  0.720833\n",
       "2    df2                      31                        53  0.584906\n",
       "3    df3                      63                       275  0.229091\n",
       "4    df4                      99                       432  0.229167\n",
       "5    df5                       0                       390  0.000000\n",
       "6    df6                     161                       278  0.579137\n",
       "7    df7                     170                       390  0.435897\n",
       "8    df8                     315                       315  1.000000\n",
       "9    df9                     150                       308  0.487013\n",
       "10  df10                     150                       600  0.250000\n",
       "11  df11                     150                       600  0.250000\n",
       "12  df12                     165                       473  0.348837\n",
       "13  df13                     300                       315  0.952381\n",
       "14  df14                     160                       165  0.969697\n",
       "15  df15                     150                       165  0.909091\n",
       "16  df16                     150                       420  0.357143\n",
       "17  df17                     222                       462  0.480519\n",
       "18  df18                     150                       302  0.496689\n",
       "19  df19                     330                       330  1.000000\n",
       "20  df20                     155                       480  0.322917\n",
       "21  df21                     150                       600  0.250000\n",
       "22  df22                     150                       573  0.261780\n",
       "23  df23                     165                       600  0.275000\n",
       "24  df24                     150                       450  0.333333\n",
       "25  df25                     150                       600  0.250000\n",
       "26  df26                     232                       320  0.725000\n",
       "27  df27                      75                       323  0.232198\n",
       "28  df28                     150                       551  0.272232\n",
       "29  df29                     317                       593  0.534570\n",
       "30  df30                     100                       300  0.333333\n",
       "31  df31                     150                       578  0.259516\n",
       "32  df32                     366                       366  1.000000\n",
       "33  df33                     400                       450  0.888889\n",
       "34  df34                     100                       195  0.512821\n",
       "35  df35                     223                       374  0.596257\n",
       "36  df36                     150                       570  0.263158\n",
       "37  df37                     165                       165  1.000000\n",
       "38  df38                      59                       186  0.317204\n",
       "39  df39                     200                       428  0.467290\n",
       "40  df40                     564                       564  1.000000\n",
       "41  df41                      95                       434  0.218894\n",
       "42  df42                     300                       600  0.500000\n",
       "43  df43                     170                       255  0.666667\n",
       "44  df44                     150                       450  0.333333\n",
       "45  df45                      25                       315  0.079365\n",
       "46  df46                     150                       293  0.511945\n",
       "47  df47                     156                       524  0.297710\n",
       "48  df48                     150                       600  0.250000\n",
       "49  df49                     557                       557  1.000000"
      ]
     },
     "execution_count": 91,
     "metadata": {},
     "output_type": "execute_result"
    }
   ],
   "source": [
    "df_ratio"
   ]
  },
  {
   "cell_type": "markdown",
   "metadata": {},
   "source": [
    "## The degree of dislike of the dictator"
   ]
  },
  {
   "cell_type": "code",
   "execution_count": 92,
   "metadata": {},
   "outputs": [],
   "source": [
    "# 先以df_dislike0為例\n",
    "dislike = []\n",
    "for i in range(0,len(lst)):\n",
    "    dislike.append(np.mean(globals()[\"df_dislike\" + str(i)]['liking_p1'][1:]))\n",
    "\n",
    "# print(dislike)\n",
    "# len(dislike)"
   ]
  },
  {
   "cell_type": "code",
   "execution_count": 93,
   "metadata": {},
   "outputs": [],
   "source": [
    "df_ratio['dislike'] = dislike"
   ]
  },
  {
   "cell_type": "code",
   "execution_count": 94,
   "metadata": {},
   "outputs": [
    {
     "data": {
      "text/html": [
       "<div>\n",
       "<style scoped>\n",
       "    .dataframe tbody tr th:only-of-type {\n",
       "        vertical-align: middle;\n",
       "    }\n",
       "\n",
       "    .dataframe tbody tr th {\n",
       "        vertical-align: top;\n",
       "    }\n",
       "\n",
       "    .dataframe thead th {\n",
       "        text-align: right;\n",
       "    }\n",
       "</style>\n",
       "<table border=\"1\" class=\"dataframe\">\n",
       "  <thead>\n",
       "    <tr style=\"text-align: right;\">\n",
       "      <th></th>\n",
       "      <th>group</th>\n",
       "      <th>dictator's pgg receive</th>\n",
       "      <th>all player's pgg receive</th>\n",
       "      <th>ratio</th>\n",
       "      <th>dislike</th>\n",
       "    </tr>\n",
       "  </thead>\n",
       "  <tbody>\n",
       "    <tr>\n",
       "      <th>0</th>\n",
       "      <td>df0</td>\n",
       "      <td>293</td>\n",
       "      <td>293</td>\n",
       "      <td>1.000000</td>\n",
       "      <td>10.666667</td>\n",
       "    </tr>\n",
       "    <tr>\n",
       "      <th>1</th>\n",
       "      <td>df1</td>\n",
       "      <td>173</td>\n",
       "      <td>240</td>\n",
       "      <td>0.720833</td>\n",
       "      <td>15.000000</td>\n",
       "    </tr>\n",
       "    <tr>\n",
       "      <th>2</th>\n",
       "      <td>df2</td>\n",
       "      <td>31</td>\n",
       "      <td>53</td>\n",
       "      <td>0.584906</td>\n",
       "      <td>36.666667</td>\n",
       "    </tr>\n",
       "    <tr>\n",
       "      <th>3</th>\n",
       "      <td>df3</td>\n",
       "      <td>63</td>\n",
       "      <td>275</td>\n",
       "      <td>0.229091</td>\n",
       "      <td>62.666667</td>\n",
       "    </tr>\n",
       "    <tr>\n",
       "      <th>4</th>\n",
       "      <td>df4</td>\n",
       "      <td>99</td>\n",
       "      <td>432</td>\n",
       "      <td>0.229167</td>\n",
       "      <td>68.333333</td>\n",
       "    </tr>\n",
       "    <tr>\n",
       "      <th>5</th>\n",
       "      <td>df5</td>\n",
       "      <td>0</td>\n",
       "      <td>390</td>\n",
       "      <td>0.000000</td>\n",
       "      <td>22.333333</td>\n",
       "    </tr>\n",
       "    <tr>\n",
       "      <th>6</th>\n",
       "      <td>df6</td>\n",
       "      <td>161</td>\n",
       "      <td>278</td>\n",
       "      <td>0.579137</td>\n",
       "      <td>66.666667</td>\n",
       "    </tr>\n",
       "    <tr>\n",
       "      <th>7</th>\n",
       "      <td>df7</td>\n",
       "      <td>170</td>\n",
       "      <td>390</td>\n",
       "      <td>0.435897</td>\n",
       "      <td>57.333333</td>\n",
       "    </tr>\n",
       "    <tr>\n",
       "      <th>8</th>\n",
       "      <td>df8</td>\n",
       "      <td>315</td>\n",
       "      <td>315</td>\n",
       "      <td>1.000000</td>\n",
       "      <td>17.666667</td>\n",
       "    </tr>\n",
       "    <tr>\n",
       "      <th>9</th>\n",
       "      <td>df9</td>\n",
       "      <td>150</td>\n",
       "      <td>308</td>\n",
       "      <td>0.487013</td>\n",
       "      <td>53.333333</td>\n",
       "    </tr>\n",
       "    <tr>\n",
       "      <th>10</th>\n",
       "      <td>df10</td>\n",
       "      <td>150</td>\n",
       "      <td>600</td>\n",
       "      <td>0.250000</td>\n",
       "      <td>55.666667</td>\n",
       "    </tr>\n",
       "    <tr>\n",
       "      <th>11</th>\n",
       "      <td>df11</td>\n",
       "      <td>150</td>\n",
       "      <td>600</td>\n",
       "      <td>0.250000</td>\n",
       "      <td>86.333333</td>\n",
       "    </tr>\n",
       "    <tr>\n",
       "      <th>12</th>\n",
       "      <td>df12</td>\n",
       "      <td>165</td>\n",
       "      <td>473</td>\n",
       "      <td>0.348837</td>\n",
       "      <td>51.666667</td>\n",
       "    </tr>\n",
       "    <tr>\n",
       "      <th>13</th>\n",
       "      <td>df13</td>\n",
       "      <td>300</td>\n",
       "      <td>315</td>\n",
       "      <td>0.952381</td>\n",
       "      <td>0.000000</td>\n",
       "    </tr>\n",
       "    <tr>\n",
       "      <th>14</th>\n",
       "      <td>df14</td>\n",
       "      <td>160</td>\n",
       "      <td>165</td>\n",
       "      <td>0.969697</td>\n",
       "      <td>4.666667</td>\n",
       "    </tr>\n",
       "    <tr>\n",
       "      <th>15</th>\n",
       "      <td>df15</td>\n",
       "      <td>150</td>\n",
       "      <td>165</td>\n",
       "      <td>0.909091</td>\n",
       "      <td>0.666667</td>\n",
       "    </tr>\n",
       "    <tr>\n",
       "      <th>16</th>\n",
       "      <td>df16</td>\n",
       "      <td>150</td>\n",
       "      <td>420</td>\n",
       "      <td>0.357143</td>\n",
       "      <td>73.333333</td>\n",
       "    </tr>\n",
       "    <tr>\n",
       "      <th>17</th>\n",
       "      <td>df17</td>\n",
       "      <td>222</td>\n",
       "      <td>462</td>\n",
       "      <td>0.480519</td>\n",
       "      <td>26.000000</td>\n",
       "    </tr>\n",
       "    <tr>\n",
       "      <th>18</th>\n",
       "      <td>df18</td>\n",
       "      <td>150</td>\n",
       "      <td>302</td>\n",
       "      <td>0.496689</td>\n",
       "      <td>29.666667</td>\n",
       "    </tr>\n",
       "    <tr>\n",
       "      <th>19</th>\n",
       "      <td>df19</td>\n",
       "      <td>330</td>\n",
       "      <td>330</td>\n",
       "      <td>1.000000</td>\n",
       "      <td>40.666667</td>\n",
       "    </tr>\n",
       "    <tr>\n",
       "      <th>20</th>\n",
       "      <td>df20</td>\n",
       "      <td>155</td>\n",
       "      <td>480</td>\n",
       "      <td>0.322917</td>\n",
       "      <td>68.000000</td>\n",
       "    </tr>\n",
       "    <tr>\n",
       "      <th>21</th>\n",
       "      <td>df21</td>\n",
       "      <td>150</td>\n",
       "      <td>600</td>\n",
       "      <td>0.250000</td>\n",
       "      <td>84.000000</td>\n",
       "    </tr>\n",
       "    <tr>\n",
       "      <th>22</th>\n",
       "      <td>df22</td>\n",
       "      <td>150</td>\n",
       "      <td>573</td>\n",
       "      <td>0.261780</td>\n",
       "      <td>55.000000</td>\n",
       "    </tr>\n",
       "    <tr>\n",
       "      <th>23</th>\n",
       "      <td>df23</td>\n",
       "      <td>165</td>\n",
       "      <td>600</td>\n",
       "      <td>0.275000</td>\n",
       "      <td>61.000000</td>\n",
       "    </tr>\n",
       "    <tr>\n",
       "      <th>24</th>\n",
       "      <td>df24</td>\n",
       "      <td>150</td>\n",
       "      <td>450</td>\n",
       "      <td>0.333333</td>\n",
       "      <td>80.000000</td>\n",
       "    </tr>\n",
       "    <tr>\n",
       "      <th>25</th>\n",
       "      <td>df25</td>\n",
       "      <td>150</td>\n",
       "      <td>600</td>\n",
       "      <td>0.250000</td>\n",
       "      <td>85.000000</td>\n",
       "    </tr>\n",
       "    <tr>\n",
       "      <th>26</th>\n",
       "      <td>df26</td>\n",
       "      <td>232</td>\n",
       "      <td>320</td>\n",
       "      <td>0.725000</td>\n",
       "      <td>32.333333</td>\n",
       "    </tr>\n",
       "    <tr>\n",
       "      <th>27</th>\n",
       "      <td>df27</td>\n",
       "      <td>75</td>\n",
       "      <td>323</td>\n",
       "      <td>0.232198</td>\n",
       "      <td>34.000000</td>\n",
       "    </tr>\n",
       "    <tr>\n",
       "      <th>28</th>\n",
       "      <td>df28</td>\n",
       "      <td>150</td>\n",
       "      <td>551</td>\n",
       "      <td>0.272232</td>\n",
       "      <td>58.666667</td>\n",
       "    </tr>\n",
       "    <tr>\n",
       "      <th>29</th>\n",
       "      <td>df29</td>\n",
       "      <td>317</td>\n",
       "      <td>593</td>\n",
       "      <td>0.534570</td>\n",
       "      <td>60.333333</td>\n",
       "    </tr>\n",
       "    <tr>\n",
       "      <th>30</th>\n",
       "      <td>df30</td>\n",
       "      <td>100</td>\n",
       "      <td>300</td>\n",
       "      <td>0.333333</td>\n",
       "      <td>20.000000</td>\n",
       "    </tr>\n",
       "    <tr>\n",
       "      <th>31</th>\n",
       "      <td>df31</td>\n",
       "      <td>150</td>\n",
       "      <td>578</td>\n",
       "      <td>0.259516</td>\n",
       "      <td>87.666667</td>\n",
       "    </tr>\n",
       "    <tr>\n",
       "      <th>32</th>\n",
       "      <td>df32</td>\n",
       "      <td>366</td>\n",
       "      <td>366</td>\n",
       "      <td>1.000000</td>\n",
       "      <td>50.666667</td>\n",
       "    </tr>\n",
       "    <tr>\n",
       "      <th>33</th>\n",
       "      <td>df33</td>\n",
       "      <td>400</td>\n",
       "      <td>450</td>\n",
       "      <td>0.888889</td>\n",
       "      <td>27.666667</td>\n",
       "    </tr>\n",
       "    <tr>\n",
       "      <th>34</th>\n",
       "      <td>df34</td>\n",
       "      <td>100</td>\n",
       "      <td>195</td>\n",
       "      <td>0.512821</td>\n",
       "      <td>64.666667</td>\n",
       "    </tr>\n",
       "    <tr>\n",
       "      <th>35</th>\n",
       "      <td>df35</td>\n",
       "      <td>223</td>\n",
       "      <td>374</td>\n",
       "      <td>0.596257</td>\n",
       "      <td>45.000000</td>\n",
       "    </tr>\n",
       "    <tr>\n",
       "      <th>36</th>\n",
       "      <td>df36</td>\n",
       "      <td>150</td>\n",
       "      <td>570</td>\n",
       "      <td>0.263158</td>\n",
       "      <td>53.333333</td>\n",
       "    </tr>\n",
       "    <tr>\n",
       "      <th>37</th>\n",
       "      <td>df37</td>\n",
       "      <td>165</td>\n",
       "      <td>165</td>\n",
       "      <td>1.000000</td>\n",
       "      <td>6.333333</td>\n",
       "    </tr>\n",
       "    <tr>\n",
       "      <th>38</th>\n",
       "      <td>df38</td>\n",
       "      <td>59</td>\n",
       "      <td>186</td>\n",
       "      <td>0.317204</td>\n",
       "      <td>73.333333</td>\n",
       "    </tr>\n",
       "    <tr>\n",
       "      <th>39</th>\n",
       "      <td>df39</td>\n",
       "      <td>200</td>\n",
       "      <td>428</td>\n",
       "      <td>0.467290</td>\n",
       "      <td>30.666667</td>\n",
       "    </tr>\n",
       "    <tr>\n",
       "      <th>40</th>\n",
       "      <td>df40</td>\n",
       "      <td>564</td>\n",
       "      <td>564</td>\n",
       "      <td>1.000000</td>\n",
       "      <td>16.000000</td>\n",
       "    </tr>\n",
       "    <tr>\n",
       "      <th>41</th>\n",
       "      <td>df41</td>\n",
       "      <td>95</td>\n",
       "      <td>434</td>\n",
       "      <td>0.218894</td>\n",
       "      <td>73.000000</td>\n",
       "    </tr>\n",
       "    <tr>\n",
       "      <th>42</th>\n",
       "      <td>df42</td>\n",
       "      <td>300</td>\n",
       "      <td>600</td>\n",
       "      <td>0.500000</td>\n",
       "      <td>42.666667</td>\n",
       "    </tr>\n",
       "    <tr>\n",
       "      <th>43</th>\n",
       "      <td>df43</td>\n",
       "      <td>170</td>\n",
       "      <td>255</td>\n",
       "      <td>0.666667</td>\n",
       "      <td>24.000000</td>\n",
       "    </tr>\n",
       "    <tr>\n",
       "      <th>44</th>\n",
       "      <td>df44</td>\n",
       "      <td>150</td>\n",
       "      <td>450</td>\n",
       "      <td>0.333333</td>\n",
       "      <td>95.666667</td>\n",
       "    </tr>\n",
       "    <tr>\n",
       "      <th>45</th>\n",
       "      <td>df45</td>\n",
       "      <td>25</td>\n",
       "      <td>315</td>\n",
       "      <td>0.079365</td>\n",
       "      <td>37.333333</td>\n",
       "    </tr>\n",
       "    <tr>\n",
       "      <th>46</th>\n",
       "      <td>df46</td>\n",
       "      <td>150</td>\n",
       "      <td>293</td>\n",
       "      <td>0.511945</td>\n",
       "      <td>56.333333</td>\n",
       "    </tr>\n",
       "    <tr>\n",
       "      <th>47</th>\n",
       "      <td>df47</td>\n",
       "      <td>156</td>\n",
       "      <td>524</td>\n",
       "      <td>0.297710</td>\n",
       "      <td>49.000000</td>\n",
       "    </tr>\n",
       "    <tr>\n",
       "      <th>48</th>\n",
       "      <td>df48</td>\n",
       "      <td>150</td>\n",
       "      <td>600</td>\n",
       "      <td>0.250000</td>\n",
       "      <td>80.333333</td>\n",
       "    </tr>\n",
       "    <tr>\n",
       "      <th>49</th>\n",
       "      <td>df49</td>\n",
       "      <td>557</td>\n",
       "      <td>557</td>\n",
       "      <td>1.000000</td>\n",
       "      <td>40.666667</td>\n",
       "    </tr>\n",
       "  </tbody>\n",
       "</table>\n",
       "</div>"
      ],
      "text/plain": [
       "   group  dictator's pgg receive  all player's pgg receive     ratio  \\\n",
       "0    df0                     293                       293  1.000000   \n",
       "1    df1                     173                       240  0.720833   \n",
       "2    df2                      31                        53  0.584906   \n",
       "3    df3                      63                       275  0.229091   \n",
       "4    df4                      99                       432  0.229167   \n",
       "5    df5                       0                       390  0.000000   \n",
       "6    df6                     161                       278  0.579137   \n",
       "7    df7                     170                       390  0.435897   \n",
       "8    df8                     315                       315  1.000000   \n",
       "9    df9                     150                       308  0.487013   \n",
       "10  df10                     150                       600  0.250000   \n",
       "11  df11                     150                       600  0.250000   \n",
       "12  df12                     165                       473  0.348837   \n",
       "13  df13                     300                       315  0.952381   \n",
       "14  df14                     160                       165  0.969697   \n",
       "15  df15                     150                       165  0.909091   \n",
       "16  df16                     150                       420  0.357143   \n",
       "17  df17                     222                       462  0.480519   \n",
       "18  df18                     150                       302  0.496689   \n",
       "19  df19                     330                       330  1.000000   \n",
       "20  df20                     155                       480  0.322917   \n",
       "21  df21                     150                       600  0.250000   \n",
       "22  df22                     150                       573  0.261780   \n",
       "23  df23                     165                       600  0.275000   \n",
       "24  df24                     150                       450  0.333333   \n",
       "25  df25                     150                       600  0.250000   \n",
       "26  df26                     232                       320  0.725000   \n",
       "27  df27                      75                       323  0.232198   \n",
       "28  df28                     150                       551  0.272232   \n",
       "29  df29                     317                       593  0.534570   \n",
       "30  df30                     100                       300  0.333333   \n",
       "31  df31                     150                       578  0.259516   \n",
       "32  df32                     366                       366  1.000000   \n",
       "33  df33                     400                       450  0.888889   \n",
       "34  df34                     100                       195  0.512821   \n",
       "35  df35                     223                       374  0.596257   \n",
       "36  df36                     150                       570  0.263158   \n",
       "37  df37                     165                       165  1.000000   \n",
       "38  df38                      59                       186  0.317204   \n",
       "39  df39                     200                       428  0.467290   \n",
       "40  df40                     564                       564  1.000000   \n",
       "41  df41                      95                       434  0.218894   \n",
       "42  df42                     300                       600  0.500000   \n",
       "43  df43                     170                       255  0.666667   \n",
       "44  df44                     150                       450  0.333333   \n",
       "45  df45                      25                       315  0.079365   \n",
       "46  df46                     150                       293  0.511945   \n",
       "47  df47                     156                       524  0.297710   \n",
       "48  df48                     150                       600  0.250000   \n",
       "49  df49                     557                       557  1.000000   \n",
       "\n",
       "      dislike  \n",
       "0   10.666667  \n",
       "1   15.000000  \n",
       "2   36.666667  \n",
       "3   62.666667  \n",
       "4   68.333333  \n",
       "5   22.333333  \n",
       "6   66.666667  \n",
       "7   57.333333  \n",
       "8   17.666667  \n",
       "9   53.333333  \n",
       "10  55.666667  \n",
       "11  86.333333  \n",
       "12  51.666667  \n",
       "13   0.000000  \n",
       "14   4.666667  \n",
       "15   0.666667  \n",
       "16  73.333333  \n",
       "17  26.000000  \n",
       "18  29.666667  \n",
       "19  40.666667  \n",
       "20  68.000000  \n",
       "21  84.000000  \n",
       "22  55.000000  \n",
       "23  61.000000  \n",
       "24  80.000000  \n",
       "25  85.000000  \n",
       "26  32.333333  \n",
       "27  34.000000  \n",
       "28  58.666667  \n",
       "29  60.333333  \n",
       "30  20.000000  \n",
       "31  87.666667  \n",
       "32  50.666667  \n",
       "33  27.666667  \n",
       "34  64.666667  \n",
       "35  45.000000  \n",
       "36  53.333333  \n",
       "37   6.333333  \n",
       "38  73.333333  \n",
       "39  30.666667  \n",
       "40  16.000000  \n",
       "41  73.000000  \n",
       "42  42.666667  \n",
       "43  24.000000  \n",
       "44  95.666667  \n",
       "45  37.333333  \n",
       "46  56.333333  \n",
       "47  49.000000  \n",
       "48  80.333333  \n",
       "49  40.666667  "
      ]
     },
     "execution_count": 94,
     "metadata": {},
     "output_type": "execute_result"
    }
   ],
   "source": [
    "df_ratio"
   ]
  },
  {
   "cell_type": "markdown",
   "metadata": {},
   "source": [
    "## The correlation"
   ]
  },
  {
   "cell_type": "code",
   "execution_count": 95,
   "metadata": {},
   "outputs": [
    {
     "name": "stdout",
     "output_type": "stream",
     "text": [
      "The value of correlation is -0.6388979720956334 .\n"
     ]
    }
   ],
   "source": [
    "my_rho = np.corrcoef(ratio_10, dislike)\n",
    "\n",
    "# print(my_rho)\n",
    "print(\"The value of correlation is\",my_rho[0][1],'.')"
   ]
  },
  {
   "cell_type": "markdown",
   "metadata": {},
   "source": [
    "## Visualization"
   ]
  },
  {
   "cell_type": "code",
   "execution_count": 96,
   "metadata": {},
   "outputs": [
    {
     "data": {
      "text/plain": [
       "Text(0, 0.5, 'The score of being liked of the dictator')"
      ]
     },
     "execution_count": 96,
     "metadata": {},
     "output_type": "execute_result"
    },
    {
     "data": {
      "image/png": "[encoded data removed]",
      "text/plain": [
       "<Figure size 432x288 with 1 Axes>"
      ]
     },
     "metadata": {
      "image/png": {
       "height": 277,
       "width": 442
      },
      "needs_background": "light"
     },
     "output_type": "display_data"
    }
   ],
   "source": [
    "ax = sns.regplot(x= ratio_10, y=dislike, data=df_ratio, ci=None)\n",
    "ax.set_title(\"The score of being liked of the dictator vs. The pgg_receive in round 10\")\n",
    "ax.set_xlabel(\"The ratio of pgg_receive of the dictator in round 10\")\n",
    "ax.set_ylabel(\"The score of being liked of the dictator\")"
   ]
  },
  {
   "cell_type": "markdown",
   "metadata": {},
   "source": [
    "# The correlation between round 9 and dislike"
   ]
  },
  {
   "cell_type": "markdown",
   "metadata": {},
   "source": [
    "## The performance of the dictator in round 9"
   ]
  },
  {
   "cell_type": "code",
   "execution_count": 97,
   "metadata": {},
   "outputs": [],
   "source": [
    "## 取round 9的島主的pgg_receive\n",
    "dictator_pgg_9 = []\n",
    "for i in range(0, len(lst)):\n",
    "    dictator_pgg_9.append(globals()['df'+str(i)][globals()['df'+str(i)]['dictator'] == 1].iloc[8]['pgg_receive'])\n",
    "\n",
    "# print(dictator_pgg_9)\n",
    "# print(len(dictator_pgg_9))"
   ]
  },
  {
   "cell_type": "code",
   "execution_count": 98,
   "metadata": {},
   "outputs": [],
   "source": [
    "## 取round 9的所有人的pgg_receive\n",
    "all_pgg_9 = []\n",
    "for i in range(0,len(lst)):\n",
    "    all_pgg_9.append(sum(globals()[\"df\" + str(i)][globals()[\"df\" + str(i)]['round'] == 9]['pgg_receive']))\n",
    "\n",
    "# print(all_pgg_9)\n",
    "# print(len(all_pgg_9))"
   ]
  },
  {
   "cell_type": "code",
   "execution_count": 99,
   "metadata": {},
   "outputs": [],
   "source": [
    "# 計算：v5中島主round 9 pgg表現的顯著程度\n",
    "ratio_9 = [x/y for x, y in zip(dictator_pgg_9, all_pgg_9)]\n",
    "# type(ratio)"
   ]
  },
  {
   "cell_type": "code",
   "execution_count": 100,
   "metadata": {},
   "outputs": [],
   "source": [
    "df_ratio_9 = pd.DataFrame({\"group\": datlst, \"dictator's pgg receive\": dictator_pgg_9, \"all player's pgg receive\": all_pgg_9, \"ratio\": ratio_9})"
   ]
  },
  {
   "cell_type": "code",
   "execution_count": 101,
   "metadata": {},
   "outputs": [
    {
     "data": {
      "text/html": [
       "<div>\n",
       "<style scoped>\n",
       "    .dataframe tbody tr th:only-of-type {\n",
       "        vertical-align: middle;\n",
       "    }\n",
       "\n",
       "    .dataframe tbody tr th {\n",
       "        vertical-align: top;\n",
       "    }\n",
       "\n",
       "    .dataframe thead th {\n",
       "        text-align: right;\n",
       "    }\n",
       "</style>\n",
       "<table border=\"1\" class=\"dataframe\">\n",
       "  <thead>\n",
       "    <tr style=\"text-align: right;\">\n",
       "      <th></th>\n",
       "      <th>group</th>\n",
       "      <th>dictator's pgg receive</th>\n",
       "      <th>all player's pgg receive</th>\n",
       "      <th>ratio</th>\n",
       "    </tr>\n",
       "  </thead>\n",
       "  <tbody>\n",
       "    <tr>\n",
       "      <th>0</th>\n",
       "      <td>df0</td>\n",
       "      <td>255</td>\n",
       "      <td>384</td>\n",
       "      <td>0.664062</td>\n",
       "    </tr>\n",
       "    <tr>\n",
       "      <th>1</th>\n",
       "      <td>df1</td>\n",
       "      <td>83</td>\n",
       "      <td>200</td>\n",
       "      <td>0.415000</td>\n",
       "    </tr>\n",
       "    <tr>\n",
       "      <th>2</th>\n",
       "      <td>df2</td>\n",
       "      <td>106</td>\n",
       "      <td>206</td>\n",
       "      <td>0.514563</td>\n",
       "    </tr>\n",
       "    <tr>\n",
       "      <th>3</th>\n",
       "      <td>df3</td>\n",
       "      <td>60</td>\n",
       "      <td>242</td>\n",
       "      <td>0.247934</td>\n",
       "    </tr>\n",
       "    <tr>\n",
       "      <th>4</th>\n",
       "      <td>df4</td>\n",
       "      <td>90</td>\n",
       "      <td>417</td>\n",
       "      <td>0.215827</td>\n",
       "    </tr>\n",
       "    <tr>\n",
       "      <th>5</th>\n",
       "      <td>df5</td>\n",
       "      <td>150</td>\n",
       "      <td>450</td>\n",
       "      <td>0.333333</td>\n",
       "    </tr>\n",
       "    <tr>\n",
       "      <th>6</th>\n",
       "      <td>df6</td>\n",
       "      <td>172</td>\n",
       "      <td>540</td>\n",
       "      <td>0.318519</td>\n",
       "    </tr>\n",
       "    <tr>\n",
       "      <th>7</th>\n",
       "      <td>df7</td>\n",
       "      <td>80</td>\n",
       "      <td>390</td>\n",
       "      <td>0.205128</td>\n",
       "    </tr>\n",
       "    <tr>\n",
       "      <th>8</th>\n",
       "      <td>df8</td>\n",
       "      <td>35</td>\n",
       "      <td>188</td>\n",
       "      <td>0.186170</td>\n",
       "    </tr>\n",
       "    <tr>\n",
       "      <th>9</th>\n",
       "      <td>df9</td>\n",
       "      <td>150</td>\n",
       "      <td>525</td>\n",
       "      <td>0.285714</td>\n",
       "    </tr>\n",
       "    <tr>\n",
       "      <th>10</th>\n",
       "      <td>df10</td>\n",
       "      <td>150</td>\n",
       "      <td>600</td>\n",
       "      <td>0.250000</td>\n",
       "    </tr>\n",
       "    <tr>\n",
       "      <th>11</th>\n",
       "      <td>df11</td>\n",
       "      <td>150</td>\n",
       "      <td>480</td>\n",
       "      <td>0.312500</td>\n",
       "    </tr>\n",
       "    <tr>\n",
       "      <th>12</th>\n",
       "      <td>df12</td>\n",
       "      <td>161</td>\n",
       "      <td>465</td>\n",
       "      <td>0.346237</td>\n",
       "    </tr>\n",
       "    <tr>\n",
       "      <th>13</th>\n",
       "      <td>df13</td>\n",
       "      <td>193</td>\n",
       "      <td>315</td>\n",
       "      <td>0.612698</td>\n",
       "    </tr>\n",
       "    <tr>\n",
       "      <th>14</th>\n",
       "      <td>df14</td>\n",
       "      <td>149</td>\n",
       "      <td>150</td>\n",
       "      <td>0.993333</td>\n",
       "    </tr>\n",
       "    <tr>\n",
       "      <th>15</th>\n",
       "      <td>df15</td>\n",
       "      <td>555</td>\n",
       "      <td>555</td>\n",
       "      <td>1.000000</td>\n",
       "    </tr>\n",
       "    <tr>\n",
       "      <th>16</th>\n",
       "      <td>df16</td>\n",
       "      <td>150</td>\n",
       "      <td>512</td>\n",
       "      <td>0.292969</td>\n",
       "    </tr>\n",
       "    <tr>\n",
       "      <th>17</th>\n",
       "      <td>df17</td>\n",
       "      <td>248</td>\n",
       "      <td>528</td>\n",
       "      <td>0.469697</td>\n",
       "    </tr>\n",
       "    <tr>\n",
       "      <th>18</th>\n",
       "      <td>df18</td>\n",
       "      <td>150</td>\n",
       "      <td>296</td>\n",
       "      <td>0.506757</td>\n",
       "    </tr>\n",
       "    <tr>\n",
       "      <th>19</th>\n",
       "      <td>df19</td>\n",
       "      <td>525</td>\n",
       "      <td>525</td>\n",
       "      <td>1.000000</td>\n",
       "    </tr>\n",
       "    <tr>\n",
       "      <th>20</th>\n",
       "      <td>df20</td>\n",
       "      <td>153</td>\n",
       "      <td>488</td>\n",
       "      <td>0.313525</td>\n",
       "    </tr>\n",
       "    <tr>\n",
       "      <th>21</th>\n",
       "      <td>df21</td>\n",
       "      <td>155</td>\n",
       "      <td>555</td>\n",
       "      <td>0.279279</td>\n",
       "    </tr>\n",
       "    <tr>\n",
       "      <th>22</th>\n",
       "      <td>df22</td>\n",
       "      <td>150</td>\n",
       "      <td>569</td>\n",
       "      <td>0.263620</td>\n",
       "    </tr>\n",
       "    <tr>\n",
       "      <th>23</th>\n",
       "      <td>df23</td>\n",
       "      <td>150</td>\n",
       "      <td>570</td>\n",
       "      <td>0.263158</td>\n",
       "    </tr>\n",
       "    <tr>\n",
       "      <th>24</th>\n",
       "      <td>df24</td>\n",
       "      <td>240</td>\n",
       "      <td>600</td>\n",
       "      <td>0.400000</td>\n",
       "    </tr>\n",
       "    <tr>\n",
       "      <th>25</th>\n",
       "      <td>df25</td>\n",
       "      <td>150</td>\n",
       "      <td>525</td>\n",
       "      <td>0.285714</td>\n",
       "    </tr>\n",
       "    <tr>\n",
       "      <th>26</th>\n",
       "      <td>df26</td>\n",
       "      <td>76</td>\n",
       "      <td>102</td>\n",
       "      <td>0.745098</td>\n",
       "    </tr>\n",
       "    <tr>\n",
       "      <th>27</th>\n",
       "      <td>df27</td>\n",
       "      <td>111</td>\n",
       "      <td>318</td>\n",
       "      <td>0.349057</td>\n",
       "    </tr>\n",
       "    <tr>\n",
       "      <th>28</th>\n",
       "      <td>df28</td>\n",
       "      <td>150</td>\n",
       "      <td>533</td>\n",
       "      <td>0.281426</td>\n",
       "    </tr>\n",
       "    <tr>\n",
       "      <th>29</th>\n",
       "      <td>df29</td>\n",
       "      <td>150</td>\n",
       "      <td>575</td>\n",
       "      <td>0.260870</td>\n",
       "    </tr>\n",
       "    <tr>\n",
       "      <th>30</th>\n",
       "      <td>df30</td>\n",
       "      <td>68</td>\n",
       "      <td>368</td>\n",
       "      <td>0.184783</td>\n",
       "    </tr>\n",
       "    <tr>\n",
       "      <th>31</th>\n",
       "      <td>df31</td>\n",
       "      <td>150</td>\n",
       "      <td>585</td>\n",
       "      <td>0.256410</td>\n",
       "    </tr>\n",
       "    <tr>\n",
       "      <th>32</th>\n",
       "      <td>df32</td>\n",
       "      <td>150</td>\n",
       "      <td>600</td>\n",
       "      <td>0.250000</td>\n",
       "    </tr>\n",
       "    <tr>\n",
       "      <th>33</th>\n",
       "      <td>df33</td>\n",
       "      <td>150</td>\n",
       "      <td>585</td>\n",
       "      <td>0.256410</td>\n",
       "    </tr>\n",
       "    <tr>\n",
       "      <th>34</th>\n",
       "      <td>df34</td>\n",
       "      <td>120</td>\n",
       "      <td>491</td>\n",
       "      <td>0.244399</td>\n",
       "    </tr>\n",
       "    <tr>\n",
       "      <th>35</th>\n",
       "      <td>df35</td>\n",
       "      <td>150</td>\n",
       "      <td>398</td>\n",
       "      <td>0.376884</td>\n",
       "    </tr>\n",
       "    <tr>\n",
       "      <th>36</th>\n",
       "      <td>df36</td>\n",
       "      <td>155</td>\n",
       "      <td>405</td>\n",
       "      <td>0.382716</td>\n",
       "    </tr>\n",
       "    <tr>\n",
       "      <th>37</th>\n",
       "      <td>df37</td>\n",
       "      <td>208</td>\n",
       "      <td>464</td>\n",
       "      <td>0.448276</td>\n",
       "    </tr>\n",
       "    <tr>\n",
       "      <th>38</th>\n",
       "      <td>df38</td>\n",
       "      <td>85</td>\n",
       "      <td>257</td>\n",
       "      <td>0.330739</td>\n",
       "    </tr>\n",
       "    <tr>\n",
       "      <th>39</th>\n",
       "      <td>df39</td>\n",
       "      <td>62</td>\n",
       "      <td>162</td>\n",
       "      <td>0.382716</td>\n",
       "    </tr>\n",
       "    <tr>\n",
       "      <th>40</th>\n",
       "      <td>df40</td>\n",
       "      <td>150</td>\n",
       "      <td>540</td>\n",
       "      <td>0.277778</td>\n",
       "    </tr>\n",
       "    <tr>\n",
       "      <th>41</th>\n",
       "      <td>df41</td>\n",
       "      <td>100</td>\n",
       "      <td>420</td>\n",
       "      <td>0.238095</td>\n",
       "    </tr>\n",
       "    <tr>\n",
       "      <th>42</th>\n",
       "      <td>df42</td>\n",
       "      <td>150</td>\n",
       "      <td>600</td>\n",
       "      <td>0.250000</td>\n",
       "    </tr>\n",
       "    <tr>\n",
       "      <th>43</th>\n",
       "      <td>df43</td>\n",
       "      <td>155</td>\n",
       "      <td>305</td>\n",
       "      <td>0.508197</td>\n",
       "    </tr>\n",
       "    <tr>\n",
       "      <th>44</th>\n",
       "      <td>df44</td>\n",
       "      <td>150</td>\n",
       "      <td>600</td>\n",
       "      <td>0.250000</td>\n",
       "    </tr>\n",
       "    <tr>\n",
       "      <th>45</th>\n",
       "      <td>df45</td>\n",
       "      <td>150</td>\n",
       "      <td>600</td>\n",
       "      <td>0.250000</td>\n",
       "    </tr>\n",
       "    <tr>\n",
       "      <th>46</th>\n",
       "      <td>df46</td>\n",
       "      <td>97</td>\n",
       "      <td>248</td>\n",
       "      <td>0.391129</td>\n",
       "    </tr>\n",
       "    <tr>\n",
       "      <th>47</th>\n",
       "      <td>df47</td>\n",
       "      <td>132</td>\n",
       "      <td>518</td>\n",
       "      <td>0.254826</td>\n",
       "    </tr>\n",
       "    <tr>\n",
       "      <th>48</th>\n",
       "      <td>df48</td>\n",
       "      <td>150</td>\n",
       "      <td>600</td>\n",
       "      <td>0.250000</td>\n",
       "    </tr>\n",
       "    <tr>\n",
       "      <th>49</th>\n",
       "      <td>df49</td>\n",
       "      <td>155</td>\n",
       "      <td>563</td>\n",
       "      <td>0.275311</td>\n",
       "    </tr>\n",
       "  </tbody>\n",
       "</table>\n",
       "</div>"
      ],
      "text/plain": [
       "   group  dictator's pgg receive  all player's pgg receive     ratio\n",
       "0    df0                     255                       384  0.664062\n",
       "1    df1                      83                       200  0.415000\n",
       "2    df2                     106                       206  0.514563\n",
       "3    df3                      60                       242  0.247934\n",
       "4    df4                      90                       417  0.215827\n",
       "5    df5                     150                       450  0.333333\n",
       "6    df6                     172                       540  0.318519\n",
       "7    df7                      80                       390  0.205128\n",
       "8    df8                      35                       188  0.186170\n",
       "9    df9                     150                       525  0.285714\n",
       "10  df10                     150                       600  0.250000\n",
       "11  df11                     150                       480  0.312500\n",
       "12  df12                     161                       465  0.346237\n",
       "13  df13                     193                       315  0.612698\n",
       "14  df14                     149                       150  0.993333\n",
       "15  df15                     555                       555  1.000000\n",
       "16  df16                     150                       512  0.292969\n",
       "17  df17                     248                       528  0.469697\n",
       "18  df18                     150                       296  0.506757\n",
       "19  df19                     525                       525  1.000000\n",
       "20  df20                     153                       488  0.313525\n",
       "21  df21                     155                       555  0.279279\n",
       "22  df22                     150                       569  0.263620\n",
       "23  df23                     150                       570  0.263158\n",
       "24  df24                     240                       600  0.400000\n",
       "25  df25                     150                       525  0.285714\n",
       "26  df26                      76                       102  0.745098\n",
       "27  df27                     111                       318  0.349057\n",
       "28  df28                     150                       533  0.281426\n",
       "29  df29                     150                       575  0.260870\n",
       "30  df30                      68                       368  0.184783\n",
       "31  df31                     150                       585  0.256410\n",
       "32  df32                     150                       600  0.250000\n",
       "33  df33                     150                       585  0.256410\n",
       "34  df34                     120                       491  0.244399\n",
       "35  df35                     150                       398  0.376884\n",
       "36  df36                     155                       405  0.382716\n",
       "37  df37                     208                       464  0.448276\n",
       "38  df38                      85                       257  0.330739\n",
       "39  df39                      62                       162  0.382716\n",
       "40  df40                     150                       540  0.277778\n",
       "41  df41                     100                       420  0.238095\n",
       "42  df42                     150                       600  0.250000\n",
       "43  df43                     155                       305  0.508197\n",
       "44  df44                     150                       600  0.250000\n",
       "45  df45                     150                       600  0.250000\n",
       "46  df46                      97                       248  0.391129\n",
       "47  df47                     132                       518  0.254826\n",
       "48  df48                     150                       600  0.250000\n",
       "49  df49                     155                       563  0.275311"
      ]
     },
     "execution_count": 101,
     "metadata": {},
     "output_type": "execute_result"
    }
   ],
   "source": [
    "df_ratio_9"
   ]
  },
  {
   "cell_type": "markdown",
   "metadata": {},
   "source": [
    "## The correlation"
   ]
  },
  {
   "cell_type": "code",
   "execution_count": 102,
   "metadata": {},
   "outputs": [
    {
     "name": "stdout",
     "output_type": "stream",
     "text": [
      "The value of correlation is -0.5244489600696609 .\n"
     ]
    }
   ],
   "source": [
    "my_rho_9 = np.corrcoef(ratio_9, dislike)\n",
    "\n",
    "# print(my_rho)\n",
    "print(\"The value of correlation is\",my_rho_9[0][1],'.')"
   ]
  },
  {
   "cell_type": "markdown",
   "metadata": {},
   "source": [
    "## Visualization"
   ]
  },
  {
   "cell_type": "code",
   "execution_count": 103,
   "metadata": {},
   "outputs": [
    {
     "data": {
      "text/plain": [
       "Text(0, 0.5, 'The score of being liked of the dictator')"
      ]
     },
     "execution_count": 103,
     "metadata": {},
     "output_type": "execute_result"
    },
    {
     "data": {
      "image/png": "[encoded data removed]",
      "text/plain": [
       "<Figure size 432x288 with 1 Axes>"
      ]
     },
     "metadata": {
      "image/png": {
       "height": 277,
       "width": 435
      },
      "needs_background": "light"
     },
     "output_type": "display_data"
    }
   ],
   "source": [
    "ax_9 = sns.regplot(x= ratio_9, y=dislike, data=df_ratio_9, ci=None)\n",
    "ax_9.set_title(\"The score of being liked of the dictator vs. The pgg_receive in round 9\")\n",
    "ax_9.set_xlabel(\"The ratio of pgg_receive of the dictator in round 9\")\n",
    "ax_9.set_ylabel(\"The score of being liked of the dictator\")"
   ]
  },
  {
   "cell_type": "markdown",
   "metadata": {},
   "source": [
    "# The correlation between round 9 & 10 and dislike "
   ]
  },
  {
   "cell_type": "markdown",
   "metadata": {},
   "source": [
    "## The performance of the dictator in round 9 & 10"
   ]
  },
  {
   "cell_type": "code",
   "execution_count": 104,
   "metadata": {},
   "outputs": [],
   "source": [
    "ratio_910 = [(x+y)/2 for x, y in zip(ratio_9, ratio_10)]"
   ]
  },
  {
   "cell_type": "markdown",
   "metadata": {},
   "source": [
    "## The correlation"
   ]
  },
  {
   "cell_type": "code",
   "execution_count": 105,
   "metadata": {},
   "outputs": [
    {
     "name": "stdout",
     "output_type": "stream",
     "text": [
      "The value of correlation is -0.6745843154078779 .\n"
     ]
    }
   ],
   "source": [
    "my_rho_910 = np.corrcoef(ratio_910, dislike)\n",
    "\n",
    "print(\"The value of correlation is\",my_rho_910[0][1],'.')"
   ]
  },
  {
   "cell_type": "markdown",
   "metadata": {},
   "source": [
    "# The correlation between round 1-8 and dislike"
   ]
  },
  {
   "cell_type": "markdown",
   "metadata": {},
   "source": [
    "## The performance of the dictator in round 1"
   ]
  },
  {
   "cell_type": "code",
   "execution_count": 106,
   "metadata": {},
   "outputs": [],
   "source": [
    "# 取round 1的島主的pgg_receive\n",
    "dictator_pgg_1 = []\n",
    "for i in range(0, len(lst)):\n",
    "    dictator_pgg_1.append(globals()['df'+str(i)][globals()['df'+str(i)]['dictator'] == 1].iloc[0]['pgg_receive'])\n",
    "\n",
    "# print(dictator_pgg_1)\n"
   ]
  },
  {
   "cell_type": "code",
   "execution_count": 107,
   "metadata": {},
   "outputs": [
    {
     "name": "stdout",
     "output_type": "stream",
     "text": [
      "[278, 188, 315, 180, 405, 282, 285, 300, 198, 263, 300, 210, 218, 345, 375, 368, 347, 375, 240, 293, 263, 263, 360, 405, 345, 300, 132, 255, 248, 300, 233, 320, 353, 285, 308, 285, 233, 300, 150, 330, 180, 285, 375, 233, 212, 330, 225, 263, 338, 458]\n"
     ]
    }
   ],
   "source": [
    "# 取round 1的所有人的pgg_receive\n",
    "all_pgg_1 = []\n",
    "for i in range(0,len(lst)):\n",
    "    all_pgg_1.append(sum(globals()[\"df\" + str(i)][globals()[\"df\" + str(i)]['round'] == 1]['pgg_receive']))\n",
    "\n",
    "print(all_pgg_1)"
   ]
  },
  {
   "cell_type": "code",
   "execution_count": 108,
   "metadata": {},
   "outputs": [],
   "source": [
    "# 計算：島主在round 1中pgg表現的顯著程度\n",
    "ratio_1 = [x/y for x, y in zip(dictator_pgg_1, all_pgg_1)]"
   ]
  },
  {
   "cell_type": "markdown",
   "metadata": {},
   "source": [
    "## The performance of the dictator in round 2"
   ]
  },
  {
   "cell_type": "code",
   "execution_count": 109,
   "metadata": {},
   "outputs": [],
   "source": [
    "# 取round 2的島主的pgg_receive\n",
    "dictator_pgg_2 = []\n",
    "for i in range(0, len(lst)):\n",
    "    dictator_pgg_2.append(globals()['df'+str(i)][globals()['df'+str(i)]['dictator'] == 1].iloc[1]['pgg_receive'])\n",
    "# print(dictator_pgg_2)"
   ]
  },
  {
   "cell_type": "code",
   "execution_count": 110,
   "metadata": {},
   "outputs": [],
   "source": [
    "# 取round 2的所有人的pgg_receive\n",
    "all_pgg_2 = []\n",
    "for i in range(0,len(lst)):\n",
    "    all_pgg_2.append(sum(globals()[\"df\" + str(i)][globals()[\"df\" + str(i)]['round'] == 2]['pgg_receive']))\n",
    "\n",
    "# print(all_pgg_2)"
   ]
  },
  {
   "cell_type": "code",
   "execution_count": 111,
   "metadata": {},
   "outputs": [],
   "source": [
    "# 計算：島主在round 2中pgg表現的顯著程度\n",
    "ratio_2 = [x/y for x, y in zip(dictator_pgg_2, all_pgg_2)]"
   ]
  },
  {
   "cell_type": "markdown",
   "metadata": {},
   "source": [
    "## The performance of the dictator in round 3"
   ]
  },
  {
   "cell_type": "code",
   "execution_count": 112,
   "metadata": {},
   "outputs": [],
   "source": [
    "# 取round 3的島主的pgg_receive\n",
    "dictator_pgg_3 = []\n",
    "for i in range(0, len(lst)):\n",
    "    dictator_pgg_3.append(globals()['df'+str(i)][globals()['df'+str(i)]['dictator'] == 1].iloc[2]['pgg_receive'])\n",
    "# print(dictator_pgg_3)"
   ]
  },
  {
   "cell_type": "code",
   "execution_count": 113,
   "metadata": {},
   "outputs": [],
   "source": [
    "# 取round 3的所有人的pgg_receive\n",
    "all_pgg_3 = []\n",
    "for i in range(0,len(lst)):\n",
    "    all_pgg_3.append(sum(globals()[\"df\" + str(i)][globals()[\"df\" + str(i)]['round'] == 3]['pgg_receive']))\n",
    "\n",
    "# print(all_pgg_3)"
   ]
  },
  {
   "cell_type": "code",
   "execution_count": 114,
   "metadata": {},
   "outputs": [],
   "source": [
    "# 計算：島主在round 3中pgg表現的顯著程度\n",
    "ratio_3 = [x/y for x, y in zip(dictator_pgg_3, all_pgg_3)]"
   ]
  },
  {
   "cell_type": "markdown",
   "metadata": {},
   "source": [
    "## The performance of the dictator in round 4"
   ]
  },
  {
   "cell_type": "code",
   "execution_count": 115,
   "metadata": {},
   "outputs": [],
   "source": [
    "# 取round 4的島主的pgg_receive\n",
    "dictator_pgg_4 = []\n",
    "for i in range(0, len(lst)):\n",
    "    dictator_pgg_4.append(globals()['df'+str(i)][globals()['df'+str(i)]['dictator'] == 1].iloc[3]['pgg_receive'])\n",
    "# print(dictator_pgg_4)"
   ]
  },
  {
   "cell_type": "code",
   "execution_count": 116,
   "metadata": {},
   "outputs": [],
   "source": [
    "# 取round 4的所有人的pgg_receive\n",
    "all_pgg_4 = []\n",
    "for i in range(0,len(lst)):\n",
    "    all_pgg_4.append(sum(globals()[\"df\" + str(i)][globals()[\"df\" + str(i)]['round'] == 4]['pgg_receive']))\n",
    "\n",
    "# print(all_pgg_4)"
   ]
  },
  {
   "cell_type": "code",
   "execution_count": 117,
   "metadata": {},
   "outputs": [],
   "source": [
    "# 計算：島主在round 4中pgg表現的顯著程度\n",
    "ratio_4 = [x/y for x, y in zip(dictator_pgg_4, all_pgg_4)]"
   ]
  },
  {
   "cell_type": "markdown",
   "metadata": {},
   "source": [
    "## The performance of the dictator in round 5"
   ]
  },
  {
   "cell_type": "code",
   "execution_count": 118,
   "metadata": {},
   "outputs": [],
   "source": [
    "# 取round 5的島主的pgg_receive\n",
    "dictator_pgg_5 = []\n",
    "for i in range(0, len(lst)):\n",
    "    dictator_pgg_5.append(globals()['df'+str(i)][globals()['df'+str(i)]['dictator'] == 1].iloc[4]['pgg_receive'])\n",
    "# print(dictator_pgg_5)"
   ]
  },
  {
   "cell_type": "code",
   "execution_count": 119,
   "metadata": {},
   "outputs": [],
   "source": [
    "# 取round 5的所有人的pgg_receive\n",
    "all_pgg_5 = []\n",
    "for i in range(0,len(lst)):\n",
    "    all_pgg_5.append(sum(globals()[\"df\" + str(i)][globals()[\"df\" + str(i)]['round'] == 5]['pgg_receive']))\n",
    "\n",
    "# print(all_pgg_5)"
   ]
  },
  {
   "cell_type": "code",
   "execution_count": 120,
   "metadata": {},
   "outputs": [],
   "source": [
    "# 計算：島主在round 5中pgg表現的顯著程度\n",
    "ratio_5 = [x/y for x, y in zip(dictator_pgg_5, all_pgg_5)]"
   ]
  },
  {
   "cell_type": "markdown",
   "metadata": {},
   "source": [
    "## The performance of the dictator in round 6"
   ]
  },
  {
   "cell_type": "code",
   "execution_count": 121,
   "metadata": {},
   "outputs": [],
   "source": [
    "# 取round 6的島主的pgg_receive\n",
    "dictator_pgg_6 = []\n",
    "for i in range(0, len(lst)):\n",
    "    dictator_pgg_6.append(globals()['df'+str(i)][globals()['df'+str(i)]['dictator'] == 1].iloc[5]['pgg_receive'])\n",
    "# print(dictator_pgg_6)"
   ]
  },
  {
   "cell_type": "code",
   "execution_count": 122,
   "metadata": {},
   "outputs": [],
   "source": [
    "# 取round 6的所有人的pgg_receive\n",
    "all_pgg_6 = []\n",
    "for i in range(0,len(lst)):\n",
    "    all_pgg_6.append(sum(globals()[\"df\" + str(i)][globals()[\"df\" + str(i)]['round'] == 6]['pgg_receive']))\n",
    "\n",
    "# print(all_pgg_6)"
   ]
  },
  {
   "cell_type": "code",
   "execution_count": 123,
   "metadata": {},
   "outputs": [],
   "source": [
    "# 計算：島主在round 6中pgg表現的顯著程度\n",
    "ratio_6 = [x/y for x, y in zip(dictator_pgg_6, all_pgg_6)]"
   ]
  },
  {
   "cell_type": "markdown",
   "metadata": {},
   "source": [
    "## The performance of the dictator in round 7"
   ]
  },
  {
   "cell_type": "code",
   "execution_count": 124,
   "metadata": {},
   "outputs": [],
   "source": [
    "# 取round 7的島主的pgg_receive\n",
    "dictator_pgg_7 = []\n",
    "for i in range(0, len(lst)):\n",
    "    dictator_pgg_7.append(globals()['df'+str(i)][globals()['df'+str(i)]['dictator'] == 1].iloc[6]['pgg_receive'])\n",
    "# print(dictator_pgg_7)"
   ]
  },
  {
   "cell_type": "code",
   "execution_count": 125,
   "metadata": {},
   "outputs": [],
   "source": [
    "# 取round 7的所有人的pgg_receive\n",
    "all_pgg_7 = []\n",
    "for i in range(0,len(lst)):\n",
    "    all_pgg_7.append(sum(globals()[\"df\" + str(i)][globals()[\"df\" + str(i)]['round'] == 7]['pgg_receive']))\n",
    "\n",
    "# print(all_pgg_7)"
   ]
  },
  {
   "cell_type": "code",
   "execution_count": 126,
   "metadata": {},
   "outputs": [],
   "source": [
    "# 計算：島主在round 7中pgg表現的顯著程度\n",
    "ratio_7 = [x/y for x, y in zip(dictator_pgg_7, all_pgg_7)]"
   ]
  },
  {
   "cell_type": "markdown",
   "metadata": {},
   "source": [
    "## The performance of the dictator in round 8"
   ]
  },
  {
   "cell_type": "code",
   "execution_count": 127,
   "metadata": {},
   "outputs": [],
   "source": [
    "# 取round 8的島主的pgg_receive\n",
    "dictator_pgg_8 = []\n",
    "for i in range(0, len(lst)):\n",
    "    dictator_pgg_8.append(globals()['df'+str(i)][globals()['df'+str(i)]['dictator'] == 1].iloc[7]['pgg_receive'])\n",
    "# print(dictator_pgg_8)"
   ]
  },
  {
   "cell_type": "code",
   "execution_count": 128,
   "metadata": {},
   "outputs": [],
   "source": [
    "# 取round 8的所有人的pgg_receive\n",
    "all_pgg_8 = []\n",
    "for i in range(0,len(lst)):\n",
    "    all_pgg_8.append(sum(globals()[\"df\" + str(i)][globals()[\"df\" + str(i)]['round'] == 8]['pgg_receive']))\n",
    "\n",
    "# print(all_pgg_8)"
   ]
  },
  {
   "cell_type": "code",
   "execution_count": 129,
   "metadata": {},
   "outputs": [],
   "source": [
    "# 計算：島主在round 8中pgg表現的顯著程度\n",
    "ratio_8 = [x/y for x, y in zip(dictator_pgg_8, all_pgg_8)]"
   ]
  },
  {
   "cell_type": "markdown",
   "metadata": {},
   "source": [
    "## The performance of the dictator in round 1-8"
   ]
  },
  {
   "cell_type": "code",
   "execution_count": 130,
   "metadata": {},
   "outputs": [],
   "source": [
    "df_RD = pd.DataFrame({\"group\": datlst, \"round 1\": ratio_1, \"round 2\": ratio_2, \"round 3\": ratio_3, \"round 4\": ratio_4, \"round 5\": ratio_5, \"round 6\": ratio_6, \"round 7\": ratio_7, \"round 8\": ratio_8})"
   ]
  },
  {
   "cell_type": "code",
   "execution_count": 131,
   "metadata": {},
   "outputs": [],
   "source": [
    "mean_RD = []\n",
    "mean_RD = df_RD[['round 1', 'round 2', 'round 3', 'round 4', 'round 5', 'round 6', 'round 7', 'round 8']].mean(1)"
   ]
  },
  {
   "cell_type": "code",
   "execution_count": 132,
   "metadata": {},
   "outputs": [
    {
     "data": {
      "text/plain": [
       "0     0.351946\n",
       "1     0.376221\n",
       "2     0.816342\n",
       "3     0.248377\n",
       "4     0.278953\n",
       "5     0.404714\n",
       "6     0.372217\n",
       "7     0.337477\n",
       "8     0.322116\n",
       "9     0.384881\n",
       "10    0.297334\n",
       "11    0.305601\n",
       "12    0.300999\n",
       "13    0.590420\n",
       "14    0.688576\n",
       "15    0.477934\n",
       "16    0.363824\n",
       "17    0.366085\n",
       "18    0.376907\n",
       "19    0.359727\n",
       "20    0.263792\n",
       "21    0.343555\n",
       "22    0.301487\n",
       "23    0.319366\n",
       "24    0.312498\n",
       "25    0.295337\n",
       "26    0.639062\n",
       "27    0.331183\n",
       "28    0.377430\n",
       "29    0.355247\n",
       "30    0.315314\n",
       "31    0.308532\n",
       "32    0.285902\n",
       "33    0.287542\n",
       "34    0.274382\n",
       "35    0.447518\n",
       "36    0.282857\n",
       "37    0.375384\n",
       "38    0.306394\n",
       "39    0.425599\n",
       "40    0.344613\n",
       "41    0.245667\n",
       "42    0.294819\n",
       "43    0.508372\n",
       "44    0.348332\n",
       "45    0.242463\n",
       "46    0.314030\n",
       "47    0.275929\n",
       "48    0.311131\n",
       "49    0.284097\n",
       "dtype: float64"
      ]
     },
     "execution_count": 132,
     "metadata": {},
     "output_type": "execute_result"
    }
   ],
   "source": [
    "mean_RD"
   ]
  },
  {
   "cell_type": "markdown",
   "metadata": {},
   "source": [
    "## The correlation"
   ]
  },
  {
   "cell_type": "code",
   "execution_count": 133,
   "metadata": {},
   "outputs": [],
   "source": [
    "df_cor = pd.DataFrame({\"ratio of round 1-8\":mean_RD,\"dislike\":dislike})"
   ]
  },
  {
   "cell_type": "code",
   "execution_count": 134,
   "metadata": {},
   "outputs": [],
   "source": [
    "# df_cor"
   ]
  },
  {
   "cell_type": "code",
   "execution_count": 135,
   "metadata": {},
   "outputs": [
    {
     "name": "stdout",
     "output_type": "stream",
     "text": [
      "The value of correlation is -0.46060535931918795 .\n"
     ]
    }
   ],
   "source": [
    "my_rho_1to8 = np.corrcoef(mean_RD, dislike)\n",
    "\n",
    "# print(my_rho)\n",
    "print(\"The value of correlation is\",my_rho_1to8[0][1],'.')"
   ]
  },
  {
   "cell_type": "markdown",
   "metadata": {},
   "source": [
    "## Visualization"
   ]
  },
  {
   "cell_type": "code",
   "execution_count": 148,
   "metadata": {},
   "outputs": [
    {
     "data": {
      "text/plain": [
       "Text(0, 0.5, 'The score of being liked of the dictator')"
      ]
     },
     "execution_count": 148,
     "metadata": {},
     "output_type": "execute_result"
    },
    {
     "data": {
      "image/png": "[encoded data removed]",
      "text/plain": [
       "<Figure size 432x288 with 1 Axes>"
      ]
     },
     "metadata": {
      "image/png": {
       "height": 277,
       "width": 447
      },
      "needs_background": "light"
     },
     "output_type": "display_data"
    }
   ],
   "source": [
    "ax_1to8 = sns.regplot(x= mean_RD, y=dislike, data=df_cor, ci=None)\n",
    "ax_1to8.set_title(\"The score of being liked of the dictator vs. The pgg_receive in round 1-8\")\n",
    "ax_1to8.set_xlabel(\"The ratio of pgg_receive of the dictator in round 1-8\")\n",
    "ax_1to8.set_ylabel(\"The score of being liked of the dictator\")"
   ]
  },
  {
   "cell_type": "markdown",
   "metadata": {},
   "source": [
    "# The correlation between round 1-10 and dislike "
   ]
  },
  {
   "cell_type": "code",
   "execution_count": 137,
   "metadata": {},
   "outputs": [],
   "source": [
    "ratio_1to10 = [(x*8+y*2)/10 for x, y in zip(mean_RD, ratio_910)]"
   ]
  },
  {
   "cell_type": "code",
   "execution_count": 138,
   "metadata": {},
   "outputs": [
    {
     "data": {
      "text/plain": [
       "[0.44796322116018084,\n",
       " 0.41455998265737204,\n",
       " 0.7630208456457468,\n",
       " 0.24640409246700162,\n",
       " 0.26766155605348463,\n",
       " 0.3571047719694599,\n",
       " 0.3875393912311673,\n",
       " 0.33408411819536055,\n",
       " 0.37630975006711737,\n",
       " 0.3851778419012765,\n",
       " 0.2878668593000686,\n",
       " 0.30073077752397126,\n",
       " 0.31030630799302567,\n",
       " 0.6288439425589271,\n",
       " 0.7471636363636364,\n",
       " 0.5732558971143952,\n",
       " 0.35607040170868093,\n",
       " 0.3878895124442299,\n",
       " 0.40186985756751437,\n",
       " 0.48778121181219347,\n",
       " 0.27467764427850916,\n",
       " 0.32777209354731635,\n",
       " 0.2937299866515116,\n",
       " 0.30930852637457606,\n",
       " 0.32333188949104674,\n",
       " 0.2898409217488165,\n",
       " 0.6582594200067259,\n",
       " 0.323072019109724,\n",
       " 0.35730943072436006,\n",
       " 0.36374121000550697,\n",
       " 0.304062907820945,\n",
       " 0.2984184067150748,\n",
       " 0.3537216317423481,\n",
       " 0.3445632875238109,\n",
       " 0.29522725044950343,\n",
       " 0.45532850598846675,\n",
       " 0.29087287900080816,\n",
       " 0.4451344645137748,\n",
       " 0.30990957436610694,\n",
       " 0.425479939832336,\n",
       " 0.4034678430517162,\n",
       " 0.24223262256943726,\n",
       " 0.31085536304494993,\n",
       " 0.5241841346918434,\n",
       " 0.33699917763928705,\n",
       " 0.2269066592293895,\n",
       " 0.3415310852850888,\n",
       " 0.2759967165497525,\n",
       " 0.29890459085927085,\n",
       " 0.35480896420690644]"
      ]
     },
     "execution_count": 138,
     "metadata": {},
     "output_type": "execute_result"
    }
   ],
   "source": [
    "ratio_1to10"
   ]
  },
  {
   "cell_type": "markdown",
   "metadata": {},
   "source": [
    "## The correlation"
   ]
  },
  {
   "cell_type": "code",
   "execution_count": 139,
   "metadata": {},
   "outputs": [
    {
     "name": "stdout",
     "output_type": "stream",
     "text": [
      "The value of correlation is -0.5910820136013083 .\n"
     ]
    }
   ],
   "source": [
    "my_rho_1to10 = np.corrcoef(ratio_1to10, dislike)\n",
    "\n",
    "# print(my_rho)\n",
    "print(\"The value of correlation is\",my_rho_1to10[0][1],'.')"
   ]
  },
  {
   "cell_type": "markdown",
   "metadata": {},
   "source": [
    "## Visualization"
   ]
  },
  {
   "cell_type": "code",
   "execution_count": 150,
   "metadata": {},
   "outputs": [],
   "source": [
    "df_1to10 = pd.DataFrame({\"round 1-10\": ratio_1to10, \"dislike\":dislike})"
   ]
  },
  {
   "cell_type": "code",
   "execution_count": 151,
   "metadata": {},
   "outputs": [
    {
     "data": {
      "text/plain": [
       "Text(0, 0.5, 'The score of being liked of the dictator')"
      ]
     },
     "execution_count": 151,
     "metadata": {},
     "output_type": "execute_result"
    },
    {
     "data": {
      "image/png": "[encoded data removed]",
      "text/plain": [
       "<Figure size 432x288 with 1 Axes>"
      ]
     },
     "metadata": {
      "image/png": {
       "height": 277,
       "width": 454
      },
      "needs_background": "light"
     },
     "output_type": "display_data"
    }
   ],
   "source": [
    "ax_1to10 = sns.regplot(x= ratio_1to10, y=dislike, data=df_1to10, ci=None)\n",
    "ax_1to10.set_title(\"The score of being liked of the dictator vs. The pgg_receive in round 1-10\")\n",
    "ax_1to10.set_xlabel(\"The ratio of pgg_receive of the dictator in round 1-10\")\n",
    "ax_1to10.set_ylabel(\"The score of being liked of the dictator\")"
   ]
  },
  {
   "cell_type": "markdown",
   "metadata": {},
   "source": [
    "# The correlation between round 10 and round 1-8"
   ]
  },
  {
   "cell_type": "markdown",
   "metadata": {},
   "source": [
    "## The correlation"
   ]
  },
  {
   "cell_type": "code",
   "execution_count": 145,
   "metadata": {},
   "outputs": [
    {
     "name": "stdout",
     "output_type": "stream",
     "text": [
      "The value of correlation is 0.3787139594858528 .\n"
     ]
    }
   ],
   "source": [
    "rho = np.corrcoef(ratio_10, mean_RD)\n",
    "\n",
    "# print(my_rho)\n",
    "print(\"The value of correlation is\",rho[0][1],'.')"
   ]
  },
  {
   "cell_type": "markdown",
   "metadata": {},
   "source": [
    "## Visualization"
   ]
  },
  {
   "cell_type": "code",
   "execution_count": 141,
   "metadata": {},
   "outputs": [],
   "source": [
    "dat = pd.DataFrame({'round 1-8': mean_RD, 'round 10': ratio_10})"
   ]
  },
  {
   "cell_type": "code",
   "execution_count": 143,
   "metadata": {},
   "outputs": [
    {
     "data": {
      "text/plain": [
       "Text(0, 0.5, 'The ratio of pgg_receive of the dictator in round 10')"
      ]
     },
     "execution_count": 143,
     "metadata": {},
     "output_type": "execute_result"
    },
    {
     "data": {
      "image/png": "[encoded data removed]",
      "text/plain": [
       "<Figure size 432x288 with 1 Axes>"
      ]
     },
     "metadata": {
      "image/png": {
       "height": 282,
       "width": 386
      },
      "needs_background": "light"
     },
     "output_type": "display_data"
    }
   ],
   "source": [
    "plt = sns.regplot(x = mean_RD, y = ratio_10, data=dat, ci=None)\n",
    "plt.set_xlabel(\"The ratio of pgg_receive of the dictator in round 1-8\")\n",
    "plt.set_ylabel(\"The ratio of pgg_receive of the dictator in round 10\")"
   ]
  },
  {
   "cell_type": "code",
   "execution_count": null,
   "metadata": {},
   "outputs": [],
   "source": []
  }
 ],
 "metadata": {
  "kernelspec": {
   "display_name": "Python 3",
   "language": "python",
   "name": "python3"
  },
  "language_info": {
   "codemirror_mode": {
    "name": "ipython",
    "version": 3
   },
   "file_extension": ".py",
   "mimetype": "text/x-python",
   "name": "python",
   "nbconvert_exporter": "python",
   "pygments_lexer": "ipython3",
   "version": "3.8.2"
  },
  "toc": {
   "base_numbering": 1,
   "nav_menu": {},
   "number_sections": true,
   "sideBar": true,
   "skip_h1_title": false,
   "title_cell": "Table of Contents",
   "title_sidebar": "Contents",
   "toc_cell": false,
   "toc_position": {
    "height": "calc(100% - 180px)",
    "left": "10px",
    "top": "150px",
    "width": "293px"
   },
   "toc_section_display": true,
   "toc_window_display": true
  }
 },
 "nbformat": 4,
 "nbformat_minor": 4
}
